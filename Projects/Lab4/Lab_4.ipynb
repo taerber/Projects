{
 "cells": [
  {
   "cell_type": "markdown",
   "metadata": {},
   "source": [
    "DSCI 352 Tara Erberich Student ID: 9237580532"
   ]
  },
  {
   "cell_type": "markdown",
   "metadata": {},
   "source": [
    "1a\n",
    "Download the YouTube Spam Collection data set. We will mainly work with\n",
    "the Eminem file. Note that the chronological order of the comments were kept. (0 = ham & 1 = spam)\n",
    "(5 pts)"
   ]
  },
  {
   "cell_type": "code",
   "execution_count": 311,
   "metadata": {
    "scrolled": true
   },
   "outputs": [],
   "source": [
    "import pandas as pd\n",
    "import numpy as np\n",
    "from sklearn.feature_extraction.text import TfidfVectorizer\n",
    "from sklearn import linear_model, datasets\n",
    "from sklearn.model_selection import GridSearchCV\n",
    "from sklearn import metrics\n",
    "from sklearn.metrics import confusion_matrix, roc_auc_score, roc_curve, confusion_matrix, classification_report  \n",
    "import statsmodels.api as sm\n",
    "import matplotlib.pyplot as plt\n",
    "from sklearn.metrics import fbeta_score\n",
    "from sklearn.naive_bayes import GaussianNB\n",
    "\n",
    "\n",
    "\n",
    "# read in data\n",
    "data = pd.read_csv('YouTube-Spam-Collection-v1/Youtube04-Eminem.csv')\n",
    "\n",
    "\n",
    "#print(data['CONTENT'].tolist())\n",
    "#print(data['CLASS'])"
   ]
  },
  {
   "cell_type": "markdown",
   "metadata": {},
   "source": [
    "1c Represent each comment using TF-IDF features. Consider each comment a document and the whole set of comments in the file (e.g. Eminem) as the corpus. Do NOT remove stop words.(10 pts)"
   ]
  },
  {
   "cell_type": "code",
   "execution_count": 312,
   "metadata": {},
   "outputs": [
    {
     "name": "stdout",
     "output_type": "stream",
     "text": [
      "['00', '000', '047000', '09', '10', '100', '1000', '100877300245414', '11', '12', '12year', '1337', '14', '15', '16', '17', '17yr', '18', '19', '1990', '1b', '1billion', '200', '2005', '2008', '200k', '2010', '2013', '2014', '2015', '21', '23', '23active', '23awesome', '23eminem', '23king', '23lovethewayyoulie', '23rapgod', '23rt', '23share', '25', '26', '26t22', '28', '2asfn9shghk', '2b4wywphi8c', '2nd', '2zme8f', '30', '31st', '365', '36loseweight', '39', '3rd', '4000', '4000dollars', '41', '43', '447935454150', '45', '46', '476000', '482', '490', '4e', '4th', '50', '500', '500k', '5tu9gn1l310', '60', '600', '600m', '613000', '6_h0m5sayho', '710000', '7k', '800', '832000', '857', '87', '90', '940', 'abbas', 'ablaze', 'about', 'above', 'absolutely', 'abuse', 'abuses', 'abusive', 'abusue', 'acaer', 'acceptance', 'accidental', 'accomplished', 'achieve', 'across', 'act', 'activates', 'active', 'actual', 'actually', 'ad', 'adam', 'adapt', 'adhoc', 'admitting', 'adult', 'advance', 'advertise', 'advertisements', 'afraid', 'aftermath', 'again', 'ago', 'agree', 'agreeable', 'aimbwbfqbzg', 'album', 'alcoholic', 'alfred', 'ali', 'alive', 'all', 'almost', 'aloidia', 'already', 'alright', 'also', 'always', 'am', 'amazing', 'amazon', 'american', 'amount', 'amp', 'an', 'analyst', 'and', 'andrew', 'animal', 'annoying', 'annoys', 'answer', 'anxious', 'any', 'anybody', 'anyone', 'apologies', 'appreciate', 'appreciated', 'are', 'arkglzjqup0', 'arrowgance', 'artist', 'as', 'ask', 'asking', 'aslamu', 'aspiring', 'ass', 'astauand', 'aswell', 'at', 'attacks', 'attention', 'audio', 'australia', 'authenticviews', 'authority', 'awards', 'aware', 'away', 'awesome', 'awesoooome', 'axiomatic', 'aye', 'ayyy', 'azerbaijan', 'back', 'bad', 'bands', 'bangladesh', 'bars', 'base', 'basically', 'basketball', 'bastard', 'be', 'beat', 'beating', 'beats', 'beautiful', 'because', 'become', 'been', 'before', 'behind', 'being', 'belgium', 'believe', 'belle', 'belrus', 'berzerk', 'besloor', 'best', 'better', 'between', 'beware', 'bieber', 'big', 'bigelow', 'billion', 'bit', 'bite', 'black', 'blast', 'bless', 'blogspot', 'blows', 'blushing', 'boaconic', 'bocilile', 'book', 'bored', 'bottom', 'bout', 'boy', 'boyfriend', 'boys', 'br', 'brand', 'brazil', 'breaken', 'breaks', 'breath', 'briefs', 'bring', 'bringing', 'brings', 'broken', 'brother', 'brutally', 'btw', 'buchmair', 'build', 'bulgaria', 'burst', 'business', 'busyglide', 'but', 'button', 'buys', 'bxrosr', 'by', 'called', 'came', 'can', 'canibus', 'canvas', 'case', 'catch', 'categories', 'cause', 'cazzy', 'celeb', 'cent', 'certain', 'challenge', 'chance', 'chanel', 'changeable', 'channel', 'chanson', 'charley', 'charlie', 'charlieee', 'chcfcvzfzfbvzdr', 'cheat', 'cheating', 'cheats', 'check', 'cheetos', 'cheilith', 'chesture', 'children', 'chillpal', 'choice', 'chooses', 'chorenn', 'chrck', 'christmas', 'chubby', 'claire', 'class', 'classsic', 'claster', 'clean', 'click', 'clip', 'close', 'closer', 'coffee', 'cold', 'collaboration', 'collection', 'columbus', 'column', 'com', 'come', 'comeback', 'comeing', 'coming', 'comment', 'comments', 'commit', 'commment', 'competition', 'computer', 'congratulations', 'conscious', 'constructive', 'conveying', 'cook', 'cool', 'cope', 'could', 'countless', 'country', 'counts', 'cover', 'covered', 'covers', 'crabby', 'crap', 'crazy', 'cried', 'crimes', 'criminals', 'criticism', 'critisism', 'croatia', 'crown', 'crush', 'cruz', 'cry', 'cudi', 'current', 'cypher', 'cyphers', 'cyrus', 'dad', 'daily', 'dakoda', 'dakota', 'damn', 'dance', 'dante', 'dated', 'day', 'days', 'dddd', 'deaf', 'death', 'deathly', 'deazy99', 'decent', 'dedicated', 'deep', 'definitely', 'del', 'delicate', 'delicious', 'delightful', 'depreciateds', 'depressed', 'derives', 'deserves', 'desire', 'details', 'devils', 'did', 'didn', 'didnt', 'die', 'disappoint', 'disclose', 'discount', 'disguise', 'disorder', 'distribution', 'dna', 'do', 'does', 'doesn', 'doesnt', 'doing', 'dollars', 'domestic', 'don', 'done', 'dongs', 'dont', 'dope', 'down', 'download', 'dragons', 'drake', 'dream', 'dreams', 'dress', 'drews', 'drirathiel', 'driveshaft', 'drop', 'drugs', 'dude', 'dundundunnn', 'duo', 'dysfunctional', 'eager', 'earned', 'earns', 'easy', 'eat', 'eating', 'economic', 'edit', 'effect', 'eggmode', 'either', 'elevator', 'else', 'em', 'emi', 'eminem', 'eminems', 'eminen', 'eminmem', 'emotions', 'encouraging', 'end', 'ended', 'ends', 'energy', 'english', 'enjoy', 'enough', 'enter', 'entertainment', 'entertains', 'ep', 'equipment', 'españa', 'especially', 'et', 'ethosien', 'eu', 'even', 'ever', 'every', 'everybody', 'everyday', 'everyone', 'everything', 'evil', 'ex', 'exactly', 'example', 'excellent', 'exciting', 'exclusive', 'exist', 'exode', 'expansion', 'exposes', 'exposure', 'extraordinary', 'fabricates', 'facebook', 'facilitate', 'fact', 'fair', 'false', 'fame', 'famous', 'fan', 'fans', 'fantasy', 'far', 'farrell', 'fashion', 'fast', 'fated', 'fav', 'favor', 'favorite', 'favour', 'favourite', 'fb', 'feandra', 'fears', 'feature', 'featuring', 'feed', 'feedback', 'feel', 'feelin', 'feeling', 'feels', 'females', 'feminist', 'ferirama', 'few', 'fgw', 'fictional', 'fighting', 'filled', 'finally', 'find', 'fire', 'firepa', 'firms', 'first', 'five', 'flaming', 'flight', 'flimsy', 'flow', 'follow', 'followers', 'following', 'for', 'forever', 'forgot', 'fort', 'found', 'four', 'foward', 'fox', 'frame', 'freaking', 'free', 'freedom', 'freestyles', 'fresh', 'friend', 'friends', 'from', 'fruits', 'ft', 'ftw', 'fuck', 'fucking', 'fuffapster', 'full', 'fullest', 'funny', 'fyi', 'gabby', 'gained', 'game', 'gameplay', 'gangnam', 'gave', 'gay', 'geeze', 'george', 'get', 'gets', 'getting', 'ghostpoet100', 'ginius', 'girl', 'girlfriend', 'girls', 'give', 'gives', 'gl', 'glozzom', 'go', 'goal', 'goals', 'god', 'gogopo', 'going', 'gone', 'gonna', 'goo', 'good', 'google', 'goot', 'gorg', 'gorgeous', 'got', 'great', 'greatest', 'greatly', 'green', 'groups', 'growing', 'grynn', 'gt', 'gta', 'guasch', 'guss', 'guy', 'guys', 'hack', 'hack2013', 'hacking', 'had', 'haha', 'hahah', 'hahahahah', 'hair', 'hairstyles', 'half', 'hallows', 'hand', 'handsome', 'happen', 'happy', 'harbor', 'hard', 'harry', 'harts', 'has', 'hashtag', 'hate', 'haters', 'have', 'hay', 'he', 'head', 'health', 'hear', 'heard', 'heart', 'heartbreaking', 'hell', 'hello', 'help', 'helped', 'helpful', 'helping', 'helpless', 'helps', 'her', 'here', 'hermann', 'heroin', 'hes', 'hey', 'hi', 'high', 'higher', 'hilarious', 'him', 'hioffpo', 'hip', 'hiphop', 'his', 'history', 'hit', 'hog', 'hollywood', 'holy', 'home', 'homies', 'honesty', 'hood', 'hop', 'hope', 'hopes', 'hoping', 'hoppler', 'horrific', 'hot', 'hotter', 'hottest', 'house', 'how', 'href', 'http', 'https', 'huh', 'humor', 'hurts', 'husbands', 'husky', 'hyuck', 'ideas', 'idiotic', 'idol', 'if', 'igblast', 'ignorant', 'ignore', 'ii', 'ill', 'illustrate', 'im', 'imagine', 'imma', 'imperfect', 'improve', 'improves', 'in', 'inbox', 'including', 'increase', 'industry', 'ini', 'ink', 'innocent', 'insane', 'insanity', 'inside', 'insidious', 'insperasen', 'inspiration', 'inspire', 'instagram', 'intelligence', 'intelligent', 'internet', 'intervene', 'into', 'invest', 'is', 'island', 'isn', 'isnt', 'it', 'its', 'ive', 'jackson', 'jail', 'jam', 'january', 'jelly', 'jlimvuth', 'johackle', 'john', 'journey', 'jovaphile', 'judges', 'juss', 'just', 'justin', 'justing', 'keen', 'keep', 'keithlinscotts', 'khalifa', 'kid', 'kids', 'kill', 'killed', 'killtheclockhd', 'kinda', 'king', 'kingston', 'know', 'knowledge', 'known', 'kpopcity', 'krean', 'ladies', 'lake', 'lana', 'lane', 'language', 'largest', 'lasting', 'latest', 'latinoamerica', 'laugh', 'laughable', 'law', 'leandrus', 'learned', 'learning', 'least', 'leave', 'left', 'legit', 'lemme', 'less', 'let', 'letter', 'letting', 'level', 'lie', 'liers', 'lies', 'life', 'lift', 'like', 'likes', 'lil', 'limit', 'line', 'link', 'linked', 'linz', 'listen', 'listening', 'little', 'live', 'lively', 'lives', 'living', 'll', 'lneadw26bfst76vhkjl8pxaey6vmnlvmriudtsfk6vy', 'lneadw26bft', 'lneadw26bftvzqt6juehasiefrjg1exi_dvqdnqvpho', 'lneadw26bfunoarag71awgu6tjo6azdkfiun_tz1_hy', 'lneadw26bfvkahxpkenm25fywkyxthsupri6juqsznu', 'loads', 'locobot', 'lol', 'london', 'long', 'longer', 'look', 'looking', 'looks', 'looooved', 'looplab', 'losing', 'loss', 'lost', 'lot', 'loud', 'lova', 'love', 'lovely', 'lover', 'lovers', 'loves', 'lovet', 'lovethewayyoulie', 'loving', 'lt', 'luck', 'lucky', 'lulerain', 'lunden', 'luv', 'luxuriant', 'lv', 'ly', 'lykum', 'lyric', 'lyrical', 'lyrically', 'lyricism', 'lyrics', 'macho', 'macklemore', 'made', 'magnificent', 'mail', 'mainstream', 'make', 'makeing', 'makes', 'making', 'mammoth', 'man', 'manager', 'many', 'master', 'may', 'maybe', 'mcashim', 'me', 'mean', 'means', 'meaty', 'media', 'medication', 'megan', 'meghan', 'memories', 'memory', 'mere', 'message', 'metal', 'method', 'mexico', 'mic', 'mice', 'micheal', 'might', 'mile', 'miley', 'million', 'millions', 'min', 'mind', 'mine', 'minute', 'minutes', 'mirror', 'miss', 'missing', 'mission', 'misty', 'mix', 'mixing', 'mizuxe', 'mmlp2', 'mmph', 'mockingbird', 'moderock', 'modgone', 'mogotrevo', 'molly', 'moly', 'mom', 'moment', 'moments', 'money', 'moneygq', 'monster', 'monstrous', 'month', 'months', 'moon', 'more', 'mosh', 'most', 'mother', 'motivate', 'mountain', 'msg', 'much', 'muhammad', 'mummy', 'music', 'musician', 'must', 'muzik', 'my', 'myself', 'mê', 'nalpure', 'name', 'named', 'naperone', 'narrow', 'nation', 'near', 'nearly', 'need', 'nelson', 'nem', 'net', 'never', 'new', 'news', 'next', 'nice', 'nicei', 'nicer', 'niko', 'nirvana', 'no', 'nobody', 'nofollow', 'noise', 'noodile', 'normal', 'not', 'nothing', 'notice', 'noticed', 'notorious', 'now', 'noxu', 'number', 'nxk32i0hkds', 'ociramma', 'od', 'of', 'off', 'officiates', 'oh', 'oil', 'okay', 'old', 'oleald', 'olielle', 'omg', 'omniscient', 'on', 'one', 'onece', 'ones', 'online', 'only', 'operating', 'operation', 'opinion', 'opportunity', 'or', 'order', 'oreo', 'original', 'ot', 'other', 'others', 'otoufj0z3vfflfnaxykwzsivqhimx', 'our', 'out', 'over', 'ow', 'own', 'page', 'pages', 'pakistan', 'palastine', 'paper', 'paragraph', 'parede', 'part', 'pass', 'passed', 'passion', 'passionate', 'password', 'past', 'paša', 'pc', 'peace', 'pen', 'penny', 'people', 'pepelexa', 'per', 'perfect', 'perform', 'performance', 'performing', 'perpetrated', 'person', 'personally', 'phenomenallyricshere', 'photo', 'photograph', 'picked', 'picture', 'piece', 'pimpmyviews', 'pink', 'pisses', 'place', 'planet', 'plant', 'play', 'player', 'playlist', 'playtime', 'please', 'pleasure', 'plese', 'plifal', 'ploosnar', 'pls', 'plus', 'plz', 'plzz', 'pmw', 'pn', 'pointers', 'police', 'polish', 'pop', 'popular', 'possible', 'post', 'potential', 'potter', 'pour', 'power', 'press', 'prevent', 'prioritize', 'probable', 'probably', 'produced', 'producer', 'professionally', 'professor', 'promise', 'protect', 'protective', 'prove', 'psy', 'public', 'pun', 'push', 'pussy', 'put', 'qerrassa', 'qiameth', 'quadrillion', 'quality', 'quickest', 'quite', 'quot', 'rage', 'range', 'rants', 'rap', 'rape', 'rapgod', 'rapped', 'rapper', 'rappers', 'rapping', 'rate', 're', 'reach', 'read', 'reading', 'ready', 'real', 'realized', 'really', 'realtionship', 'received', 'recentley', 'recently', 'record', 'recording', 'recovery', 'red', 'reduce', 'refers', 'reflective', 'regret', 'rehabilitate', 'reiltas', 'rel', 'relate', 'relationship', 'released', 'remember', 'reminds', 'reminiscent', 'remix', 'remixes', 'render', 'repair', 'report', 'resort', 'response', 'responsible', 'retain', 'retards', 'retrieve', 'reviews', 'rey', 'rhianna', 'rhinnah', 'rhymes', 'rhythm', 'right', 'rihana', 'rihanna', 'riled', 'riri', 'road', 'roasted', 'rock', 'rocks', 'roll', 'roulette', 'round', 'rt', 'rule', 'ryhme', 'ryme', 'sad', 'sadly', 'said', 'same', 'samurman', 'sasaroo', 'sassy', 'saw', 'say', 'sayin', 'scale', 'scare', 'scintillating', 'scitenoa', 'screwing', 'sean', 'search', 'searchs', 'second', 'seconds', 'secret', 'see', 'selection', 'self', 'sense', 'senses', 'september', 'serious', 'seriously', 'sertave', 'serving', 'set', 'several', 'sexual', 'sexy', 'shady', 'shaeel', 'shallow', 'shame', 'share', 'shared', 'shares', 'she', 'shes', 'shit', 'shock', 'shorogyt', 'short', 'should', 'show', 'sick', 'signed', 'similar', 'simple', 'simply', 'since', 'sing', 'singer', 'single', 'singlewave', 'sinpad', 'sirius', 'sister', 'site', 'skill', 'skills', 'skip', 'skits', 'skizzle', 'sky', 'skylar', 'sleeping', 'slimy', 'slip', 'smack', 'smaller', 'smile', 'smoke', 'smoking', 'sneakiestg', 'sneeze', 'so', 'software', 'soldiers', 'some', 'someone', 'something', 'sometime', 'somewhere', 'song', 'songs', 'soo', 'soon', 'sooo', 'sooooooooooooooo', 'sophisticated', 'sore', 'sorry', 'sounds', 'space', 'spam', 'spammed', 'spammers', 'spamming', 'spare', 'speaks', 'special', 'speech', 'spell', 'spent', 'spirits', 'spit', 'spourmo', 'spousal', 'srilanka', 'stand', 'stars', 'start', 'started', 'starting', 'stay', 'steel', 'stereotyped', 'still', 'stop', 'store', 'sttuupid', 'student', 'stuff', 'sturdy', 'style', 'sub', 'subcribe', 'subs', 'subscribe', 'subscribed', 'subscribee', 'subscriber', 'subscribers', 'subscribing', 'subscrible', 'subscription', 'substantial', 'successful', 'such', 'suck', 'suicide', 'supat', 'super', 'supper', 'support', 'supporters', 'sure', 'surpassing', 'surveys', 'survival', 'swag', 'swamp', 'swear', 'swift', 'swooflia', 'swoquix', 'symptomatic', 'synthesizes', 'system', 'take', 'takes', 'taking', 'talent', 'talents', 'talk', 'talking', 'tape', 'target', 'tax', 'taylor', 'tde', 'tears', 'tell', 'tendency', 'terrance', 'texas', 'thailand', 'than', 'thank', 'thankfully', 'thanks', 'thanx', 'that', 'thats', 'the', 'the1fantasy', 'their', 'them', 'then', 'there', 'therealchrisking1', 'these', 'they', 'thing', 'things', 'think', 'thirsty', 'this', 'those', 'thou', 'though', 'thought', 'thru', 'thumb', 'thumbs', 'thundering', 'time', 'times', 'title', 'titled', 'to', 'today', 'together', 'told', 'tomorrow', 'tony', 'too', 'toogit', 'took', 'top', 'touch', 'towered', 'toximble', 'toy', 'track', 'tracks', 'trailer', 'train', 'transmit', 'treating', 'trelod', 'trends', 'tried', 'trigger', 'trop', 'true', 'truly', 'trust', 'try', 'trying', 'tryna', 'tube', 'tupacase', 'turned', 'tv', 'tvcmcadavid', 'twitter', 'two', 'tyga', 'type', 'uk', 'unbiased', 'uncovered', 'underground', 'understand', 'undesirable', 'unelind', 'unequaled', 'unstoppable', 'untitled', 'up', 'upcoming', 'upgrade', 'upload', 'uploaded', 'uppity', 'us', 'used', 'useless', 'user', 'usually', 'valuable', 'value', 've', 'vegetables', 'verse', 'verses', 'version', 'very', 'vi', 'victorious', 'vid', 'video', 'videos', 'view', 'views', 'vincent', 'vines', 'violence', 'viral', 'virus', 'visit', 'voice', 'vote', 'votre', 'vulnerable', 'w6gkm', 'wages', 'walk', 'wanna', 'want', 'wanted', 'wants', 'war', 'waratel', 'warning', 'was', 'wasn', 'waste', 'wastin', 'wasting', 'watch', 'watched', 'watching', 'wavefire', 'way', 'ways', 'wazzasoft', 'we', 'weak', 'website', 'weebly', 'weekend', 'weight', 'welcome', 'well', 'were', 'what', 'wheels', 'when', 'where', 'while', 'whistleblower', 'white', 'whiz', 'who', 'whole', 'why', 'wife', 'will', 'win', 'wind', 'wiry', 'wish', 'wited', 'with', 'within', 'without', 'witnesss', 'woman', 'women', 'won', 'wonder', 'wonderful', 'wont', 'wood', 'woozy', 'word', 'work', 'worked', 'working', 'works', 'world', 'worries', 'worst', 'worthless', 'would', 'wouldnt', 'wow', 'wright', 'write', 'writing', 'wrote', 'wtf', 'wtp', 'wwhore', 'www', 'xd', 'xny2m', 'xoxo', 'xxx', 'xytcq5nzmua', 'ya', 'yahoo', 'yall', 'yboiveth', 'yeah', 'year', 'years', 'yesterday', 'yfuy4gkr1c', 'yo', 'yoffa', 'you', 'young', 'your', 'yourself', 'youtu', 'youtube', 'youtuber', 'youtubers', 'yrs', 'ytma', 'yuliya', 'yuttx04oyqq', 'zesty', 'zip', 'zonepa']\n",
      "(448, 1602)\n"
     ]
    }
   ],
   "source": [
    "# Vectorize all the data\n",
    "\n",
    "vectorizer = TfidfVectorizer()\n",
    "x = vectorizer.fit_transform(data['CONTENT'])\n",
    "print(vectorizer.get_feature_names())\n",
    "print(x.shape)\n",
    "x2 = pd.DataFrame(x.toarray())\n",
    "\n"
   ]
  },
  {
   "cell_type": "markdown",
   "metadata": {},
   "source": [
    "1b\n",
    "Select the first [0.8H] of H hams and the first [0.8S] of S spams as your training set and the rest as your test set. (10 pts)"
   ]
  },
  {
   "cell_type": "code",
   "execution_count": 321,
   "metadata": {},
   "outputs": [
    {
     "name": "stdout",
     "output_type": "stream",
     "text": [
      "     0     1     2     3     4     5         6     7     8     9     ...  \\\n",
      "370   0.0   0.0   0.0   0.0   0.0   0.0  0.000000   0.0   0.0   0.0  ...   \n",
      "371   0.0   0.0   0.0   0.0   0.0   0.0  0.000000   0.0   0.0   0.0  ...   \n",
      "374   0.0   0.0   0.0   0.0   0.0   0.0  0.000000   0.0   0.0   0.0  ...   \n",
      "381   0.0   0.0   0.0   0.0   0.0   0.0  0.000000   0.0   0.0   0.0  ...   \n",
      "385   0.0   0.0   0.0   0.0   0.0   0.0  0.000000   0.0   0.0   0.0  ...   \n",
      "..    ...   ...   ...   ...   ...   ...       ...   ...   ...   ...  ...   \n",
      "440   0.0   0.0   0.0   0.0   0.0   0.0  0.000000   0.0   0.0   0.0  ...   \n",
      "442   0.0   0.0   0.0   0.0   0.0   0.0  0.000000   0.0   0.0   0.0  ...   \n",
      "443   0.0   0.0   0.0   0.0   0.0   0.0  0.000000   0.0   0.0   0.0  ...   \n",
      "444   0.0   0.0   0.0   0.0   0.0   0.0  0.000000   0.0   0.0   0.0  ...   \n",
      "445   0.0   0.0   0.0   0.0   0.0   0.0  0.113348   0.0   0.0   0.0  ...   \n",
      "\n",
      "     1592  1593  1594      1595  1596  1597  1598  1599  1600  1601  \n",
      "370   0.0   0.0   0.0  0.000000   0.0   0.0   0.0   0.0   0.0   0.0  \n",
      "371   0.0   0.0   0.0  0.000000   0.0   0.0   0.0   0.0   0.0   0.0  \n",
      "374   0.0   0.0   0.0  0.000000   0.0   0.0   0.0   0.0   0.0   0.0  \n",
      "381   0.0   0.0   0.0  0.000000   0.0   0.0   0.0   0.0   0.0   0.0  \n",
      "385   0.0   0.0   0.0  0.000000   0.0   0.0   0.0   0.0   0.0   0.0  \n",
      "..    ...   ...   ...       ...   ...   ...   ...   ...   ...   ...  \n",
      "440   0.0   0.0   0.0  0.000000   0.0   0.0   0.0   0.0   0.0   0.0  \n",
      "442   0.0   0.0   0.0  0.000000   0.0   0.0   0.0   0.0   0.0   0.0  \n",
      "443   0.0   0.0   0.0  0.000000   0.0   0.0   0.0   0.0   0.0   0.0  \n",
      "444   0.0   0.0   0.0  0.000000   0.0   0.0   0.0   0.0   0.0   0.0  \n",
      "445   0.0   0.0   0.0  0.113348   0.0   0.0   0.0   0.0   0.0   0.0  \n",
      "\n",
      "[90 rows x 1602 columns] 370    0\n",
      "371    0\n",
      "374    0\n",
      "381    0\n",
      "385    0\n",
      "      ..\n",
      "440    1\n",
      "442    1\n",
      "443    1\n",
      "444    1\n",
      "445    1\n",
      "Name: CLASS, Length: 90, dtype: int64\n",
      "     0     1     2     3     4     5     6     7     8     9     ...  1592  \\\n",
      "1     0.0   0.0   0.0   0.0   0.0   0.0   0.0   0.0   0.0   0.0  ...   0.0   \n",
      "3     0.0   0.0   0.0   0.0   0.0   0.0   0.0   0.0   0.0   0.0  ...   0.0   \n",
      "5     0.0   0.0   0.0   0.0   0.0   0.0   0.0   0.0   0.0   0.0  ...   0.0   \n",
      "7     0.0   0.0   0.0   0.0   0.0   0.0   0.0   0.0   0.0   0.0  ...   0.0   \n",
      "9     0.0   0.0   0.0   0.0   0.0   0.0   0.0   0.0   0.0   0.0  ...   0.0   \n",
      "..    ...   ...   ...   ...   ...   ...   ...   ...   ...   ...  ...   ...   \n",
      "337   0.0   0.0   0.0   0.0   0.0   0.0   0.0   0.0   0.0   0.0  ...   0.0   \n",
      "338   0.0   0.0   0.0   0.0   0.0   0.0   0.0   0.0   0.0   0.0  ...   0.0   \n",
      "340   0.0   0.0   0.0   0.0   0.0   0.0   0.0   0.0   0.0   0.0  ...   0.0   \n",
      "342   0.0   0.0   0.0   0.0   0.0   0.0   0.0   0.0   0.0   0.0  ...   0.0   \n",
      "343   0.0   0.0   0.0   0.0   0.0   0.0   0.0   0.0   0.0   0.0  ...   0.0   \n",
      "\n",
      "     1593  1594  1595  1596  1597      1598  1599  1600  1601  \n",
      "1     0.0   0.0   0.0   0.0   0.0  0.000000   0.0   0.0   0.0  \n",
      "3     0.0   0.0   0.0   0.0   0.0  0.000000   0.0   0.0   0.0  \n",
      "5     0.0   0.0   0.0   0.0   0.0  0.000000   0.0   0.0   0.0  \n",
      "7     0.0   0.0   0.0   0.0   0.0  0.000000   0.0   0.0   0.0  \n",
      "9     0.0   0.0   0.0   0.0   0.0  0.000000   0.0   0.0   0.0  \n",
      "..    ...   ...   ...   ...   ...       ...   ...   ...   ...  \n",
      "337   0.0   0.0   0.0   0.0   0.0  0.000000   0.0   0.0   0.0  \n",
      "338   0.0   0.0   0.0   0.0   0.0  0.579294   0.0   0.0   0.0  \n",
      "340   0.0   0.0   0.0   0.0   0.0  0.000000   0.0   0.0   0.0  \n",
      "342   0.0   0.0   0.0   0.0   0.0  0.000000   0.0   0.0   0.0  \n",
      "343   0.0   0.0   0.0   0.0   0.0  0.000000   0.0   0.0   0.0  \n",
      "\n",
      "[358 rows x 1602 columns] 1      0\n",
      "3      0\n",
      "5      0\n",
      "7      0\n",
      "9      0\n",
      "      ..\n",
      "337    1\n",
      "338    1\n",
      "340    1\n",
      "342    1\n",
      "343    1\n",
      "Name: CLASS, Length: 358, dtype: int64\n"
     ]
    }
   ],
   "source": [
    "# add class column to transformed data\n",
    "x2['CLASS'] = data['CLASS']\n",
    "data = x2\n",
    "#print(data)\n",
    "\n",
    "# find hams\n",
    "hams = data[data['CLASS'] == 0]\n",
    "\n",
    "# find 80%\n",
    "percentHam = round(len(hams)*.8)\n",
    "\n",
    "# split hams\n",
    "firstHam = hams[0:percentHam]\n",
    "lastHam = hams[percentHam:]\n",
    "\n",
    "\n",
    "# find spam\n",
    "spam = data[data['CLASS'] == 1]\n",
    "\n",
    "# find 80%\n",
    "percentSpam = round(len(spam)*.8)\n",
    "\n",
    "\n",
    "# split spam\n",
    "firstSpam = spam[0:percentSpam]\n",
    "lastSpam = spam[percentSpam:]\n",
    "\n",
    "\n",
    "\n",
    "# concat training set\n",
    "training = [firstHam, firstSpam]\n",
    "training = pd.concat(training)\n",
    "\n",
    "# get x data\n",
    "x_train = training.iloc[:, 0:1602]\n",
    "# get y data\n",
    "y_train = training['CLASS']\n",
    "\n",
    "    \n",
    "# concat test set  \n",
    "testing = [lastHam, lastSpam]\n",
    "testing = pd.concat(testing)\n",
    "\n",
    "# get x data\n",
    "x_test = testing.iloc[:, 0:1602]\n",
    "# get y data\n",
    "y_test = testing['CLASS']\n",
    "\n",
    "print(x_test, y_test)\n",
    "print(x_train, y_train)"
   ]
  },
  {
   "cell_type": "markdown",
   "metadata": {},
   "source": [
    "1d.i\n",
    "Determine [v] using five fold cross-validation on your training set. Consider log10[v] {-5,-4,...,5} (5 pts)"
   ]
  },
  {
   "cell_type": "code",
   "execution_count": 314,
   "metadata": {},
   "outputs": [
    {
     "name": "stdout",
     "output_type": "stream",
     "text": [
      "[99999.99999999999, 10000.0, 1000.0, 100.0, 10.0, 1.0, 0.1, 0.01, 0.001, 0.0001, 1e-05]\n"
     ]
    }
   ],
   "source": [
    "# create lambda values\n",
    "c = [1/pow(10,i) for i in range(-5,6)]\n",
    "print(c)"
   ]
  },
  {
   "cell_type": "markdown",
   "metadata": {},
   "source": [
    "1d.ii\n",
    "Train L2-penalized Logistic Regression using the [v] you found in 1(e)i. Calculate the confusion matrix, accuracy, precision, recall, and F1 score as well as the ROC curve and AUC for your training set. (10 pts)"
   ]
  },
  {
   "cell_type": "code",
   "execution_count": 315,
   "metadata": {},
   "outputs": [
    {
     "name": "stdout",
     "output_type": "stream",
     "text": [
      "Best C \n",
      " 100.0\n",
      "\n",
      "\n",
      "Train AUC \n",
      " 1.0\n",
      "\n",
      "\n",
      "Train Roc_Curve\n",
      " [0. 0. 1.] [0. 1. 1.]\n",
      "\n",
      "\n",
      "Train CF Matrix\n",
      "               precision    recall  f1-score   support\n",
      "\n",
      "           0       1.00      1.00      1.00       162\n",
      "           1       1.00      1.00      1.00       196\n",
      "\n",
      "    accuracy                           1.00       358\n",
      "   macro avg       1.00      1.00      1.00       358\n",
      "weighted avg       1.00      1.00      1.00       358\n",
      "\n"
     ]
    },
    {
     "data": {
      "image/png": "[encoded data removed]",
      "text/plain": [
       "<Figure size 432x288 with 1 Axes>"
      ]
     },
     "metadata": {
      "needs_background": "light"
     },
     "output_type": "display_data"
    }
   ],
   "source": [
    "# log regression\n",
    "log = linear_model.LogisticRegression()\n",
    "\n",
    "# L2\n",
    "penalty = ['l2']\n",
    "\n",
    "# create parameters(solver stays at default)\n",
    "param = {\"C\" : c,\n",
    "        \"penalty\": penalty}\n",
    "\n",
    "# cross validation 5 fold\n",
    "gridCV = GridSearchCV(log, param, cv = 5, n_jobs = -1)\n",
    "\n",
    "# fit\n",
    "best_model = gridCV.fit(x_train, y_train)\n",
    "\n",
    "\n",
    "print('Best C \\n', best_model.best_estimator_.get_params()['C'])\n",
    "print('\\n')\n",
    "\n",
    "# predict\n",
    "pred_train = best_model.predict(x_train)\n",
    "\n",
    "# auccuracy \n",
    "print('Train AUC \\n', metrics.accuracy_score(y_train, pred_train))\n",
    "print('\\n')\n",
    "\n",
    "# ROC Curve\n",
    "fpr1, tpr1, _ = roc_curve(y_train, pred_train.reshape(-1,1) , pos_label = 1)\n",
    "print('Train Roc_Curve\\n', fpr1, tpr1)\n",
    "print('\\n')\n",
    "\n",
    "# Confusion\n",
    "cf_matrix1=confusion_matrix(y_train,pred_train)\n",
    "print('Train CF Matrix\\n', classification_report(y_train,pred_train) )\n",
    "\n",
    "\n",
    "# Train ROC Graph\n",
    "plt.title(\"ROC Curve Train\")\n",
    "plt.plot(fpr1, tpr1, label =\"ROC\")\n",
    "plt.legend()\n",
    "plt.xlabel('FPR')\n",
    "plt.ylabel('TPR')\n",
    "plt.show()"
   ]
  },
  {
   "cell_type": "markdown",
   "metadata": {},
   "source": [
    "1d.iii\n",
    "Test the algorithm on the test set and calculate the confusion matrix, accuracy,precision, recall, and F1 score as well as the ROC curve and AUC for the test set. Which one is more important in this application, precision or recall? Calculate FB score for B {0.1,0.5,.9,1,5,10} (15 pts)"
   ]
  },
  {
   "cell_type": "code",
   "execution_count": 322,
   "metadata": {
    "scrolled": true
   },
   "outputs": [
    {
     "name": "stdout",
     "output_type": "stream",
     "text": [
      "Test AUC \n",
      " 0.9555555555555556\n",
      "\n",
      "\n",
      "Test Roc_Curve\n",
      " [0.         0.93877551 1.        ] [0.         0.93877551 1.        ]\n",
      "\n",
      "\n",
      "Test CF Matrix\n",
      "               precision    recall  f1-score   support\n",
      "\n",
      "           0       0.93      0.98      0.95        41\n",
      "           1       0.98      0.94      0.96        49\n",
      "\n",
      "    accuracy                           0.96        90\n",
      "   macro avg       0.95      0.96      0.96        90\n",
      "weighted avg       0.96      0.96      0.96        90\n",
      "\n",
      "\n",
      "\n",
      "\tBeta 0.1 \t Beta 0.5 \t Beta 0.9  \t Beta 1  \t Beta 5  \t Beta 10 \n",
      " 0.9783112234154558 0.970464135021097 0.9604337293805514 0.9583333333333333 0.9402515723270441 0.9583333333333333\n"
     ]
    },
    {
     "data": {
      "image/png": "[encoded data removed]",
      "text/plain": [
       "<Figure size 432x288 with 1 Axes>"
      ]
     },
     "metadata": {
      "needs_background": "light"
     },
     "output_type": "display_data"
    }
   ],
   "source": [
    "\n",
    "# Predict using test set\n",
    "#print(best_model.predict(x_test))\n",
    "\n",
    "pred_test = best_model.predict(x_test)\n",
    "\n",
    "# Accuracy\n",
    "print('Test AUC \\n', metrics.accuracy_score(y_test, pred_test))\n",
    "print('\\n')\n",
    "\n",
    "# ROC\n",
    "fpr1, tpr1, _ = roc_curve(y_test, pred_test.reshape(-1,1) , pos_label = 1)\n",
    "print('Test Roc_Curve\\n', tpr1, tpr1)\n",
    "print('\\n')\n",
    "\n",
    "# Confusion matrix\n",
    "cf_matrix1=confusion_matrix(y_test,pred_test)\n",
    "print('Test CF Matrix\\n', classification_report(y_test,pred_test) )\n",
    "print('\\n')\n",
    "\n",
    "# Test fbeta scores\n",
    "fb_1 = fbeta_score(y_test, pred_test, beta=0.1)\n",
    "fb_5 = fbeta_score(y_test, pred_test, beta=0.5)\n",
    "fb_9 = fbeta_score(y_test, pred_test, beta=0.9)\n",
    "fb_100 = fbeta_score(y_test, pred_test, beta=1)\n",
    "fb_50 = fbeta_score(y_test, pred_test, beta=5)\n",
    "fb_10 = fbeta_score(y_test, pred_test, beta=10)\n",
    "\n",
    "print('\\tBeta 0.1 \\t Beta 0.5 \\t Beta 0.9  \\t Beta 1  \\t Beta 5  \\t Beta 10 \\n', fb_1, fb_5, fb_9, fb_100, fb_50, fb_100)\n",
    "\n",
    "# Train ROC Graph\n",
    "plt.title(\"ROC Curve Train\")\n",
    "plt.plot(fpr1, tpr1, label =\"ROC\")\n",
    "plt.legend()\n",
    "plt.xlabel('FPR')\n",
    "plt.ylabel('TPR')\n",
    "plt.show()"
   ]
  },
  {
   "cell_type": "markdown",
   "metadata": {},
   "source": [
    "Recall is more important in this instance because we want to know how well our trained model correctly predicts on the test set. Here we have a high recall meaning there is a high rate of correctly classified ham and spam."
   ]
  },
  {
   "cell_type": "markdown",
   "metadata": {},
   "source": [
    "1e.i\n",
    "Determine [v] using five fold cross-validation on your training set. Consider log10 [v] {-5,-4,...5} (5 pts)"
   ]
  },
  {
   "cell_type": "code",
   "execution_count": 317,
   "metadata": {},
   "outputs": [
    {
     "name": "stdout",
     "output_type": "stream",
     "text": [
      "[99999.99999999999, 10000.0, 1000.0, 100.0, 10.0, 1.0, 0.1, 0.01, 0.001, 0.0001, 1e-05]\n"
     ]
    }
   ],
   "source": [
    "# create lambda values\n",
    "c = [1/pow(10,i) for i in range(-5,6)]\n",
    "print(c)"
   ]
  },
  {
   "cell_type": "markdown",
   "metadata": {},
   "source": [
    "1e.ii\n",
    "Train L1-penalized Logistic Regression using the \u0015 you found in 1(e)i. Calculate the confusion matrix, accuracy, precision, recall, and F1 score as well as the ROC curve and AUC for your training set. (15 pts)"
   ]
  },
  {
   "cell_type": "code",
   "execution_count": 318,
   "metadata": {},
   "outputs": [
    {
     "name": "stdout",
     "output_type": "stream",
     "text": [
      "Best C \n",
      " 10000.0\n",
      "\n",
      "\n",
      "Train AUC \n",
      " 1.0\n",
      "\n",
      "\n",
      "Train Roc_Curve\n",
      " [0. 1. 1.] [0. 1. 1.]\n",
      "\n",
      "\n",
      "Train CF Matrix\n",
      "               precision    recall  f1-score   support\n",
      "\n",
      "           0       1.00      1.00      1.00       162\n",
      "           1       1.00      1.00      1.00       196\n",
      "\n",
      "    accuracy                           1.00       358\n",
      "   macro avg       1.00      1.00      1.00       358\n",
      "weighted avg       1.00      1.00      1.00       358\n",
      "\n"
     ]
    },
    {
     "data": {
      "image/png": "[encoded data removed]",
      "text/plain": [
       "<Figure size 432x288 with 1 Axes>"
      ]
     },
     "metadata": {
      "needs_background": "light"
     },
     "output_type": "display_data"
    }
   ],
   "source": [
    "# log regression\n",
    "log = linear_model.LogisticRegression()\n",
    "# L1\n",
    "penalty = ['l1']\n",
    "\n",
    "# create parameters(needs specific solver for L1)\n",
    "param = {\"C\" : c,\n",
    "        \"penalty\": penalty,\n",
    "        \"solver\": ['liblinear']}\n",
    "\n",
    "# cross validation 5 fold\n",
    "gridCV = GridSearchCV(log, param, cv = 5, n_jobs = -1)\n",
    "\n",
    "# fit\n",
    "best_model = gridCV.fit(x_train, y_train)\n",
    "\n",
    "print('Best C \\n', best_model.best_estimator_.get_params()['C'])\n",
    "print('\\n')\n",
    "\n",
    "# predict \n",
    "pred_train = best_model.predict(x_train)\n",
    "\n",
    "# Accuracy\n",
    "print('Train AUC \\n', metrics.accuracy_score(y_train, pred_train))\n",
    "print('\\n')\n",
    "\n",
    "# ROC Curve\n",
    "fpr1, tpr1, _ = roc_curve(y_train, pred_train.reshape(-1,1) , pos_label = 1)\n",
    "print('Train Roc_Curve\\n', tpr1, tpr1)\n",
    "print('\\n')\n",
    "\n",
    "# Confusion Matrix\n",
    "cf_matrix1=confusion_matrix(y_train,pred_train)\n",
    "print('Train CF Matrix\\n', classification_report(y_train,pred_train) )\n",
    "\n",
    "# Train ROC Graph\n",
    "plt.title(\"ROC Curve Train\")\n",
    "plt.plot(fpr1, tpr1, label =\"ROC\")\n",
    "plt.legend()\n",
    "plt.xlabel('FPR')\n",
    "plt.ylabel('TPR')\n",
    "plt.show()"
   ]
  },
  {
   "cell_type": "markdown",
   "metadata": {},
   "source": [
    "1e.iii\n",
    "Test the algorithm on the test set and calculate the confusion matrix, accuracy, precision, recall, and F1 score as well as the ROC curve and AUC for the test set. (10 pts)"
   ]
  },
  {
   "cell_type": "code",
   "execution_count": 319,
   "metadata": {},
   "outputs": [
    {
     "name": "stdout",
     "output_type": "stream",
     "text": [
      "Test AUC \n",
      " 0.9555555555555556\n",
      "\n",
      "\n",
      "Test Roc_Curve\n",
      " [0.         0.93877551 1.        ] [0.         0.93877551 1.        ]\n",
      "\n",
      "\n",
      "Test CF Matrix\n",
      "               precision    recall  f1-score   support\n",
      "\n",
      "           0       0.93      0.98      0.95        41\n",
      "           1       0.98      0.94      0.96        49\n",
      "\n",
      "    accuracy                           0.96        90\n",
      "   macro avg       0.95      0.96      0.96        90\n",
      "weighted avg       0.96      0.96      0.96        90\n",
      "\n"
     ]
    }
   ],
   "source": [
    "\n",
    "# Predict with test set\n",
    "pred_test = best_model.predict(x_test)\n",
    "\n",
    "# Accuracy \n",
    "print('Test AUC \\n', metrics.accuracy_score(y_test, pred_test))\n",
    "print('\\n')\n",
    "\n",
    "# ROC Curve\n",
    "fpr1, tpr1, _ = roc_curve(y_test, pred_test.reshape(-1,1) , pos_label = 1)\n",
    "print('Test Roc_Curve\\n', tpr1, tpr1)\n",
    "print('\\n')\n",
    "\n",
    "# Confusion Matrix\n",
    "cf_matrix1=confusion_matrix(y_test,pred_test)\n",
    "print('Test CF Matrix\\n', classification_report(y_test,pred_test) )\n",
    "\n",
    "\n"
   ]
  },
  {
   "cell_type": "markdown",
   "metadata": {},
   "source": [
    "1f.i\n",
    "Binary Classification Using Naive Bayes' Classifiers\n",
    "\n",
    "i. Solve the problem using a Naaive Bayes' classifier. Use Gaussian class conditional distributions. Report the confusion matrix, ROC, precision, recall, F1 score, and AUC for both the train and test data sets. (15 pts)"
   ]
  },
  {
   "cell_type": "code",
   "execution_count": 320,
   "metadata": {},
   "outputs": [
    {
     "name": "stdout",
     "output_type": "stream",
     "text": [
      "Train AUC \n",
      " 0.9972067039106145\n",
      "Test AUC \n",
      " 0.9222222222222223\n",
      "\n",
      "\n",
      "Train Roc_Curve\n",
      " [0.         0.99489796 1.        ] [0.         0.99489796 1.        ]\n",
      "Test Roc_Curve\n",
      " [0.         0.97959184 1.        ] [0.         0.97959184 1.        ]\n",
      "\n",
      "\n",
      "Train CF Matrix\n",
      "               precision    recall  f1-score   support\n",
      "\n",
      "           0       0.99      1.00      1.00       162\n",
      "           1       1.00      0.99      1.00       196\n",
      "\n",
      "    accuracy                           1.00       358\n",
      "   macro avg       1.00      1.00      1.00       358\n",
      "weighted avg       1.00      1.00      1.00       358\n",
      "\n",
      "Test CF Matrix\n",
      "               precision    recall  f1-score   support\n",
      "\n",
      "           0       0.97      0.85      0.91        41\n",
      "           1       0.89      0.98      0.93        49\n",
      "\n",
      "    accuracy                           0.92        90\n",
      "   macro avg       0.93      0.92      0.92        90\n",
      "weighted avg       0.93      0.92      0.92        90\n",
      "\n"
     ]
    },
    {
     "data": {
      "image/png": "[encoded data removed]",
      "text/plain": [
       "<Figure size 432x288 with 1 Axes>"
      ]
     },
     "metadata": {
      "needs_background": "light"
     },
     "output_type": "display_data"
    },
    {
     "data": {
      "image/png": "[encoded data removed]",
      "text/plain": [
       "<Figure size 432x288 with 1 Axes>"
      ]
     },
     "metadata": {
      "needs_background": "light"
     },
     "output_type": "display_data"
    }
   ],
   "source": [
    "\n",
    "# Navies Bayes Classifier\n",
    "nb = GaussianNB()\n",
    "\n",
    "# fit\n",
    "nb.fit(x_train, y_train)\n",
    "\n",
    "# predict train and test\n",
    "pred_train = nb.predict(x_train)\n",
    "pred_test = nb.predict(x_test)\n",
    "#print(pred_train, pred_test)\n",
    "\n",
    "# Train and Test Accuracy\n",
    "print('Train AUC \\n', metrics.accuracy_score(y_train, pred_train))\n",
    "print('Test AUC \\n', metrics.accuracy_score(y_test, pred_test))\n",
    "print('\\n')\n",
    "\n",
    "# Train and Test ROC Curve\n",
    "fpr1, tpr1, _ = roc_curve(y_train, pred_train.reshape(-1,1) , pos_label = 1)\n",
    "print('Train Roc_Curve\\n', tpr1, tpr1)\n",
    "fpr2, tpr2, _ = roc_curve(y_test, pred_test.reshape(-1,1) , pos_label = 1)\n",
    "print('Test Roc_Curve\\n', tpr2, tpr2)\n",
    "print('\\n')\n",
    "\n",
    "# Train and Test Confusion Matrix\n",
    "cf_matrix1=confusion_matrix(y_train,pred_train)\n",
    "print('Train CF Matrix\\n', classification_report(y_train,pred_train) )\n",
    "cf_matrix1=confusion_matrix(y_test,pred_test)\n",
    "print('Test CF Matrix\\n', classification_report(y_test,pred_test) )\n",
    "\n",
    "# Train ROC Graph\n",
    "plt.title(\"ROC Curve Train\")\n",
    "plt.plot(fpr1, tpr1, label =\"ROC\")\n",
    "plt.legend()\n",
    "plt.xlabel('FPR')\n",
    "plt.ylabel('TPR')\n",
    "plt.show()\n",
    "\n",
    "# Test ROC Graph\n",
    "plt.title(\"ROC Curve Test\")\n",
    "plt.plot(fpr2, tpr2, label =\"ROC\")\n",
    "plt.legend()\n",
    "plt.xlabel('FPR')\n",
    "plt.ylabel('TPR')\n",
    "plt.show()"
   ]
  }
 ],
 "metadata": {
  "kernelspec": {
   "display_name": "Python 3",
   "language": "python",
   "name": "python3"
  },
  "language_info": {
   "codemirror_mode": {
    "name": "ipython",
    "version": 3
   },
   "file_extension": ".py",
   "mimetype": "text/x-python",
   "name": "python",
   "nbconvert_exporter": "python",
   "pygments_lexer": "ipython3",
   "version": "3.8.5"
  }
 },
 "nbformat": 4,
 "nbformat_minor": 4
}
