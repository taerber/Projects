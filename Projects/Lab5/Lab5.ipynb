{
 "cells": [
  {
   "cell_type": "markdown",
   "metadata": {},
   "source": [
    "DSCI 352 Tara Erberich Student ID: 9237580532\n",
    "\n",
    "1. Decision Trees as Interpretable Models\n",
    "\n",
    "a) Download the Accute Inamations data."
   ]
  },
  {
   "cell_type": "code",
   "execution_count": 104,
   "metadata": {},
   "outputs": [],
   "source": [
    "# install plotly\n",
    "#conda install -c https://conda.anaconda.org/plotly plotly"
   ]
  },
  {
   "cell_type": "code",
   "execution_count": 1,
   "metadata": {},
   "outputs": [
    {
     "data": {
      "text/html": [
       "<div>\n",
       "<style scoped>\n",
       "    .dataframe tbody tr th:only-of-type {\n",
       "        vertical-align: middle;\n",
       "    }\n",
       "\n",
       "    .dataframe tbody tr th {\n",
       "        vertical-align: top;\n",
       "    }\n",
       "\n",
       "    .dataframe thead th {\n",
       "        text-align: right;\n",
       "    }\n",
       "</style>\n",
       "<table border=\"1\" class=\"dataframe\">\n",
       "  <thead>\n",
       "    <tr style=\"text-align: right;\">\n",
       "      <th></th>\n",
       "      <th>A1</th>\n",
       "      <th>A2</th>\n",
       "      <th>A3</th>\n",
       "      <th>A4</th>\n",
       "      <th>A5</th>\n",
       "      <th>A6</th>\n",
       "      <th>D1</th>\n",
       "      <th>D2</th>\n",
       "    </tr>\n",
       "  </thead>\n",
       "  <tbody>\n",
       "    <tr>\n",
       "      <th>0</th>\n",
       "      <td>35.5</td>\n",
       "      <td>0</td>\n",
       "      <td>1</td>\n",
       "      <td>0</td>\n",
       "      <td>0</td>\n",
       "      <td>0</td>\n",
       "      <td>0</td>\n",
       "      <td>0</td>\n",
       "    </tr>\n",
       "    <tr>\n",
       "      <th>1</th>\n",
       "      <td>35.9</td>\n",
       "      <td>0</td>\n",
       "      <td>0</td>\n",
       "      <td>1</td>\n",
       "      <td>1</td>\n",
       "      <td>1</td>\n",
       "      <td>1</td>\n",
       "      <td>0</td>\n",
       "    </tr>\n",
       "    <tr>\n",
       "      <th>2</th>\n",
       "      <td>35.9</td>\n",
       "      <td>0</td>\n",
       "      <td>1</td>\n",
       "      <td>0</td>\n",
       "      <td>0</td>\n",
       "      <td>0</td>\n",
       "      <td>0</td>\n",
       "      <td>0</td>\n",
       "    </tr>\n",
       "    <tr>\n",
       "      <th>3</th>\n",
       "      <td>36.0</td>\n",
       "      <td>0</td>\n",
       "      <td>0</td>\n",
       "      <td>1</td>\n",
       "      <td>1</td>\n",
       "      <td>1</td>\n",
       "      <td>1</td>\n",
       "      <td>0</td>\n",
       "    </tr>\n",
       "    <tr>\n",
       "      <th>4</th>\n",
       "      <td>36.0</td>\n",
       "      <td>0</td>\n",
       "      <td>1</td>\n",
       "      <td>0</td>\n",
       "      <td>0</td>\n",
       "      <td>0</td>\n",
       "      <td>0</td>\n",
       "      <td>0</td>\n",
       "    </tr>\n",
       "    <tr>\n",
       "      <th>...</th>\n",
       "      <td>...</td>\n",
       "      <td>...</td>\n",
       "      <td>...</td>\n",
       "      <td>...</td>\n",
       "      <td>...</td>\n",
       "      <td>...</td>\n",
       "      <td>...</td>\n",
       "      <td>...</td>\n",
       "    </tr>\n",
       "    <tr>\n",
       "      <th>115</th>\n",
       "      <td>41.4</td>\n",
       "      <td>0</td>\n",
       "      <td>1</td>\n",
       "      <td>1</td>\n",
       "      <td>0</td>\n",
       "      <td>1</td>\n",
       "      <td>0</td>\n",
       "      <td>1</td>\n",
       "    </tr>\n",
       "    <tr>\n",
       "      <th>116</th>\n",
       "      <td>41.5</td>\n",
       "      <td>0</td>\n",
       "      <td>0</td>\n",
       "      <td>0</td>\n",
       "      <td>0</td>\n",
       "      <td>0</td>\n",
       "      <td>0</td>\n",
       "      <td>0</td>\n",
       "    </tr>\n",
       "    <tr>\n",
       "      <th>117</th>\n",
       "      <td>41.5</td>\n",
       "      <td>1</td>\n",
       "      <td>1</td>\n",
       "      <td>0</td>\n",
       "      <td>1</td>\n",
       "      <td>0</td>\n",
       "      <td>0</td>\n",
       "      <td>1</td>\n",
       "    </tr>\n",
       "    <tr>\n",
       "      <th>118</th>\n",
       "      <td>41.5</td>\n",
       "      <td>0</td>\n",
       "      <td>1</td>\n",
       "      <td>1</td>\n",
       "      <td>0</td>\n",
       "      <td>1</td>\n",
       "      <td>0</td>\n",
       "      <td>1</td>\n",
       "    </tr>\n",
       "    <tr>\n",
       "      <th>119</th>\n",
       "      <td>41.5</td>\n",
       "      <td>0</td>\n",
       "      <td>1</td>\n",
       "      <td>1</td>\n",
       "      <td>0</td>\n",
       "      <td>1</td>\n",
       "      <td>0</td>\n",
       "      <td>1</td>\n",
       "    </tr>\n",
       "  </tbody>\n",
       "</table>\n",
       "<p>120 rows × 8 columns</p>\n",
       "</div>"
      ],
      "text/plain": [
       "       A1  A2  A3  A4  A5  A6  D1  D2\n",
       "0    35.5   0   1   0   0   0   0   0\n",
       "1    35.9   0   0   1   1   1   1   0\n",
       "2    35.9   0   1   0   0   0   0   0\n",
       "3    36.0   0   0   1   1   1   1   0\n",
       "4    36.0   0   1   0   0   0   0   0\n",
       "..    ...  ..  ..  ..  ..  ..  ..  ..\n",
       "115  41.4   0   1   1   0   1   0   1\n",
       "116  41.5   0   0   0   0   0   0   0\n",
       "117  41.5   1   1   0   1   0   0   1\n",
       "118  41.5   0   1   1   0   1   0   1\n",
       "119  41.5   0   1   1   0   1   0   1\n",
       "\n",
       "[120 rows x 8 columns]"
      ]
     },
     "execution_count": 1,
     "metadata": {},
     "output_type": "execute_result"
    }
   ],
   "source": [
    "import pandas as pd\n",
    "import numpy as np\n",
    "from sklearn import tree\n",
    "from sklearn.ensemble import RandomForestClassifier\n",
    "from sklearn.model_selection import train_test_split\n",
    "from sklearn.metrics import confusion_matrix, roc_auc_score, roc_curve, confusion_matrix, classification_report  \n",
    "import statsmodels.api as sm\n",
    "from sklearn.impute import SimpleImputer\n",
    "from sklearn.model_selection import GridSearchCV\n",
    "import plotly.graph_objects as go # for data visualization\n",
    "import plotly.express as px # for data visualization \n",
    "import matplotlib.pyplot as plt\n",
    "import seaborn as sb\n",
    "from sklearn.metrics import mean_squared_error\n",
    "from sklearn.linear_model import LogisticRegression\n",
    "\n",
    "# Load data\n",
    "\n",
    "#a1 Temperature of patient { 35C-42C } \n",
    "#a2 Occurrence of nausea { yes, no } \n",
    "#a3 Lumbar pain { yes, no } \n",
    "#a4 Urine pushing (continuous need for urination) { yes, no } \n",
    "#a5 Micturition pains { yes, no } \n",
    "#a6 Burning of urethra, itch, swelling of urethra outlet { yes, no } \n",
    "#d1 decision: Inflammation of urinary bladder { yes, no } \n",
    "#d2 decision: Nephritis of renal pelvis origin { yes, no }\n",
    "\n",
    "# add headers\n",
    "header = [\"A1\", \"A2\", \"A3\", \"A4\", \"A5\", \"A6\", \"D1\", \"D2\"]\n",
    "\n",
    "acData = pd.read_csv(\"Lab 5 Data/diagnosis.data\", header = None, names = header, sep = \"\\t\", decimal = \",\", encoding = 'utf-16');\n",
    "\n",
    "# replace no with 0 & yes with 1\n",
    "acData = acData.replace('no', 0)\n",
    "acData = acData.replace('yes', 1)\n",
    "\n",
    "acData"
   ]
  },
  {
   "cell_type": "markdown",
   "metadata": {},
   "source": [
    "1.b\n",
    "\n",
    "Build a decision tree on the whole set and plot it"
   ]
  },
  {
   "cell_type": "code",
   "execution_count": 50,
   "metadata": {
    "scrolled": true
   },
   "outputs": [],
   "source": [
    "# split data A1 - A6 X and D1 - D2 Y\n",
    "\n",
    "x = acData[[\"A1\", \"A2\", \"A3\", \"A4\", \"A5\", \"A6\"]]\n",
    "y = acData[[\"D1\", \"D2\"]]\n",
    "\n",
    "# Build Tree\n",
    "acTree = tree.DecisionTreeClassifier()\n",
    "acTree = acTree.fit(x,y)\n",
    "\n",
    "# Plot Tree\n",
    "\n",
    "\n",
    "#fig = px.scatter(df, x=exog, y=endog, opacity=0.8, color_discrete_sequence=['black'])\n",
    "#fig.update_layout(title=dict(text=\"Police Per Capita vs OP_NMU_EVER \", font=dict(color='black')))"
   ]
  },
  {
   "cell_type": "code",
   "execution_count": 51,
   "metadata": {},
   "outputs": [
    {
     "data": {
      "text/plain": [
       "[Text(133.92000000000002, 195.696, 'X[0] <= 37.95\\ngini = 0.493\\nsamples = 120\\nvalue = [[61, 59]\\n[70, 50]]'),\n",
       " Text(66.96000000000001, 152.208, 'X[2] <= 0.5\\ngini = 0.222\\nsamples = 60\\nvalue = [[20, 40]\\n[60, 0]]'),\n",
       " Text(33.480000000000004, 108.72, 'gini = 0.0\\nsamples = 40\\nvalue = [[0, 40]\\n[40, 0]]'),\n",
       " Text(100.44000000000001, 108.72, 'gini = 0.0\\nsamples = 20\\nvalue = [[20, 0]\\n[20, 0]]'),\n",
       " Text(200.88000000000002, 152.208, 'X[2] <= 0.5\\ngini = 0.355\\nsamples = 60\\nvalue = [[41, 19]\\n[10, 50]]'),\n",
       " Text(167.40000000000003, 108.72, 'gini = 0.0\\nsamples = 10\\nvalue = [[10, 0]\\n[10, 0]]'),\n",
       " Text(234.36, 108.72, 'X[4] <= 0.5\\ngini = 0.236\\nsamples = 50\\nvalue = [[31, 19]\\n[0, 50]]'),\n",
       " Text(200.88000000000002, 65.232, 'gini = 0.0\\nsamples = 21\\nvalue = [[21, 0]\\n[0, 21]]'),\n",
       " Text(267.84000000000003, 65.232, 'X[3] <= 0.5\\ngini = 0.226\\nsamples = 29\\nvalue = [[10, 19]\\n[0, 29]]'),\n",
       " Text(234.36, 21.744, 'gini = 0.0\\nsamples = 10\\nvalue = [[10, 0]\\n[0, 10]]'),\n",
       " Text(301.32000000000005, 21.744, 'gini = 0.0\\nsamples = 19\\nvalue = [[0, 19]\\n[0, 19]]')]"
      ]
     },
     "execution_count": 51,
     "metadata": {},
     "output_type": "execute_result"
    },
    {
     "data": {
      "image/png": "[encoded data removed]",
      "text/plain": [
       "<Figure size 432x288 with 1 Axes>"
      ]
     },
     "metadata": {
      "needs_background": "light"
     },
     "output_type": "display_data"
    }
   ],
   "source": [
    "tree.plot_tree(acTree)"
   ]
  },
  {
   "cell_type": "markdown",
   "metadata": {},
   "source": [
    "1.c\n",
    "\n",
    "Convert Decision rules into a set of IF-THEN Rules"
   ]
  },
  {
   "cell_type": "code",
   "execution_count": 28,
   "metadata": {},
   "outputs": [],
   "source": [
    "import numpy as np\n",
    "from sklearn.tree import _tree\n",
    "\n",
    "def tree_to_code(tree, feature_names):\n",
    "    tree_ = tree.tree_\n",
    "    feature_name = [feature_names[i] \n",
    "                    if i != _tree.TREE_UNDEFINED else \"undefined!\" \n",
    "                    for i in tree_.feature]\n",
    "    print(\"def tree({}):\".format(\", \".join(feature_names)))\n",
    "\n",
    "    def recurse(node, depth):\n",
    "        indent = \"    \" * depth\n",
    "        if tree_.feature[node] != _tree.TREE_UNDEFINED:\n",
    "            name = feature_name[node]\n",
    "            threshold = tree_.threshold[node]\n",
    "            print(\"{}if {} <= {}:\".format(indent, name, threshold))\n",
    "            recurse(tree_.children_left[node], depth + 1)\n",
    "            print(\"{}else:  # if {} > {}\".format(indent, name, threshold))\n",
    "            recurse(tree_.children_right[node], depth + 1)\n",
    "        else:\n",
    "            print(\"{}return {}\".format(indent, np.argmax(tree_.value[node])))\n",
    "\n",
    "    recurse(0, 1)"
   ]
  },
  {
   "cell_type": "code",
   "execution_count": 29,
   "metadata": {},
   "outputs": [
    {
     "name": "stdout",
     "output_type": "stream",
     "text": [
      "def tree(A1, A2, A3, A4, A5, A6):\n",
      "    if A1 <= 37.95000076293945:\n",
      "        if A3 <= 0.5:\n",
      "            return 1\n",
      "        else:  # if A3 > 0.5\n",
      "            return 0\n",
      "    else:  # if A1 > 37.95000076293945\n",
      "        if A3 <= 0.5:\n",
      "            return 0\n",
      "        else:  # if A3 > 0.5\n",
      "            if A5 <= 0.5:\n",
      "                return 0\n",
      "            else:  # if A5 > 0.5\n",
      "                if A4 <= 0.5:\n",
      "                    return 0\n",
      "                else:  # if A4 > 0.5\n",
      "                    return 1\n"
     ]
    }
   ],
   "source": [
    "feature_names = x.columns\n",
    "tree_to_code(acTree, feature_names)"
   ]
  },
  {
   "cell_type": "markdown",
   "metadata": {},
   "source": [
    "1.d(extra credit)\n",
    "\n",
    "Use cost-complexity pruning to find a minimal decision\n",
    "tree and a set of decision rules with high interpretability."
   ]
  },
  {
   "cell_type": "code",
   "execution_count": null,
   "metadata": {},
   "outputs": [],
   "source": []
  },
  {
   "cell_type": "markdown",
   "metadata": {},
   "source": [
    "2. Random Forests, Ridge Regularized, and LASSO Regularized Regression\n",
    "\n",
    "a) Download the Communities and Crime data3. Use the first 1495 rows of data as the training set and the rest as the test set."
   ]
  },
  {
   "cell_type": "code",
   "execution_count": 32,
   "metadata": {},
   "outputs": [],
   "source": [
    "header = [\"A1\", \"A2\", \"A3\", \"A4\", \"A5\", \"A6\", \"D1\", \"D2\"]\n",
    "\n",
    "ccData = pd.read_csv(\"Lab 5 Data/communities.data\", header = None);\n",
    "\n",
    "# Replace ? with NaN for imputer to work\n",
    "ccData = ccData.replace('?', 'NaN')\n",
    "\n",
    "# Split data for train and test\n",
    "x_train = ccData.iloc[0:1495, 0:127]\n",
    "y_train = ccData.iloc[0:1495, 127:128]\n",
    "\n",
    "x_test = ccData.iloc[1495:, 0:127]\n",
    "y_test = ccData.iloc[1495:, 127:128]\n"
   ]
  },
  {
   "cell_type": "markdown",
   "metadata": {},
   "source": [
    "2.b\n",
    "\n",
    "The data set has missing values. Use a simple data imputation technique (using the mean or median statistic of each feature) to deal with the missing values in the data set. The data description mentions that five features are nonpredictive. Ignore those features."
   ]
  },
  {
   "cell_type": "code",
   "execution_count": 33,
   "metadata": {},
   "outputs": [
    {
     "name": "stdout",
     "output_type": "stream",
     "text": [
      "[[0.19       0.33       0.02       ... 0.5        0.32       0.14      ]\n",
      " [0.         0.16       0.12       ... 0.45188285 0.         0.19075314]\n",
      " [0.         0.42       0.49       ... 0.45188285 0.         0.19075314]\n",
      " ...\n",
      " [0.01       0.36       0.95       ... 0.45188285 0.         0.19075314]\n",
      " [0.06       0.53       0.01       ... 0.45188285 0.         0.19075314]\n",
      " [0.05       0.43       0.08       ... 0.         0.51       0.18      ]]\n",
      "[[0.         0.2        0.03       ... 0.45188285 0.         0.19075314]\n",
      " [0.         0.55       0.13       ... 0.45188285 0.         0.19075314]\n",
      " [0.         0.52       0.04       ... 0.45188285 0.         0.19075314]\n",
      " ...\n",
      " [0.16       0.37       0.25       ... 0.         0.91       0.28      ]\n",
      " [0.08       0.51       0.06       ... 0.         0.22       0.18      ]\n",
      " [0.2        0.78       0.14       ... 0.5        1.         0.13      ]]\n"
     ]
    }
   ],
   "source": [
    "\n",
    "# convert to DF\n",
    "x_train = pd.DataFrame(x_train)\n",
    "x_test = pd.DataFrame(x_test)\n",
    "\n",
    "# Ignore nonpredictive features (0:4)\n",
    "x_train = x_train.iloc[:, 5:127]\n",
    "x_test = x_test.iloc[:, 5:127]\n",
    "\n",
    "x_train = x_train.apply(pd.to_numeric, errors = 'coerce')\n",
    "#x_test = x_test.apply(pd.to_numeric, errors = 'coerce')\n",
    "\n",
    "mean = SimpleImputer(missing_values = np.nan, strategy = 'mean')\n",
    "mean.fit(x_train)\n",
    "\n",
    "x_train = mean.transform(x_train)\n",
    "print(x_train)\n",
    "\n",
    "x_test = mean.transform(x_test)\n",
    "print(x_test)"
   ]
  },
  {
   "cell_type": "markdown",
   "metadata": {},
   "source": [
    "2.c\n",
    "\n",
    "Plot a correlation matrix for the features in the data set."
   ]
  },
  {
   "cell_type": "code",
   "execution_count": 37,
   "metadata": {},
   "outputs": [
    {
     "data": {
      "text/plain": [
       "<AxesSubplot:>"
      ]
     },
     "execution_count": 37,
     "metadata": {},
     "output_type": "execute_result"
    },
    {
     "data": {
      "image/png": "[encoded data removed]",
      "text/plain": [
       "<Figure size 432x288 with 2 Axes>"
      ]
     },
     "metadata": {
      "needs_background": "light"
     },
     "output_type": "display_data"
    }
   ],
   "source": [
    "data_corr = ccData.corr()\n",
    "sb.heatmap(data_corr)\n"
   ]
  },
  {
   "cell_type": "markdown",
   "metadata": {},
   "source": [
    "2.d\n",
    "\n",
    "Calculate the Coefficient of Variation CV for each feature, where CV = s/m, in which s is sample standard deviation and m is sample mean."
   ]
  },
  {
   "cell_type": "code",
   "execution_count": 41,
   "metadata": {},
   "outputs": [
    {
     "name": "stdout",
     "output_type": "stream",
     "text": [
      "             0\n",
      "0     0.720502\n",
      "1     0.730688\n",
      "2     0.689238\n",
      "3     0.717442\n",
      "4     0.805281\n",
      "...        ...\n",
      "1490  0.821794\n",
      "1491  0.575229\n",
      "1492  0.847638\n",
      "1493  0.798144\n",
      "1494  0.715099\n",
      "\n",
      "[1495 rows x 1 columns]\n"
     ]
    }
   ],
   "source": [
    "m = x_train.mean(axis = 1)\n",
    "\n",
    "s = x_train.std(axis = 1)\n",
    "\n",
    "CV = s/m\n",
    "\n",
    "CV = pd.DataFrame(CV)\n",
    "print(CV)"
   ]
  },
  {
   "cell_type": "markdown",
   "metadata": {},
   "source": [
    "2.e\n",
    "\n",
    "Pick sqr(122) features with highest CV , and make scatter plots and box plots for them. Can you draw conclusions about significance of those features, just by the scatter plots?"
   ]
  },
  {
   "cell_type": "code",
   "execution_count": 49,
   "metadata": {},
   "outputs": [
    {
     "name": "stdout",
     "output_type": "stream",
     "text": [
      "Top 11 features\n",
      "\n",
      "              0\n",
      "1070  1.028018\n",
      "1032  0.976092\n",
      "1065  0.950315\n",
      "1153  0.949235\n",
      "809   0.945877\n",
      "1312  0.944156\n",
      "896   0.939932\n",
      "1049  0.938521\n",
      "84    0.937402\n",
      "1103  0.929035\n",
      "1429  0.928656\n",
      "\n",
      "\n",
      "\n",
      "Looking at the scatter plot, I cannot draw a conclusion about the significane of the features\n",
      "\n",
      "\n"
     ]
    },
    {
     "data": {
      "text/plain": [
       "<AxesSubplot:>"
      ]
     },
     "execution_count": 49,
     "metadata": {},
     "output_type": "execute_result"
    },
    {
     "data": {
      "image/png": "[encoded data removed]",
      "text/plain": [
       "<Figure size 360x360 with 6 Axes>"
      ]
     },
     "metadata": {
      "needs_background": "light"
     },
     "output_type": "display_data"
    },
    {
     "data": {
      "image/png": "[encoded data removed]",
      "text/plain": [
       "<Figure size 432x288 with 1 Axes>"
      ]
     },
     "metadata": {
      "needs_background": "light"
     },
     "output_type": "display_data"
    }
   ],
   "source": [
    "sort_CV = CV.sort_values(by = 0, ascending = False)\n",
    "sort_CV = pd.DataFrame(sort_CV)\n",
    "high_CV = sort_CV.head(11).reset_index()\n",
    "high_CV = pd.DataFrame(high_CV)\n",
    "\n",
    "print('Top 11 features\\n\\n', sort_CV.head(11))\n",
    "print('\\n\\n')\n",
    "\n",
    "print('Looking at the scatter plot, I cannot draw a conclusion about the significane of the features\\n\\n')\n",
    "sb.pairplot(data = high_CV)\n",
    "high_CV = high_CV.transpose()\n",
    "high_CV.plot(kind='box')\n"
   ]
  },
  {
   "cell_type": "markdown",
   "metadata": {},
   "source": [
    "2.f\n",
    "\n",
    "Fit a linear model using least squares to the training set and report the test error."
   ]
  },
  {
   "cell_type": "code",
   "execution_count": 10,
   "metadata": {},
   "outputs": [
    {
     "name": "stdout",
     "output_type": "stream",
     "text": [
      "Linear Model Test Error\n",
      " 0.01814197113553011\n"
     ]
    }
   ],
   "source": [
    "from sklearn.linear_model import LinearRegression\n",
    "\n",
    "lin = LinearRegression().fit(x_train, y_train)\n",
    "pred_testLR = lin.predict(x_test)\n",
    "\n",
    "mse = mean_squared_error(y_test, pred_testLR)\n",
    "\n",
    "print('Linear Model Test Error\\n', mse)"
   ]
  },
  {
   "cell_type": "markdown",
   "metadata": {},
   "source": [
    "2.g\n",
    "\n",
    "Fit a ridge regression model on the training set, with v chosen by 5-fold cross-validation. Report the test error obtained."
   ]
  },
  {
   "cell_type": "code",
   "execution_count": 28,
   "metadata": {},
   "outputs": [
    {
     "name": "stdout",
     "output_type": "stream",
     "text": [
      "Ridge Regression Model Test Error\n",
      " 0.01773247499289664\n"
     ]
    }
   ],
   "source": [
    "from sklearn.linear_model import RidgeCV\n",
    "\n",
    "rCV = RidgeCV(cv = 5).fit(x_train, y_train)\n",
    "\n",
    "pred_testCV = rCV.predict(x_test)\n",
    "\n",
    "mse = mean_squared_error(y_test, pred_testCV)\n",
    "\n",
    "print('Ridge Regression Model Test Error\\n', mse)\n",
    "\n"
   ]
  },
  {
   "cell_type": "markdown",
   "metadata": {},
   "source": [
    "2.h\n",
    "\n",
    "Fit a LASSO model on the training set, with v chosen by 5-fold cross-validation. Report the test error obtained, along with a list of the variables selected by the model. Repeat with standardized4 features. Report the test error for both cases and compare them."
   ]
  },
  {
   "cell_type": "code",
   "execution_count": 39,
   "metadata": {},
   "outputs": [
    {
     "name": "stderr",
     "output_type": "stream",
     "text": [
      "/Users/tara/opt/anaconda3/lib/python3.8/site-packages/sklearn/utils/validation.py:63: DataConversionWarning: A column-vector y was passed when a 1d array was expected. Please change the shape of y to (n_samples, ), for example using ravel().\n",
      "  return f(*args, **kwargs)\n",
      "/Users/tara/opt/anaconda3/lib/python3.8/site-packages/sklearn/linear_model/_coordinate_descent.py:526: ConvergenceWarning: Objective did not converge. You might want to increase the number of iterations. Duality gap: 0.009752930225996437, tolerance: 0.006746416078595318\n",
      "  model = cd_fast.enet_coordinate_descent_gram(\n",
      "/Users/tara/opt/anaconda3/lib/python3.8/site-packages/sklearn/linear_model/_coordinate_descent.py:526: ConvergenceWarning: Objective did not converge. You might want to increase the number of iterations. Duality gap: 0.010113610151087471, tolerance: 0.006746416078595318\n",
      "  model = cd_fast.enet_coordinate_descent_gram(\n"
     ]
    },
    {
     "name": "stdout",
     "output_type": "stream",
     "text": [
      "Non-Standardized MSE \n",
      " 0.017758209216319674\n",
      "\n",
      " \n",
      " \n",
      "Model Selected Variables(all 0 values were not selected) \n",
      " [-0.          0.          0.27198384 -0.         -0.01567076  0.\n",
      "  0.0666577  -0.26537253  0.          0.         -0.          0.04051248\n",
      "  0.         -0.08481132  0.02660694 -0.09851161  0.04856023  0.03886807\n",
      " -0.10843093  0.         -0.         -0.0580192  -0.02105596 -0.03113087\n",
      "  0.02900207  0.02269291  0.02395003 -0.         -0.14118798 -0.01835354\n",
      "  0.          0.         -0.          0.13739397 -0.01567272  0.\n",
      "  0.01010228  0.          0.11806912  0.13317242 -0.07861242 -0.\n",
      "  0.         -0.         -0.19660029 -0.03766618 -0.01023067  0.\n",
      " -0.12947621 -0.05386363  0.09848014 -0.07037142 -0.         -0.\n",
      " -0.         -0.00499029 -0.          0.          0.          0.03753306\n",
      "  0.         -0.07071252 -0.         -0.06485658  0.04186758 -0.\n",
      " -0.         -0.05733126  0.21902748  0.05689623  0.00347676  0.12420479\n",
      " -0.06045463  0.          0.07343127 -0.0599405  -0.01577883  0.02427536\n",
      " -0.02419122 -0.01169764 -0.         -0.         -0.15888151 -0.\n",
      "  0.          0.16118221  0.09008966 -0.01401918 -0.07780728  0.05486581\n",
      "  0.16643878  0.04717491 -0.00137277 -0.          0.02347153 -0.\n",
      " -0.          0.          0.          0.07028993 -0.03164492  0.\n",
      "  0.09062214  0.         -0.01341266 -0.         -0.02925324  0.\n",
      "  0.00760921  0.         -0.00231889 -0.02862512 -0.01613802  0.03271279\n",
      "  0.01037952 -0.04360146  0.         -0.          0.02121249  0.04002828\n",
      "  0.00213247  0.00339722]\n",
      "\n",
      " \n",
      " \n",
      "Standardized MSE \n",
      " 0.017992169830321394\n",
      "The MSE for non-standardized data was lower, which tells us we do not need to standardize the data beforehand\n"
     ]
    },
    {
     "name": "stderr",
     "output_type": "stream",
     "text": [
      "/Users/tara/opt/anaconda3/lib/python3.8/site-packages/sklearn/linear_model/_coordinate_descent.py:526: ConvergenceWarning: Objective did not converge. You might want to increase the number of iterations. Duality gap: 0.009826702372112806, tolerance: 0.006746416078595318\n",
      "  model = cd_fast.enet_coordinate_descent_gram(\n",
      "/Users/tara/opt/anaconda3/lib/python3.8/site-packages/sklearn/linear_model/_coordinate_descent.py:526: ConvergenceWarning: Objective did not converge. You might want to increase the number of iterations. Duality gap: 0.01021130700044992, tolerance: 0.006746416078595318\n",
      "  model = cd_fast.enet_coordinate_descent_gram(\n",
      "/Users/tara/opt/anaconda3/lib/python3.8/site-packages/sklearn/linear_model/_coordinate_descent.py:526: ConvergenceWarning: Objective did not converge. You might want to increase the number of iterations. Duality gap: 0.009981166735219205, tolerance: 0.006746416078595318\n",
      "  model = cd_fast.enet_coordinate_descent_gram(\n",
      "/Users/tara/opt/anaconda3/lib/python3.8/site-packages/sklearn/linear_model/_coordinate_descent.py:526: ConvergenceWarning: Objective did not converge. You might want to increase the number of iterations. Duality gap: 0.009723943912447908, tolerance: 0.006746416078595318\n",
      "  model = cd_fast.enet_coordinate_descent_gram(\n"
     ]
    }
   ],
   "source": [
    "from sklearn.linear_model import LassoCV\n",
    "from sklearn import preprocessing\n",
    "\n",
    "\n",
    "lasCV = LassoCV(cv=5).fit(x_train, y_train)\n",
    "pred_testLas = lasCV.predict(x_test)\n",
    "\n",
    "mse = mean_squared_error(y_test, pred_testLas)\n",
    "print('Non-Standardized MSE \\n', mse)\n",
    "print('\\n \\n ')\n",
    "coef = lasCV.coef_\n",
    "print('Model Selected Variables(all 0 values were not selected) \\n', coef)\n",
    "print('\\n \\n ')\n",
    "scaler_test = preprocessing.StandardScaler().fit_transform(x_test)\n",
    "scaler_train = preprocessing.StandardScaler().fit_transform(x_train)\n",
    "lasCV = LassoCV(cv=5).fit(scaler_train, y_train.values.ravel())\n",
    "pred_testStand = lasCV.predict(scaler_test)\n",
    "mseStand = mean_squared_error(y_test, pred_testStand)\n",
    "print('Standardized MSE \\n', mseStand)\n",
    "print('\\n \\n ')\n",
    "print('The MSE for non-standardized data was lower, which tells us we do not need to standardize the data beforehand')"
   ]
  },
  {
   "cell_type": "markdown",
   "metadata": {},
   "source": [
    "2.i \n",
    "\n",
    "Fit random forest models to the training set using m = sqr(123) and m = 122 and plot the train, out of bag (OOB), and test errors for B{1,2..., 300} on the same plot and compare them."
   ]
  },
  {
   "cell_type": "code",
   "execution_count": 11,
   "metadata": {},
   "outputs": [
    {
     "name": "stdout",
     "output_type": "stream",
     "text": [
      "1\n"
     ]
    },
    {
     "name": "stderr",
     "output_type": "stream",
     "text": [
      "<ipython-input-11-f28a9ce02c17>:13: DataConversionWarning: A column-vector y was passed when a 1d array was expected. Please change the shape of y to (n_samples,), for example using ravel().\n",
      "  RandF1 = RandomForestRegressor(max_features = 11, oob_score = True, max_samples = k).fit(x_train, y_train)\n",
      "<ipython-input-11-f28a9ce02c17>:23: DataConversionWarning: A column-vector y was passed when a 1d array was expected. Please change the shape of y to (n_samples,), for example using ravel().\n",
      "  RandF = RandomForestRegressor(max_features = 122, oob_score = True, max_samples = k).fit(x_train, y_train)\n"
     ]
    },
    {
     "name": "stdout",
     "output_type": "stream",
     "text": [
      "2\n"
     ]
    },
    {
     "name": "stderr",
     "output_type": "stream",
     "text": [
      "<ipython-input-11-f28a9ce02c17>:13: DataConversionWarning: A column-vector y was passed when a 1d array was expected. Please change the shape of y to (n_samples,), for example using ravel().\n",
      "  RandF1 = RandomForestRegressor(max_features = 11, oob_score = True, max_samples = k).fit(x_train, y_train)\n",
      "<ipython-input-11-f28a9ce02c17>:23: DataConversionWarning: A column-vector y was passed when a 1d array was expected. Please change the shape of y to (n_samples,), for example using ravel().\n",
      "  RandF = RandomForestRegressor(max_features = 122, oob_score = True, max_samples = k).fit(x_train, y_train)\n"
     ]
    },
    {
     "name": "stdout",
     "output_type": "stream",
     "text": [
      "3\n"
     ]
    },
    {
     "name": "stderr",
     "output_type": "stream",
     "text": [
      "<ipython-input-11-f28a9ce02c17>:13: DataConversionWarning: A column-vector y was passed when a 1d array was expected. Please change the shape of y to (n_samples,), for example using ravel().\n",
      "  RandF1 = RandomForestRegressor(max_features = 11, oob_score = True, max_samples = k).fit(x_train, y_train)\n",
      "<ipython-input-11-f28a9ce02c17>:23: DataConversionWarning: A column-vector y was passed when a 1d array was expected. Please change the shape of y to (n_samples,), for example using ravel().\n",
      "  RandF = RandomForestRegressor(max_features = 122, oob_score = True, max_samples = k).fit(x_train, y_train)\n"
     ]
    },
    {
     "name": "stdout",
     "output_type": "stream",
     "text": [
      "4\n"
     ]
    },
    {
     "name": "stderr",
     "output_type": "stream",
     "text": [
      "<ipython-input-11-f28a9ce02c17>:13: DataConversionWarning: A column-vector y was passed when a 1d array was expected. Please change the shape of y to (n_samples,), for example using ravel().\n",
      "  RandF1 = RandomForestRegressor(max_features = 11, oob_score = True, max_samples = k).fit(x_train, y_train)\n",
      "<ipython-input-11-f28a9ce02c17>:23: DataConversionWarning: A column-vector y was passed when a 1d array was expected. Please change the shape of y to (n_samples,), for example using ravel().\n",
      "  RandF = RandomForestRegressor(max_features = 122, oob_score = True, max_samples = k).fit(x_train, y_train)\n"
     ]
    },
    {
     "name": "stdout",
     "output_type": "stream",
     "text": [
      "5\n"
     ]
    },
    {
     "name": "stderr",
     "output_type": "stream",
     "text": [
      "<ipython-input-11-f28a9ce02c17>:13: DataConversionWarning: A column-vector y was passed when a 1d array was expected. Please change the shape of y to (n_samples,), for example using ravel().\n",
      "  RandF1 = RandomForestRegressor(max_features = 11, oob_score = True, max_samples = k).fit(x_train, y_train)\n",
      "<ipython-input-11-f28a9ce02c17>:23: DataConversionWarning: A column-vector y was passed when a 1d array was expected. Please change the shape of y to (n_samples,), for example using ravel().\n",
      "  RandF = RandomForestRegressor(max_features = 122, oob_score = True, max_samples = k).fit(x_train, y_train)\n"
     ]
    },
    {
     "name": "stdout",
     "output_type": "stream",
     "text": [
      "6\n"
     ]
    },
    {
     "name": "stderr",
     "output_type": "stream",
     "text": [
      "<ipython-input-11-f28a9ce02c17>:13: DataConversionWarning: A column-vector y was passed when a 1d array was expected. Please change the shape of y to (n_samples,), for example using ravel().\n",
      "  RandF1 = RandomForestRegressor(max_features = 11, oob_score = True, max_samples = k).fit(x_train, y_train)\n",
      "<ipython-input-11-f28a9ce02c17>:23: DataConversionWarning: A column-vector y was passed when a 1d array was expected. Please change the shape of y to (n_samples,), for example using ravel().\n",
      "  RandF = RandomForestRegressor(max_features = 122, oob_score = True, max_samples = k).fit(x_train, y_train)\n"
     ]
    },
    {
     "name": "stdout",
     "output_type": "stream",
     "text": [
      "7\n"
     ]
    },
    {
     "name": "stderr",
     "output_type": "stream",
     "text": [
      "<ipython-input-11-f28a9ce02c17>:13: DataConversionWarning: A column-vector y was passed when a 1d array was expected. Please change the shape of y to (n_samples,), for example using ravel().\n",
      "  RandF1 = RandomForestRegressor(max_features = 11, oob_score = True, max_samples = k).fit(x_train, y_train)\n",
      "<ipython-input-11-f28a9ce02c17>:23: DataConversionWarning: A column-vector y was passed when a 1d array was expected. Please change the shape of y to (n_samples,), for example using ravel().\n",
      "  RandF = RandomForestRegressor(max_features = 122, oob_score = True, max_samples = k).fit(x_train, y_train)\n"
     ]
    },
    {
     "name": "stdout",
     "output_type": "stream",
     "text": [
      "8\n"
     ]
    },
    {
     "name": "stderr",
     "output_type": "stream",
     "text": [
      "<ipython-input-11-f28a9ce02c17>:13: DataConversionWarning: A column-vector y was passed when a 1d array was expected. Please change the shape of y to (n_samples,), for example using ravel().\n",
      "  RandF1 = RandomForestRegressor(max_features = 11, oob_score = True, max_samples = k).fit(x_train, y_train)\n",
      "<ipython-input-11-f28a9ce02c17>:23: DataConversionWarning: A column-vector y was passed when a 1d array was expected. Please change the shape of y to (n_samples,), for example using ravel().\n",
      "  RandF = RandomForestRegressor(max_features = 122, oob_score = True, max_samples = k).fit(x_train, y_train)\n"
     ]
    },
    {
     "name": "stdout",
     "output_type": "stream",
     "text": [
      "9\n"
     ]
    },
    {
     "name": "stderr",
     "output_type": "stream",
     "text": [
      "<ipython-input-11-f28a9ce02c17>:13: DataConversionWarning: A column-vector y was passed when a 1d array was expected. Please change the shape of y to (n_samples,), for example using ravel().\n",
      "  RandF1 = RandomForestRegressor(max_features = 11, oob_score = True, max_samples = k).fit(x_train, y_train)\n",
      "<ipython-input-11-f28a9ce02c17>:23: DataConversionWarning: A column-vector y was passed when a 1d array was expected. Please change the shape of y to (n_samples,), for example using ravel().\n",
      "  RandF = RandomForestRegressor(max_features = 122, oob_score = True, max_samples = k).fit(x_train, y_train)\n"
     ]
    },
    {
     "name": "stdout",
     "output_type": "stream",
     "text": [
      "10\n"
     ]
    },
    {
     "name": "stderr",
     "output_type": "stream",
     "text": [
      "<ipython-input-11-f28a9ce02c17>:13: DataConversionWarning: A column-vector y was passed when a 1d array was expected. Please change the shape of y to (n_samples,), for example using ravel().\n",
      "  RandF1 = RandomForestRegressor(max_features = 11, oob_score = True, max_samples = k).fit(x_train, y_train)\n",
      "<ipython-input-11-f28a9ce02c17>:23: DataConversionWarning: A column-vector y was passed when a 1d array was expected. Please change the shape of y to (n_samples,), for example using ravel().\n",
      "  RandF = RandomForestRegressor(max_features = 122, oob_score = True, max_samples = k).fit(x_train, y_train)\n"
     ]
    },
    {
     "name": "stdout",
     "output_type": "stream",
     "text": [
      "11\n"
     ]
    },
    {
     "name": "stderr",
     "output_type": "stream",
     "text": [
      "<ipython-input-11-f28a9ce02c17>:13: DataConversionWarning: A column-vector y was passed when a 1d array was expected. Please change the shape of y to (n_samples,), for example using ravel().\n",
      "  RandF1 = RandomForestRegressor(max_features = 11, oob_score = True, max_samples = k).fit(x_train, y_train)\n",
      "<ipython-input-11-f28a9ce02c17>:23: DataConversionWarning: A column-vector y was passed when a 1d array was expected. Please change the shape of y to (n_samples,), for example using ravel().\n",
      "  RandF = RandomForestRegressor(max_features = 122, oob_score = True, max_samples = k).fit(x_train, y_train)\n"
     ]
    },
    {
     "name": "stdout",
     "output_type": "stream",
     "text": [
      "12\n"
     ]
    },
    {
     "name": "stderr",
     "output_type": "stream",
     "text": [
      "<ipython-input-11-f28a9ce02c17>:13: DataConversionWarning: A column-vector y was passed when a 1d array was expected. Please change the shape of y to (n_samples,), for example using ravel().\n",
      "  RandF1 = RandomForestRegressor(max_features = 11, oob_score = True, max_samples = k).fit(x_train, y_train)\n",
      "<ipython-input-11-f28a9ce02c17>:23: DataConversionWarning: A column-vector y was passed when a 1d array was expected. Please change the shape of y to (n_samples,), for example using ravel().\n",
      "  RandF = RandomForestRegressor(max_features = 122, oob_score = True, max_samples = k).fit(x_train, y_train)\n"
     ]
    },
    {
     "name": "stdout",
     "output_type": "stream",
     "text": [
      "13\n"
     ]
    },
    {
     "name": "stderr",
     "output_type": "stream",
     "text": [
      "<ipython-input-11-f28a9ce02c17>:13: DataConversionWarning: A column-vector y was passed when a 1d array was expected. Please change the shape of y to (n_samples,), for example using ravel().\n",
      "  RandF1 = RandomForestRegressor(max_features = 11, oob_score = True, max_samples = k).fit(x_train, y_train)\n",
      "<ipython-input-11-f28a9ce02c17>:23: DataConversionWarning: A column-vector y was passed when a 1d array was expected. Please change the shape of y to (n_samples,), for example using ravel().\n",
      "  RandF = RandomForestRegressor(max_features = 122, oob_score = True, max_samples = k).fit(x_train, y_train)\n"
     ]
    },
    {
     "name": "stdout",
     "output_type": "stream",
     "text": [
      "14\n"
     ]
    },
    {
     "name": "stderr",
     "output_type": "stream",
     "text": [
      "<ipython-input-11-f28a9ce02c17>:13: DataConversionWarning: A column-vector y was passed when a 1d array was expected. Please change the shape of y to (n_samples,), for example using ravel().\n",
      "  RandF1 = RandomForestRegressor(max_features = 11, oob_score = True, max_samples = k).fit(x_train, y_train)\n",
      "<ipython-input-11-f28a9ce02c17>:23: DataConversionWarning: A column-vector y was passed when a 1d array was expected. Please change the shape of y to (n_samples,), for example using ravel().\n",
      "  RandF = RandomForestRegressor(max_features = 122, oob_score = True, max_samples = k).fit(x_train, y_train)\n"
     ]
    },
    {
     "name": "stdout",
     "output_type": "stream",
     "text": [
      "15\n"
     ]
    },
    {
     "name": "stderr",
     "output_type": "stream",
     "text": [
      "<ipython-input-11-f28a9ce02c17>:13: DataConversionWarning: A column-vector y was passed when a 1d array was expected. Please change the shape of y to (n_samples,), for example using ravel().\n",
      "  RandF1 = RandomForestRegressor(max_features = 11, oob_score = True, max_samples = k).fit(x_train, y_train)\n",
      "<ipython-input-11-f28a9ce02c17>:23: DataConversionWarning: A column-vector y was passed when a 1d array was expected. Please change the shape of y to (n_samples,), for example using ravel().\n",
      "  RandF = RandomForestRegressor(max_features = 122, oob_score = True, max_samples = k).fit(x_train, y_train)\n"
     ]
    },
    {
     "name": "stdout",
     "output_type": "stream",
     "text": [
      "16\n"
     ]
    },
    {
     "name": "stderr",
     "output_type": "stream",
     "text": [
      "<ipython-input-11-f28a9ce02c17>:13: DataConversionWarning: A column-vector y was passed when a 1d array was expected. Please change the shape of y to (n_samples,), for example using ravel().\n",
      "  RandF1 = RandomForestRegressor(max_features = 11, oob_score = True, max_samples = k).fit(x_train, y_train)\n",
      "<ipython-input-11-f28a9ce02c17>:23: DataConversionWarning: A column-vector y was passed when a 1d array was expected. Please change the shape of y to (n_samples,), for example using ravel().\n",
      "  RandF = RandomForestRegressor(max_features = 122, oob_score = True, max_samples = k).fit(x_train, y_train)\n"
     ]
    },
    {
     "name": "stdout",
     "output_type": "stream",
     "text": [
      "17\n"
     ]
    },
    {
     "name": "stderr",
     "output_type": "stream",
     "text": [
      "<ipython-input-11-f28a9ce02c17>:13: DataConversionWarning: A column-vector y was passed when a 1d array was expected. Please change the shape of y to (n_samples,), for example using ravel().\n",
      "  RandF1 = RandomForestRegressor(max_features = 11, oob_score = True, max_samples = k).fit(x_train, y_train)\n",
      "<ipython-input-11-f28a9ce02c17>:23: DataConversionWarning: A column-vector y was passed when a 1d array was expected. Please change the shape of y to (n_samples,), for example using ravel().\n",
      "  RandF = RandomForestRegressor(max_features = 122, oob_score = True, max_samples = k).fit(x_train, y_train)\n"
     ]
    },
    {
     "name": "stdout",
     "output_type": "stream",
     "text": [
      "18\n"
     ]
    },
    {
     "name": "stderr",
     "output_type": "stream",
     "text": [
      "<ipython-input-11-f28a9ce02c17>:13: DataConversionWarning: A column-vector y was passed when a 1d array was expected. Please change the shape of y to (n_samples,), for example using ravel().\n",
      "  RandF1 = RandomForestRegressor(max_features = 11, oob_score = True, max_samples = k).fit(x_train, y_train)\n",
      "<ipython-input-11-f28a9ce02c17>:23: DataConversionWarning: A column-vector y was passed when a 1d array was expected. Please change the shape of y to (n_samples,), for example using ravel().\n",
      "  RandF = RandomForestRegressor(max_features = 122, oob_score = True, max_samples = k).fit(x_train, y_train)\n"
     ]
    },
    {
     "name": "stdout",
     "output_type": "stream",
     "text": [
      "19\n"
     ]
    },
    {
     "name": "stderr",
     "output_type": "stream",
     "text": [
      "<ipython-input-11-f28a9ce02c17>:13: DataConversionWarning: A column-vector y was passed when a 1d array was expected. Please change the shape of y to (n_samples,), for example using ravel().\n",
      "  RandF1 = RandomForestRegressor(max_features = 11, oob_score = True, max_samples = k).fit(x_train, y_train)\n",
      "<ipython-input-11-f28a9ce02c17>:23: DataConversionWarning: A column-vector y was passed when a 1d array was expected. Please change the shape of y to (n_samples,), for example using ravel().\n",
      "  RandF = RandomForestRegressor(max_features = 122, oob_score = True, max_samples = k).fit(x_train, y_train)\n"
     ]
    },
    {
     "name": "stdout",
     "output_type": "stream",
     "text": [
      "20\n"
     ]
    },
    {
     "name": "stderr",
     "output_type": "stream",
     "text": [
      "<ipython-input-11-f28a9ce02c17>:13: DataConversionWarning: A column-vector y was passed when a 1d array was expected. Please change the shape of y to (n_samples,), for example using ravel().\n",
      "  RandF1 = RandomForestRegressor(max_features = 11, oob_score = True, max_samples = k).fit(x_train, y_train)\n",
      "<ipython-input-11-f28a9ce02c17>:23: DataConversionWarning: A column-vector y was passed when a 1d array was expected. Please change the shape of y to (n_samples,), for example using ravel().\n",
      "  RandF = RandomForestRegressor(max_features = 122, oob_score = True, max_samples = k).fit(x_train, y_train)\n"
     ]
    },
    {
     "name": "stdout",
     "output_type": "stream",
     "text": [
      "21\n"
     ]
    },
    {
     "name": "stderr",
     "output_type": "stream",
     "text": [
      "<ipython-input-11-f28a9ce02c17>:13: DataConversionWarning: A column-vector y was passed when a 1d array was expected. Please change the shape of y to (n_samples,), for example using ravel().\n",
      "  RandF1 = RandomForestRegressor(max_features = 11, oob_score = True, max_samples = k).fit(x_train, y_train)\n",
      "<ipython-input-11-f28a9ce02c17>:23: DataConversionWarning: A column-vector y was passed when a 1d array was expected. Please change the shape of y to (n_samples,), for example using ravel().\n",
      "  RandF = RandomForestRegressor(max_features = 122, oob_score = True, max_samples = k).fit(x_train, y_train)\n"
     ]
    },
    {
     "name": "stdout",
     "output_type": "stream",
     "text": [
      "22\n"
     ]
    },
    {
     "name": "stderr",
     "output_type": "stream",
     "text": [
      "<ipython-input-11-f28a9ce02c17>:13: DataConversionWarning: A column-vector y was passed when a 1d array was expected. Please change the shape of y to (n_samples,), for example using ravel().\n",
      "  RandF1 = RandomForestRegressor(max_features = 11, oob_score = True, max_samples = k).fit(x_train, y_train)\n",
      "<ipython-input-11-f28a9ce02c17>:23: DataConversionWarning: A column-vector y was passed when a 1d array was expected. Please change the shape of y to (n_samples,), for example using ravel().\n",
      "  RandF = RandomForestRegressor(max_features = 122, oob_score = True, max_samples = k).fit(x_train, y_train)\n"
     ]
    },
    {
     "name": "stdout",
     "output_type": "stream",
     "text": [
      "23\n"
     ]
    },
    {
     "name": "stderr",
     "output_type": "stream",
     "text": [
      "<ipython-input-11-f28a9ce02c17>:13: DataConversionWarning: A column-vector y was passed when a 1d array was expected. Please change the shape of y to (n_samples,), for example using ravel().\n",
      "  RandF1 = RandomForestRegressor(max_features = 11, oob_score = True, max_samples = k).fit(x_train, y_train)\n",
      "<ipython-input-11-f28a9ce02c17>:23: DataConversionWarning: A column-vector y was passed when a 1d array was expected. Please change the shape of y to (n_samples,), for example using ravel().\n",
      "  RandF = RandomForestRegressor(max_features = 122, oob_score = True, max_samples = k).fit(x_train, y_train)\n"
     ]
    },
    {
     "name": "stdout",
     "output_type": "stream",
     "text": [
      "24\n"
     ]
    },
    {
     "name": "stderr",
     "output_type": "stream",
     "text": [
      "<ipython-input-11-f28a9ce02c17>:13: DataConversionWarning: A column-vector y was passed when a 1d array was expected. Please change the shape of y to (n_samples,), for example using ravel().\n",
      "  RandF1 = RandomForestRegressor(max_features = 11, oob_score = True, max_samples = k).fit(x_train, y_train)\n",
      "<ipython-input-11-f28a9ce02c17>:23: DataConversionWarning: A column-vector y was passed when a 1d array was expected. Please change the shape of y to (n_samples,), for example using ravel().\n",
      "  RandF = RandomForestRegressor(max_features = 122, oob_score = True, max_samples = k).fit(x_train, y_train)\n"
     ]
    },
    {
     "name": "stdout",
     "output_type": "stream",
     "text": [
      "25\n"
     ]
    },
    {
     "name": "stderr",
     "output_type": "stream",
     "text": [
      "<ipython-input-11-f28a9ce02c17>:13: DataConversionWarning: A column-vector y was passed when a 1d array was expected. Please change the shape of y to (n_samples,), for example using ravel().\n",
      "  RandF1 = RandomForestRegressor(max_features = 11, oob_score = True, max_samples = k).fit(x_train, y_train)\n",
      "<ipython-input-11-f28a9ce02c17>:23: DataConversionWarning: A column-vector y was passed when a 1d array was expected. Please change the shape of y to (n_samples,), for example using ravel().\n",
      "  RandF = RandomForestRegressor(max_features = 122, oob_score = True, max_samples = k).fit(x_train, y_train)\n"
     ]
    },
    {
     "name": "stdout",
     "output_type": "stream",
     "text": [
      "26\n"
     ]
    },
    {
     "name": "stderr",
     "output_type": "stream",
     "text": [
      "<ipython-input-11-f28a9ce02c17>:13: DataConversionWarning: A column-vector y was passed when a 1d array was expected. Please change the shape of y to (n_samples,), for example using ravel().\n",
      "  RandF1 = RandomForestRegressor(max_features = 11, oob_score = True, max_samples = k).fit(x_train, y_train)\n",
      "<ipython-input-11-f28a9ce02c17>:23: DataConversionWarning: A column-vector y was passed when a 1d array was expected. Please change the shape of y to (n_samples,), for example using ravel().\n",
      "  RandF = RandomForestRegressor(max_features = 122, oob_score = True, max_samples = k).fit(x_train, y_train)\n"
     ]
    },
    {
     "name": "stdout",
     "output_type": "stream",
     "text": [
      "27\n"
     ]
    },
    {
     "name": "stderr",
     "output_type": "stream",
     "text": [
      "<ipython-input-11-f28a9ce02c17>:13: DataConversionWarning: A column-vector y was passed when a 1d array was expected. Please change the shape of y to (n_samples,), for example using ravel().\n",
      "  RandF1 = RandomForestRegressor(max_features = 11, oob_score = True, max_samples = k).fit(x_train, y_train)\n",
      "<ipython-input-11-f28a9ce02c17>:23: DataConversionWarning: A column-vector y was passed when a 1d array was expected. Please change the shape of y to (n_samples,), for example using ravel().\n",
      "  RandF = RandomForestRegressor(max_features = 122, oob_score = True, max_samples = k).fit(x_train, y_train)\n"
     ]
    },
    {
     "name": "stdout",
     "output_type": "stream",
     "text": [
      "28\n"
     ]
    },
    {
     "name": "stderr",
     "output_type": "stream",
     "text": [
      "<ipython-input-11-f28a9ce02c17>:13: DataConversionWarning: A column-vector y was passed when a 1d array was expected. Please change the shape of y to (n_samples,), for example using ravel().\n",
      "  RandF1 = RandomForestRegressor(max_features = 11, oob_score = True, max_samples = k).fit(x_train, y_train)\n",
      "<ipython-input-11-f28a9ce02c17>:23: DataConversionWarning: A column-vector y was passed when a 1d array was expected. Please change the shape of y to (n_samples,), for example using ravel().\n",
      "  RandF = RandomForestRegressor(max_features = 122, oob_score = True, max_samples = k).fit(x_train, y_train)\n"
     ]
    },
    {
     "name": "stdout",
     "output_type": "stream",
     "text": [
      "29\n"
     ]
    },
    {
     "name": "stderr",
     "output_type": "stream",
     "text": [
      "<ipython-input-11-f28a9ce02c17>:13: DataConversionWarning: A column-vector y was passed when a 1d array was expected. Please change the shape of y to (n_samples,), for example using ravel().\n",
      "  RandF1 = RandomForestRegressor(max_features = 11, oob_score = True, max_samples = k).fit(x_train, y_train)\n",
      "<ipython-input-11-f28a9ce02c17>:23: DataConversionWarning: A column-vector y was passed when a 1d array was expected. Please change the shape of y to (n_samples,), for example using ravel().\n",
      "  RandF = RandomForestRegressor(max_features = 122, oob_score = True, max_samples = k).fit(x_train, y_train)\n"
     ]
    },
    {
     "name": "stdout",
     "output_type": "stream",
     "text": [
      "30\n"
     ]
    },
    {
     "name": "stderr",
     "output_type": "stream",
     "text": [
      "<ipython-input-11-f28a9ce02c17>:13: DataConversionWarning: A column-vector y was passed when a 1d array was expected. Please change the shape of y to (n_samples,), for example using ravel().\n",
      "  RandF1 = RandomForestRegressor(max_features = 11, oob_score = True, max_samples = k).fit(x_train, y_train)\n",
      "<ipython-input-11-f28a9ce02c17>:23: DataConversionWarning: A column-vector y was passed when a 1d array was expected. Please change the shape of y to (n_samples,), for example using ravel().\n",
      "  RandF = RandomForestRegressor(max_features = 122, oob_score = True, max_samples = k).fit(x_train, y_train)\n"
     ]
    },
    {
     "name": "stdout",
     "output_type": "stream",
     "text": [
      "31\n"
     ]
    },
    {
     "name": "stderr",
     "output_type": "stream",
     "text": [
      "<ipython-input-11-f28a9ce02c17>:13: DataConversionWarning: A column-vector y was passed when a 1d array was expected. Please change the shape of y to (n_samples,), for example using ravel().\n",
      "  RandF1 = RandomForestRegressor(max_features = 11, oob_score = True, max_samples = k).fit(x_train, y_train)\n",
      "<ipython-input-11-f28a9ce02c17>:23: DataConversionWarning: A column-vector y was passed when a 1d array was expected. Please change the shape of y to (n_samples,), for example using ravel().\n",
      "  RandF = RandomForestRegressor(max_features = 122, oob_score = True, max_samples = k).fit(x_train, y_train)\n"
     ]
    },
    {
     "name": "stdout",
     "output_type": "stream",
     "text": [
      "32\n"
     ]
    },
    {
     "name": "stderr",
     "output_type": "stream",
     "text": [
      "<ipython-input-11-f28a9ce02c17>:13: DataConversionWarning: A column-vector y was passed when a 1d array was expected. Please change the shape of y to (n_samples,), for example using ravel().\n",
      "  RandF1 = RandomForestRegressor(max_features = 11, oob_score = True, max_samples = k).fit(x_train, y_train)\n",
      "<ipython-input-11-f28a9ce02c17>:23: DataConversionWarning: A column-vector y was passed when a 1d array was expected. Please change the shape of y to (n_samples,), for example using ravel().\n",
      "  RandF = RandomForestRegressor(max_features = 122, oob_score = True, max_samples = k).fit(x_train, y_train)\n"
     ]
    },
    {
     "name": "stdout",
     "output_type": "stream",
     "text": [
      "33\n"
     ]
    },
    {
     "name": "stderr",
     "output_type": "stream",
     "text": [
      "<ipython-input-11-f28a9ce02c17>:13: DataConversionWarning: A column-vector y was passed when a 1d array was expected. Please change the shape of y to (n_samples,), for example using ravel().\n",
      "  RandF1 = RandomForestRegressor(max_features = 11, oob_score = True, max_samples = k).fit(x_train, y_train)\n",
      "<ipython-input-11-f28a9ce02c17>:23: DataConversionWarning: A column-vector y was passed when a 1d array was expected. Please change the shape of y to (n_samples,), for example using ravel().\n",
      "  RandF = RandomForestRegressor(max_features = 122, oob_score = True, max_samples = k).fit(x_train, y_train)\n"
     ]
    },
    {
     "name": "stdout",
     "output_type": "stream",
     "text": [
      "34\n"
     ]
    },
    {
     "name": "stderr",
     "output_type": "stream",
     "text": [
      "<ipython-input-11-f28a9ce02c17>:13: DataConversionWarning: A column-vector y was passed when a 1d array was expected. Please change the shape of y to (n_samples,), for example using ravel().\n",
      "  RandF1 = RandomForestRegressor(max_features = 11, oob_score = True, max_samples = k).fit(x_train, y_train)\n",
      "<ipython-input-11-f28a9ce02c17>:23: DataConversionWarning: A column-vector y was passed when a 1d array was expected. Please change the shape of y to (n_samples,), for example using ravel().\n",
      "  RandF = RandomForestRegressor(max_features = 122, oob_score = True, max_samples = k).fit(x_train, y_train)\n"
     ]
    },
    {
     "name": "stdout",
     "output_type": "stream",
     "text": [
      "35\n"
     ]
    },
    {
     "name": "stderr",
     "output_type": "stream",
     "text": [
      "<ipython-input-11-f28a9ce02c17>:13: DataConversionWarning: A column-vector y was passed when a 1d array was expected. Please change the shape of y to (n_samples,), for example using ravel().\n",
      "  RandF1 = RandomForestRegressor(max_features = 11, oob_score = True, max_samples = k).fit(x_train, y_train)\n",
      "<ipython-input-11-f28a9ce02c17>:23: DataConversionWarning: A column-vector y was passed when a 1d array was expected. Please change the shape of y to (n_samples,), for example using ravel().\n",
      "  RandF = RandomForestRegressor(max_features = 122, oob_score = True, max_samples = k).fit(x_train, y_train)\n"
     ]
    },
    {
     "name": "stdout",
     "output_type": "stream",
     "text": [
      "36\n"
     ]
    },
    {
     "name": "stderr",
     "output_type": "stream",
     "text": [
      "<ipython-input-11-f28a9ce02c17>:13: DataConversionWarning: A column-vector y was passed when a 1d array was expected. Please change the shape of y to (n_samples,), for example using ravel().\n",
      "  RandF1 = RandomForestRegressor(max_features = 11, oob_score = True, max_samples = k).fit(x_train, y_train)\n",
      "<ipython-input-11-f28a9ce02c17>:23: DataConversionWarning: A column-vector y was passed when a 1d array was expected. Please change the shape of y to (n_samples,), for example using ravel().\n",
      "  RandF = RandomForestRegressor(max_features = 122, oob_score = True, max_samples = k).fit(x_train, y_train)\n"
     ]
    },
    {
     "name": "stdout",
     "output_type": "stream",
     "text": [
      "37\n"
     ]
    },
    {
     "name": "stderr",
     "output_type": "stream",
     "text": [
      "<ipython-input-11-f28a9ce02c17>:13: DataConversionWarning: A column-vector y was passed when a 1d array was expected. Please change the shape of y to (n_samples,), for example using ravel().\n",
      "  RandF1 = RandomForestRegressor(max_features = 11, oob_score = True, max_samples = k).fit(x_train, y_train)\n",
      "<ipython-input-11-f28a9ce02c17>:23: DataConversionWarning: A column-vector y was passed when a 1d array was expected. Please change the shape of y to (n_samples,), for example using ravel().\n",
      "  RandF = RandomForestRegressor(max_features = 122, oob_score = True, max_samples = k).fit(x_train, y_train)\n"
     ]
    },
    {
     "name": "stdout",
     "output_type": "stream",
     "text": [
      "38\n"
     ]
    },
    {
     "name": "stderr",
     "output_type": "stream",
     "text": [
      "<ipython-input-11-f28a9ce02c17>:13: DataConversionWarning: A column-vector y was passed when a 1d array was expected. Please change the shape of y to (n_samples,), for example using ravel().\n",
      "  RandF1 = RandomForestRegressor(max_features = 11, oob_score = True, max_samples = k).fit(x_train, y_train)\n",
      "<ipython-input-11-f28a9ce02c17>:23: DataConversionWarning: A column-vector y was passed when a 1d array was expected. Please change the shape of y to (n_samples,), for example using ravel().\n",
      "  RandF = RandomForestRegressor(max_features = 122, oob_score = True, max_samples = k).fit(x_train, y_train)\n"
     ]
    },
    {
     "name": "stdout",
     "output_type": "stream",
     "text": [
      "39\n"
     ]
    },
    {
     "name": "stderr",
     "output_type": "stream",
     "text": [
      "<ipython-input-11-f28a9ce02c17>:13: DataConversionWarning: A column-vector y was passed when a 1d array was expected. Please change the shape of y to (n_samples,), for example using ravel().\n",
      "  RandF1 = RandomForestRegressor(max_features = 11, oob_score = True, max_samples = k).fit(x_train, y_train)\n",
      "<ipython-input-11-f28a9ce02c17>:23: DataConversionWarning: A column-vector y was passed when a 1d array was expected. Please change the shape of y to (n_samples,), for example using ravel().\n",
      "  RandF = RandomForestRegressor(max_features = 122, oob_score = True, max_samples = k).fit(x_train, y_train)\n"
     ]
    },
    {
     "name": "stdout",
     "output_type": "stream",
     "text": [
      "40\n"
     ]
    },
    {
     "name": "stderr",
     "output_type": "stream",
     "text": [
      "<ipython-input-11-f28a9ce02c17>:13: DataConversionWarning: A column-vector y was passed when a 1d array was expected. Please change the shape of y to (n_samples,), for example using ravel().\n",
      "  RandF1 = RandomForestRegressor(max_features = 11, oob_score = True, max_samples = k).fit(x_train, y_train)\n",
      "<ipython-input-11-f28a9ce02c17>:23: DataConversionWarning: A column-vector y was passed when a 1d array was expected. Please change the shape of y to (n_samples,), for example using ravel().\n",
      "  RandF = RandomForestRegressor(max_features = 122, oob_score = True, max_samples = k).fit(x_train, y_train)\n"
     ]
    },
    {
     "name": "stdout",
     "output_type": "stream",
     "text": [
      "41\n"
     ]
    },
    {
     "name": "stderr",
     "output_type": "stream",
     "text": [
      "<ipython-input-11-f28a9ce02c17>:13: DataConversionWarning: A column-vector y was passed when a 1d array was expected. Please change the shape of y to (n_samples,), for example using ravel().\n",
      "  RandF1 = RandomForestRegressor(max_features = 11, oob_score = True, max_samples = k).fit(x_train, y_train)\n",
      "<ipython-input-11-f28a9ce02c17>:23: DataConversionWarning: A column-vector y was passed when a 1d array was expected. Please change the shape of y to (n_samples,), for example using ravel().\n",
      "  RandF = RandomForestRegressor(max_features = 122, oob_score = True, max_samples = k).fit(x_train, y_train)\n"
     ]
    },
    {
     "name": "stdout",
     "output_type": "stream",
     "text": [
      "42\n"
     ]
    },
    {
     "name": "stderr",
     "output_type": "stream",
     "text": [
      "<ipython-input-11-f28a9ce02c17>:13: DataConversionWarning: A column-vector y was passed when a 1d array was expected. Please change the shape of y to (n_samples,), for example using ravel().\n",
      "  RandF1 = RandomForestRegressor(max_features = 11, oob_score = True, max_samples = k).fit(x_train, y_train)\n",
      "<ipython-input-11-f28a9ce02c17>:23: DataConversionWarning: A column-vector y was passed when a 1d array was expected. Please change the shape of y to (n_samples,), for example using ravel().\n",
      "  RandF = RandomForestRegressor(max_features = 122, oob_score = True, max_samples = k).fit(x_train, y_train)\n"
     ]
    },
    {
     "name": "stdout",
     "output_type": "stream",
     "text": [
      "43\n"
     ]
    },
    {
     "name": "stderr",
     "output_type": "stream",
     "text": [
      "<ipython-input-11-f28a9ce02c17>:13: DataConversionWarning: A column-vector y was passed when a 1d array was expected. Please change the shape of y to (n_samples,), for example using ravel().\n",
      "  RandF1 = RandomForestRegressor(max_features = 11, oob_score = True, max_samples = k).fit(x_train, y_train)\n",
      "<ipython-input-11-f28a9ce02c17>:23: DataConversionWarning: A column-vector y was passed when a 1d array was expected. Please change the shape of y to (n_samples,), for example using ravel().\n",
      "  RandF = RandomForestRegressor(max_features = 122, oob_score = True, max_samples = k).fit(x_train, y_train)\n"
     ]
    },
    {
     "name": "stdout",
     "output_type": "stream",
     "text": [
      "44\n"
     ]
    },
    {
     "name": "stderr",
     "output_type": "stream",
     "text": [
      "<ipython-input-11-f28a9ce02c17>:13: DataConversionWarning: A column-vector y was passed when a 1d array was expected. Please change the shape of y to (n_samples,), for example using ravel().\n",
      "  RandF1 = RandomForestRegressor(max_features = 11, oob_score = True, max_samples = k).fit(x_train, y_train)\n",
      "<ipython-input-11-f28a9ce02c17>:23: DataConversionWarning: A column-vector y was passed when a 1d array was expected. Please change the shape of y to (n_samples,), for example using ravel().\n",
      "  RandF = RandomForestRegressor(max_features = 122, oob_score = True, max_samples = k).fit(x_train, y_train)\n"
     ]
    },
    {
     "name": "stdout",
     "output_type": "stream",
     "text": [
      "45\n"
     ]
    },
    {
     "name": "stderr",
     "output_type": "stream",
     "text": [
      "<ipython-input-11-f28a9ce02c17>:13: DataConversionWarning: A column-vector y was passed when a 1d array was expected. Please change the shape of y to (n_samples,), for example using ravel().\n",
      "  RandF1 = RandomForestRegressor(max_features = 11, oob_score = True, max_samples = k).fit(x_train, y_train)\n",
      "<ipython-input-11-f28a9ce02c17>:23: DataConversionWarning: A column-vector y was passed when a 1d array was expected. Please change the shape of y to (n_samples,), for example using ravel().\n",
      "  RandF = RandomForestRegressor(max_features = 122, oob_score = True, max_samples = k).fit(x_train, y_train)\n"
     ]
    },
    {
     "name": "stdout",
     "output_type": "stream",
     "text": [
      "46\n"
     ]
    },
    {
     "name": "stderr",
     "output_type": "stream",
     "text": [
      "<ipython-input-11-f28a9ce02c17>:13: DataConversionWarning: A column-vector y was passed when a 1d array was expected. Please change the shape of y to (n_samples,), for example using ravel().\n",
      "  RandF1 = RandomForestRegressor(max_features = 11, oob_score = True, max_samples = k).fit(x_train, y_train)\n",
      "<ipython-input-11-f28a9ce02c17>:23: DataConversionWarning: A column-vector y was passed when a 1d array was expected. Please change the shape of y to (n_samples,), for example using ravel().\n",
      "  RandF = RandomForestRegressor(max_features = 122, oob_score = True, max_samples = k).fit(x_train, y_train)\n"
     ]
    },
    {
     "name": "stdout",
     "output_type": "stream",
     "text": [
      "47\n"
     ]
    },
    {
     "name": "stderr",
     "output_type": "stream",
     "text": [
      "<ipython-input-11-f28a9ce02c17>:13: DataConversionWarning: A column-vector y was passed when a 1d array was expected. Please change the shape of y to (n_samples,), for example using ravel().\n",
      "  RandF1 = RandomForestRegressor(max_features = 11, oob_score = True, max_samples = k).fit(x_train, y_train)\n",
      "<ipython-input-11-f28a9ce02c17>:23: DataConversionWarning: A column-vector y was passed when a 1d array was expected. Please change the shape of y to (n_samples,), for example using ravel().\n",
      "  RandF = RandomForestRegressor(max_features = 122, oob_score = True, max_samples = k).fit(x_train, y_train)\n"
     ]
    },
    {
     "name": "stdout",
     "output_type": "stream",
     "text": [
      "48\n"
     ]
    },
    {
     "name": "stderr",
     "output_type": "stream",
     "text": [
      "<ipython-input-11-f28a9ce02c17>:13: DataConversionWarning: A column-vector y was passed when a 1d array was expected. Please change the shape of y to (n_samples,), for example using ravel().\n",
      "  RandF1 = RandomForestRegressor(max_features = 11, oob_score = True, max_samples = k).fit(x_train, y_train)\n",
      "<ipython-input-11-f28a9ce02c17>:23: DataConversionWarning: A column-vector y was passed when a 1d array was expected. Please change the shape of y to (n_samples,), for example using ravel().\n",
      "  RandF = RandomForestRegressor(max_features = 122, oob_score = True, max_samples = k).fit(x_train, y_train)\n"
     ]
    },
    {
     "name": "stdout",
     "output_type": "stream",
     "text": [
      "49\n"
     ]
    },
    {
     "name": "stderr",
     "output_type": "stream",
     "text": [
      "<ipython-input-11-f28a9ce02c17>:13: DataConversionWarning: A column-vector y was passed when a 1d array was expected. Please change the shape of y to (n_samples,), for example using ravel().\n",
      "  RandF1 = RandomForestRegressor(max_features = 11, oob_score = True, max_samples = k).fit(x_train, y_train)\n",
      "<ipython-input-11-f28a9ce02c17>:23: DataConversionWarning: A column-vector y was passed when a 1d array was expected. Please change the shape of y to (n_samples,), for example using ravel().\n",
      "  RandF = RandomForestRegressor(max_features = 122, oob_score = True, max_samples = k).fit(x_train, y_train)\n"
     ]
    },
    {
     "name": "stdout",
     "output_type": "stream",
     "text": [
      "50\n"
     ]
    },
    {
     "name": "stderr",
     "output_type": "stream",
     "text": [
      "<ipython-input-11-f28a9ce02c17>:13: DataConversionWarning: A column-vector y was passed when a 1d array was expected. Please change the shape of y to (n_samples,), for example using ravel().\n",
      "  RandF1 = RandomForestRegressor(max_features = 11, oob_score = True, max_samples = k).fit(x_train, y_train)\n",
      "<ipython-input-11-f28a9ce02c17>:23: DataConversionWarning: A column-vector y was passed when a 1d array was expected. Please change the shape of y to (n_samples,), for example using ravel().\n",
      "  RandF = RandomForestRegressor(max_features = 122, oob_score = True, max_samples = k).fit(x_train, y_train)\n"
     ]
    },
    {
     "name": "stdout",
     "output_type": "stream",
     "text": [
      "51\n"
     ]
    },
    {
     "name": "stderr",
     "output_type": "stream",
     "text": [
      "<ipython-input-11-f28a9ce02c17>:13: DataConversionWarning: A column-vector y was passed when a 1d array was expected. Please change the shape of y to (n_samples,), for example using ravel().\n",
      "  RandF1 = RandomForestRegressor(max_features = 11, oob_score = True, max_samples = k).fit(x_train, y_train)\n",
      "<ipython-input-11-f28a9ce02c17>:23: DataConversionWarning: A column-vector y was passed when a 1d array was expected. Please change the shape of y to (n_samples,), for example using ravel().\n",
      "  RandF = RandomForestRegressor(max_features = 122, oob_score = True, max_samples = k).fit(x_train, y_train)\n"
     ]
    },
    {
     "name": "stdout",
     "output_type": "stream",
     "text": [
      "52\n"
     ]
    },
    {
     "name": "stderr",
     "output_type": "stream",
     "text": [
      "<ipython-input-11-f28a9ce02c17>:13: DataConversionWarning: A column-vector y was passed when a 1d array was expected. Please change the shape of y to (n_samples,), for example using ravel().\n",
      "  RandF1 = RandomForestRegressor(max_features = 11, oob_score = True, max_samples = k).fit(x_train, y_train)\n",
      "<ipython-input-11-f28a9ce02c17>:23: DataConversionWarning: A column-vector y was passed when a 1d array was expected. Please change the shape of y to (n_samples,), for example using ravel().\n",
      "  RandF = RandomForestRegressor(max_features = 122, oob_score = True, max_samples = k).fit(x_train, y_train)\n"
     ]
    },
    {
     "name": "stdout",
     "output_type": "stream",
     "text": [
      "53\n"
     ]
    },
    {
     "name": "stderr",
     "output_type": "stream",
     "text": [
      "<ipython-input-11-f28a9ce02c17>:13: DataConversionWarning: A column-vector y was passed when a 1d array was expected. Please change the shape of y to (n_samples,), for example using ravel().\n",
      "  RandF1 = RandomForestRegressor(max_features = 11, oob_score = True, max_samples = k).fit(x_train, y_train)\n",
      "<ipython-input-11-f28a9ce02c17>:23: DataConversionWarning: A column-vector y was passed when a 1d array was expected. Please change the shape of y to (n_samples,), for example using ravel().\n",
      "  RandF = RandomForestRegressor(max_features = 122, oob_score = True, max_samples = k).fit(x_train, y_train)\n"
     ]
    },
    {
     "name": "stdout",
     "output_type": "stream",
     "text": [
      "54\n"
     ]
    },
    {
     "name": "stderr",
     "output_type": "stream",
     "text": [
      "<ipython-input-11-f28a9ce02c17>:13: DataConversionWarning: A column-vector y was passed when a 1d array was expected. Please change the shape of y to (n_samples,), for example using ravel().\n",
      "  RandF1 = RandomForestRegressor(max_features = 11, oob_score = True, max_samples = k).fit(x_train, y_train)\n",
      "<ipython-input-11-f28a9ce02c17>:23: DataConversionWarning: A column-vector y was passed when a 1d array was expected. Please change the shape of y to (n_samples,), for example using ravel().\n",
      "  RandF = RandomForestRegressor(max_features = 122, oob_score = True, max_samples = k).fit(x_train, y_train)\n"
     ]
    },
    {
     "name": "stdout",
     "output_type": "stream",
     "text": [
      "55\n"
     ]
    },
    {
     "name": "stderr",
     "output_type": "stream",
     "text": [
      "<ipython-input-11-f28a9ce02c17>:13: DataConversionWarning: A column-vector y was passed when a 1d array was expected. Please change the shape of y to (n_samples,), for example using ravel().\n",
      "  RandF1 = RandomForestRegressor(max_features = 11, oob_score = True, max_samples = k).fit(x_train, y_train)\n",
      "<ipython-input-11-f28a9ce02c17>:23: DataConversionWarning: A column-vector y was passed when a 1d array was expected. Please change the shape of y to (n_samples,), for example using ravel().\n",
      "  RandF = RandomForestRegressor(max_features = 122, oob_score = True, max_samples = k).fit(x_train, y_train)\n"
     ]
    },
    {
     "name": "stdout",
     "output_type": "stream",
     "text": [
      "56\n"
     ]
    },
    {
     "name": "stderr",
     "output_type": "stream",
     "text": [
      "<ipython-input-11-f28a9ce02c17>:13: DataConversionWarning: A column-vector y was passed when a 1d array was expected. Please change the shape of y to (n_samples,), for example using ravel().\n",
      "  RandF1 = RandomForestRegressor(max_features = 11, oob_score = True, max_samples = k).fit(x_train, y_train)\n",
      "<ipython-input-11-f28a9ce02c17>:23: DataConversionWarning: A column-vector y was passed when a 1d array was expected. Please change the shape of y to (n_samples,), for example using ravel().\n",
      "  RandF = RandomForestRegressor(max_features = 122, oob_score = True, max_samples = k).fit(x_train, y_train)\n"
     ]
    },
    {
     "name": "stdout",
     "output_type": "stream",
     "text": [
      "57\n"
     ]
    },
    {
     "name": "stderr",
     "output_type": "stream",
     "text": [
      "<ipython-input-11-f28a9ce02c17>:13: DataConversionWarning: A column-vector y was passed when a 1d array was expected. Please change the shape of y to (n_samples,), for example using ravel().\n",
      "  RandF1 = RandomForestRegressor(max_features = 11, oob_score = True, max_samples = k).fit(x_train, y_train)\n",
      "<ipython-input-11-f28a9ce02c17>:23: DataConversionWarning: A column-vector y was passed when a 1d array was expected. Please change the shape of y to (n_samples,), for example using ravel().\n",
      "  RandF = RandomForestRegressor(max_features = 122, oob_score = True, max_samples = k).fit(x_train, y_train)\n"
     ]
    },
    {
     "name": "stdout",
     "output_type": "stream",
     "text": [
      "58\n"
     ]
    },
    {
     "name": "stderr",
     "output_type": "stream",
     "text": [
      "<ipython-input-11-f28a9ce02c17>:13: DataConversionWarning: A column-vector y was passed when a 1d array was expected. Please change the shape of y to (n_samples,), for example using ravel().\n",
      "  RandF1 = RandomForestRegressor(max_features = 11, oob_score = True, max_samples = k).fit(x_train, y_train)\n",
      "<ipython-input-11-f28a9ce02c17>:23: DataConversionWarning: A column-vector y was passed when a 1d array was expected. Please change the shape of y to (n_samples,), for example using ravel().\n",
      "  RandF = RandomForestRegressor(max_features = 122, oob_score = True, max_samples = k).fit(x_train, y_train)\n"
     ]
    },
    {
     "name": "stdout",
     "output_type": "stream",
     "text": [
      "59\n"
     ]
    },
    {
     "name": "stderr",
     "output_type": "stream",
     "text": [
      "<ipython-input-11-f28a9ce02c17>:13: DataConversionWarning: A column-vector y was passed when a 1d array was expected. Please change the shape of y to (n_samples,), for example using ravel().\n",
      "  RandF1 = RandomForestRegressor(max_features = 11, oob_score = True, max_samples = k).fit(x_train, y_train)\n",
      "<ipython-input-11-f28a9ce02c17>:23: DataConversionWarning: A column-vector y was passed when a 1d array was expected. Please change the shape of y to (n_samples,), for example using ravel().\n",
      "  RandF = RandomForestRegressor(max_features = 122, oob_score = True, max_samples = k).fit(x_train, y_train)\n"
     ]
    },
    {
     "name": "stdout",
     "output_type": "stream",
     "text": [
      "60\n"
     ]
    },
    {
     "name": "stderr",
     "output_type": "stream",
     "text": [
      "<ipython-input-11-f28a9ce02c17>:13: DataConversionWarning: A column-vector y was passed when a 1d array was expected. Please change the shape of y to (n_samples,), for example using ravel().\n",
      "  RandF1 = RandomForestRegressor(max_features = 11, oob_score = True, max_samples = k).fit(x_train, y_train)\n",
      "<ipython-input-11-f28a9ce02c17>:23: DataConversionWarning: A column-vector y was passed when a 1d array was expected. Please change the shape of y to (n_samples,), for example using ravel().\n",
      "  RandF = RandomForestRegressor(max_features = 122, oob_score = True, max_samples = k).fit(x_train, y_train)\n"
     ]
    },
    {
     "name": "stdout",
     "output_type": "stream",
     "text": [
      "61\n"
     ]
    },
    {
     "name": "stderr",
     "output_type": "stream",
     "text": [
      "<ipython-input-11-f28a9ce02c17>:13: DataConversionWarning: A column-vector y was passed when a 1d array was expected. Please change the shape of y to (n_samples,), for example using ravel().\n",
      "  RandF1 = RandomForestRegressor(max_features = 11, oob_score = True, max_samples = k).fit(x_train, y_train)\n",
      "<ipython-input-11-f28a9ce02c17>:23: DataConversionWarning: A column-vector y was passed when a 1d array was expected. Please change the shape of y to (n_samples,), for example using ravel().\n",
      "  RandF = RandomForestRegressor(max_features = 122, oob_score = True, max_samples = k).fit(x_train, y_train)\n"
     ]
    },
    {
     "name": "stdout",
     "output_type": "stream",
     "text": [
      "62\n"
     ]
    },
    {
     "name": "stderr",
     "output_type": "stream",
     "text": [
      "<ipython-input-11-f28a9ce02c17>:13: DataConversionWarning: A column-vector y was passed when a 1d array was expected. Please change the shape of y to (n_samples,), for example using ravel().\n",
      "  RandF1 = RandomForestRegressor(max_features = 11, oob_score = True, max_samples = k).fit(x_train, y_train)\n",
      "<ipython-input-11-f28a9ce02c17>:23: DataConversionWarning: A column-vector y was passed when a 1d array was expected. Please change the shape of y to (n_samples,), for example using ravel().\n",
      "  RandF = RandomForestRegressor(max_features = 122, oob_score = True, max_samples = k).fit(x_train, y_train)\n"
     ]
    },
    {
     "name": "stdout",
     "output_type": "stream",
     "text": [
      "63\n"
     ]
    },
    {
     "name": "stderr",
     "output_type": "stream",
     "text": [
      "<ipython-input-11-f28a9ce02c17>:13: DataConversionWarning: A column-vector y was passed when a 1d array was expected. Please change the shape of y to (n_samples,), for example using ravel().\n",
      "  RandF1 = RandomForestRegressor(max_features = 11, oob_score = True, max_samples = k).fit(x_train, y_train)\n",
      "<ipython-input-11-f28a9ce02c17>:23: DataConversionWarning: A column-vector y was passed when a 1d array was expected. Please change the shape of y to (n_samples,), for example using ravel().\n",
      "  RandF = RandomForestRegressor(max_features = 122, oob_score = True, max_samples = k).fit(x_train, y_train)\n"
     ]
    },
    {
     "name": "stdout",
     "output_type": "stream",
     "text": [
      "64\n"
     ]
    },
    {
     "name": "stderr",
     "output_type": "stream",
     "text": [
      "<ipython-input-11-f28a9ce02c17>:13: DataConversionWarning: A column-vector y was passed when a 1d array was expected. Please change the shape of y to (n_samples,), for example using ravel().\n",
      "  RandF1 = RandomForestRegressor(max_features = 11, oob_score = True, max_samples = k).fit(x_train, y_train)\n",
      "<ipython-input-11-f28a9ce02c17>:23: DataConversionWarning: A column-vector y was passed when a 1d array was expected. Please change the shape of y to (n_samples,), for example using ravel().\n",
      "  RandF = RandomForestRegressor(max_features = 122, oob_score = True, max_samples = k).fit(x_train, y_train)\n"
     ]
    },
    {
     "name": "stdout",
     "output_type": "stream",
     "text": [
      "65\n"
     ]
    },
    {
     "name": "stderr",
     "output_type": "stream",
     "text": [
      "<ipython-input-11-f28a9ce02c17>:13: DataConversionWarning: A column-vector y was passed when a 1d array was expected. Please change the shape of y to (n_samples,), for example using ravel().\n",
      "  RandF1 = RandomForestRegressor(max_features = 11, oob_score = True, max_samples = k).fit(x_train, y_train)\n",
      "<ipython-input-11-f28a9ce02c17>:23: DataConversionWarning: A column-vector y was passed when a 1d array was expected. Please change the shape of y to (n_samples,), for example using ravel().\n",
      "  RandF = RandomForestRegressor(max_features = 122, oob_score = True, max_samples = k).fit(x_train, y_train)\n"
     ]
    },
    {
     "name": "stdout",
     "output_type": "stream",
     "text": [
      "66\n"
     ]
    },
    {
     "name": "stderr",
     "output_type": "stream",
     "text": [
      "<ipython-input-11-f28a9ce02c17>:13: DataConversionWarning: A column-vector y was passed when a 1d array was expected. Please change the shape of y to (n_samples,), for example using ravel().\n",
      "  RandF1 = RandomForestRegressor(max_features = 11, oob_score = True, max_samples = k).fit(x_train, y_train)\n",
      "<ipython-input-11-f28a9ce02c17>:23: DataConversionWarning: A column-vector y was passed when a 1d array was expected. Please change the shape of y to (n_samples,), for example using ravel().\n",
      "  RandF = RandomForestRegressor(max_features = 122, oob_score = True, max_samples = k).fit(x_train, y_train)\n"
     ]
    },
    {
     "name": "stdout",
     "output_type": "stream",
     "text": [
      "67\n"
     ]
    },
    {
     "name": "stderr",
     "output_type": "stream",
     "text": [
      "<ipython-input-11-f28a9ce02c17>:13: DataConversionWarning: A column-vector y was passed when a 1d array was expected. Please change the shape of y to (n_samples,), for example using ravel().\n",
      "  RandF1 = RandomForestRegressor(max_features = 11, oob_score = True, max_samples = k).fit(x_train, y_train)\n",
      "<ipython-input-11-f28a9ce02c17>:23: DataConversionWarning: A column-vector y was passed when a 1d array was expected. Please change the shape of y to (n_samples,), for example using ravel().\n",
      "  RandF = RandomForestRegressor(max_features = 122, oob_score = True, max_samples = k).fit(x_train, y_train)\n"
     ]
    },
    {
     "name": "stdout",
     "output_type": "stream",
     "text": [
      "68\n"
     ]
    },
    {
     "name": "stderr",
     "output_type": "stream",
     "text": [
      "<ipython-input-11-f28a9ce02c17>:13: DataConversionWarning: A column-vector y was passed when a 1d array was expected. Please change the shape of y to (n_samples,), for example using ravel().\n",
      "  RandF1 = RandomForestRegressor(max_features = 11, oob_score = True, max_samples = k).fit(x_train, y_train)\n",
      "<ipython-input-11-f28a9ce02c17>:23: DataConversionWarning: A column-vector y was passed when a 1d array was expected. Please change the shape of y to (n_samples,), for example using ravel().\n",
      "  RandF = RandomForestRegressor(max_features = 122, oob_score = True, max_samples = k).fit(x_train, y_train)\n"
     ]
    },
    {
     "name": "stdout",
     "output_type": "stream",
     "text": [
      "69\n"
     ]
    },
    {
     "name": "stderr",
     "output_type": "stream",
     "text": [
      "<ipython-input-11-f28a9ce02c17>:13: DataConversionWarning: A column-vector y was passed when a 1d array was expected. Please change the shape of y to (n_samples,), for example using ravel().\n",
      "  RandF1 = RandomForestRegressor(max_features = 11, oob_score = True, max_samples = k).fit(x_train, y_train)\n",
      "<ipython-input-11-f28a9ce02c17>:23: DataConversionWarning: A column-vector y was passed when a 1d array was expected. Please change the shape of y to (n_samples,), for example using ravel().\n",
      "  RandF = RandomForestRegressor(max_features = 122, oob_score = True, max_samples = k).fit(x_train, y_train)\n"
     ]
    },
    {
     "name": "stdout",
     "output_type": "stream",
     "text": [
      "70\n"
     ]
    },
    {
     "name": "stderr",
     "output_type": "stream",
     "text": [
      "<ipython-input-11-f28a9ce02c17>:13: DataConversionWarning: A column-vector y was passed when a 1d array was expected. Please change the shape of y to (n_samples,), for example using ravel().\n",
      "  RandF1 = RandomForestRegressor(max_features = 11, oob_score = True, max_samples = k).fit(x_train, y_train)\n",
      "<ipython-input-11-f28a9ce02c17>:23: DataConversionWarning: A column-vector y was passed when a 1d array was expected. Please change the shape of y to (n_samples,), for example using ravel().\n",
      "  RandF = RandomForestRegressor(max_features = 122, oob_score = True, max_samples = k).fit(x_train, y_train)\n"
     ]
    },
    {
     "name": "stdout",
     "output_type": "stream",
     "text": [
      "71\n"
     ]
    },
    {
     "name": "stderr",
     "output_type": "stream",
     "text": [
      "<ipython-input-11-f28a9ce02c17>:13: DataConversionWarning: A column-vector y was passed when a 1d array was expected. Please change the shape of y to (n_samples,), for example using ravel().\n",
      "  RandF1 = RandomForestRegressor(max_features = 11, oob_score = True, max_samples = k).fit(x_train, y_train)\n",
      "<ipython-input-11-f28a9ce02c17>:23: DataConversionWarning: A column-vector y was passed when a 1d array was expected. Please change the shape of y to (n_samples,), for example using ravel().\n",
      "  RandF = RandomForestRegressor(max_features = 122, oob_score = True, max_samples = k).fit(x_train, y_train)\n"
     ]
    },
    {
     "name": "stdout",
     "output_type": "stream",
     "text": [
      "72\n"
     ]
    },
    {
     "name": "stderr",
     "output_type": "stream",
     "text": [
      "<ipython-input-11-f28a9ce02c17>:13: DataConversionWarning: A column-vector y was passed when a 1d array was expected. Please change the shape of y to (n_samples,), for example using ravel().\n",
      "  RandF1 = RandomForestRegressor(max_features = 11, oob_score = True, max_samples = k).fit(x_train, y_train)\n"
     ]
    },
    {
     "name": "stdout",
     "output_type": "stream",
     "text": [
      "73\n"
     ]
    },
    {
     "name": "stderr",
     "output_type": "stream",
     "text": [
      "<ipython-input-11-f28a9ce02c17>:23: DataConversionWarning: A column-vector y was passed when a 1d array was expected. Please change the shape of y to (n_samples,), for example using ravel().\n",
      "  RandF = RandomForestRegressor(max_features = 122, oob_score = True, max_samples = k).fit(x_train, y_train)\n",
      "<ipython-input-11-f28a9ce02c17>:13: DataConversionWarning: A column-vector y was passed when a 1d array was expected. Please change the shape of y to (n_samples,), for example using ravel().\n",
      "  RandF1 = RandomForestRegressor(max_features = 11, oob_score = True, max_samples = k).fit(x_train, y_train)\n",
      "<ipython-input-11-f28a9ce02c17>:23: DataConversionWarning: A column-vector y was passed when a 1d array was expected. Please change the shape of y to (n_samples,), for example using ravel().\n",
      "  RandF = RandomForestRegressor(max_features = 122, oob_score = True, max_samples = k).fit(x_train, y_train)\n"
     ]
    },
    {
     "name": "stdout",
     "output_type": "stream",
     "text": [
      "74\n"
     ]
    },
    {
     "name": "stderr",
     "output_type": "stream",
     "text": [
      "<ipython-input-11-f28a9ce02c17>:13: DataConversionWarning: A column-vector y was passed when a 1d array was expected. Please change the shape of y to (n_samples,), for example using ravel().\n",
      "  RandF1 = RandomForestRegressor(max_features = 11, oob_score = True, max_samples = k).fit(x_train, y_train)\n",
      "<ipython-input-11-f28a9ce02c17>:23: DataConversionWarning: A column-vector y was passed when a 1d array was expected. Please change the shape of y to (n_samples,), for example using ravel().\n",
      "  RandF = RandomForestRegressor(max_features = 122, oob_score = True, max_samples = k).fit(x_train, y_train)\n"
     ]
    },
    {
     "name": "stdout",
     "output_type": "stream",
     "text": [
      "75\n"
     ]
    },
    {
     "name": "stderr",
     "output_type": "stream",
     "text": [
      "<ipython-input-11-f28a9ce02c17>:13: DataConversionWarning: A column-vector y was passed when a 1d array was expected. Please change the shape of y to (n_samples,), for example using ravel().\n",
      "  RandF1 = RandomForestRegressor(max_features = 11, oob_score = True, max_samples = k).fit(x_train, y_train)\n",
      "<ipython-input-11-f28a9ce02c17>:23: DataConversionWarning: A column-vector y was passed when a 1d array was expected. Please change the shape of y to (n_samples,), for example using ravel().\n",
      "  RandF = RandomForestRegressor(max_features = 122, oob_score = True, max_samples = k).fit(x_train, y_train)\n"
     ]
    },
    {
     "name": "stdout",
     "output_type": "stream",
     "text": [
      "76\n"
     ]
    },
    {
     "name": "stderr",
     "output_type": "stream",
     "text": [
      "<ipython-input-11-f28a9ce02c17>:13: DataConversionWarning: A column-vector y was passed when a 1d array was expected. Please change the shape of y to (n_samples,), for example using ravel().\n",
      "  RandF1 = RandomForestRegressor(max_features = 11, oob_score = True, max_samples = k).fit(x_train, y_train)\n",
      "<ipython-input-11-f28a9ce02c17>:23: DataConversionWarning: A column-vector y was passed when a 1d array was expected. Please change the shape of y to (n_samples,), for example using ravel().\n",
      "  RandF = RandomForestRegressor(max_features = 122, oob_score = True, max_samples = k).fit(x_train, y_train)\n"
     ]
    },
    {
     "name": "stdout",
     "output_type": "stream",
     "text": [
      "77\n"
     ]
    },
    {
     "name": "stderr",
     "output_type": "stream",
     "text": [
      "<ipython-input-11-f28a9ce02c17>:13: DataConversionWarning: A column-vector y was passed when a 1d array was expected. Please change the shape of y to (n_samples,), for example using ravel().\n",
      "  RandF1 = RandomForestRegressor(max_features = 11, oob_score = True, max_samples = k).fit(x_train, y_train)\n",
      "<ipython-input-11-f28a9ce02c17>:23: DataConversionWarning: A column-vector y was passed when a 1d array was expected. Please change the shape of y to (n_samples,), for example using ravel().\n",
      "  RandF = RandomForestRegressor(max_features = 122, oob_score = True, max_samples = k).fit(x_train, y_train)\n"
     ]
    },
    {
     "name": "stdout",
     "output_type": "stream",
     "text": [
      "78\n"
     ]
    },
    {
     "name": "stderr",
     "output_type": "stream",
     "text": [
      "<ipython-input-11-f28a9ce02c17>:13: DataConversionWarning: A column-vector y was passed when a 1d array was expected. Please change the shape of y to (n_samples,), for example using ravel().\n",
      "  RandF1 = RandomForestRegressor(max_features = 11, oob_score = True, max_samples = k).fit(x_train, y_train)\n",
      "<ipython-input-11-f28a9ce02c17>:23: DataConversionWarning: A column-vector y was passed when a 1d array was expected. Please change the shape of y to (n_samples,), for example using ravel().\n",
      "  RandF = RandomForestRegressor(max_features = 122, oob_score = True, max_samples = k).fit(x_train, y_train)\n"
     ]
    },
    {
     "name": "stdout",
     "output_type": "stream",
     "text": [
      "79\n"
     ]
    },
    {
     "name": "stderr",
     "output_type": "stream",
     "text": [
      "<ipython-input-11-f28a9ce02c17>:13: DataConversionWarning: A column-vector y was passed when a 1d array was expected. Please change the shape of y to (n_samples,), for example using ravel().\n",
      "  RandF1 = RandomForestRegressor(max_features = 11, oob_score = True, max_samples = k).fit(x_train, y_train)\n",
      "<ipython-input-11-f28a9ce02c17>:23: DataConversionWarning: A column-vector y was passed when a 1d array was expected. Please change the shape of y to (n_samples,), for example using ravel().\n",
      "  RandF = RandomForestRegressor(max_features = 122, oob_score = True, max_samples = k).fit(x_train, y_train)\n"
     ]
    },
    {
     "name": "stdout",
     "output_type": "stream",
     "text": [
      "80\n"
     ]
    },
    {
     "name": "stderr",
     "output_type": "stream",
     "text": [
      "<ipython-input-11-f28a9ce02c17>:13: DataConversionWarning: A column-vector y was passed when a 1d array was expected. Please change the shape of y to (n_samples,), for example using ravel().\n",
      "  RandF1 = RandomForestRegressor(max_features = 11, oob_score = True, max_samples = k).fit(x_train, y_train)\n",
      "<ipython-input-11-f28a9ce02c17>:23: DataConversionWarning: A column-vector y was passed when a 1d array was expected. Please change the shape of y to (n_samples,), for example using ravel().\n",
      "  RandF = RandomForestRegressor(max_features = 122, oob_score = True, max_samples = k).fit(x_train, y_train)\n"
     ]
    },
    {
     "name": "stdout",
     "output_type": "stream",
     "text": [
      "81\n"
     ]
    },
    {
     "name": "stderr",
     "output_type": "stream",
     "text": [
      "<ipython-input-11-f28a9ce02c17>:13: DataConversionWarning: A column-vector y was passed when a 1d array was expected. Please change the shape of y to (n_samples,), for example using ravel().\n",
      "  RandF1 = RandomForestRegressor(max_features = 11, oob_score = True, max_samples = k).fit(x_train, y_train)\n",
      "<ipython-input-11-f28a9ce02c17>:23: DataConversionWarning: A column-vector y was passed when a 1d array was expected. Please change the shape of y to (n_samples,), for example using ravel().\n",
      "  RandF = RandomForestRegressor(max_features = 122, oob_score = True, max_samples = k).fit(x_train, y_train)\n"
     ]
    },
    {
     "name": "stdout",
     "output_type": "stream",
     "text": [
      "82\n"
     ]
    },
    {
     "name": "stderr",
     "output_type": "stream",
     "text": [
      "<ipython-input-11-f28a9ce02c17>:13: DataConversionWarning: A column-vector y was passed when a 1d array was expected. Please change the shape of y to (n_samples,), for example using ravel().\n",
      "  RandF1 = RandomForestRegressor(max_features = 11, oob_score = True, max_samples = k).fit(x_train, y_train)\n",
      "<ipython-input-11-f28a9ce02c17>:23: DataConversionWarning: A column-vector y was passed when a 1d array was expected. Please change the shape of y to (n_samples,), for example using ravel().\n",
      "  RandF = RandomForestRegressor(max_features = 122, oob_score = True, max_samples = k).fit(x_train, y_train)\n"
     ]
    },
    {
     "name": "stdout",
     "output_type": "stream",
     "text": [
      "83\n"
     ]
    },
    {
     "name": "stderr",
     "output_type": "stream",
     "text": [
      "<ipython-input-11-f28a9ce02c17>:13: DataConversionWarning: A column-vector y was passed when a 1d array was expected. Please change the shape of y to (n_samples,), for example using ravel().\n",
      "  RandF1 = RandomForestRegressor(max_features = 11, oob_score = True, max_samples = k).fit(x_train, y_train)\n",
      "<ipython-input-11-f28a9ce02c17>:23: DataConversionWarning: A column-vector y was passed when a 1d array was expected. Please change the shape of y to (n_samples,), for example using ravel().\n",
      "  RandF = RandomForestRegressor(max_features = 122, oob_score = True, max_samples = k).fit(x_train, y_train)\n"
     ]
    },
    {
     "name": "stdout",
     "output_type": "stream",
     "text": [
      "84\n"
     ]
    },
    {
     "name": "stderr",
     "output_type": "stream",
     "text": [
      "<ipython-input-11-f28a9ce02c17>:13: DataConversionWarning: A column-vector y was passed when a 1d array was expected. Please change the shape of y to (n_samples,), for example using ravel().\n",
      "  RandF1 = RandomForestRegressor(max_features = 11, oob_score = True, max_samples = k).fit(x_train, y_train)\n",
      "<ipython-input-11-f28a9ce02c17>:23: DataConversionWarning: A column-vector y was passed when a 1d array was expected. Please change the shape of y to (n_samples,), for example using ravel().\n",
      "  RandF = RandomForestRegressor(max_features = 122, oob_score = True, max_samples = k).fit(x_train, y_train)\n"
     ]
    },
    {
     "name": "stdout",
     "output_type": "stream",
     "text": [
      "85\n"
     ]
    },
    {
     "name": "stderr",
     "output_type": "stream",
     "text": [
      "<ipython-input-11-f28a9ce02c17>:13: DataConversionWarning: A column-vector y was passed when a 1d array was expected. Please change the shape of y to (n_samples,), for example using ravel().\n",
      "  RandF1 = RandomForestRegressor(max_features = 11, oob_score = True, max_samples = k).fit(x_train, y_train)\n",
      "<ipython-input-11-f28a9ce02c17>:23: DataConversionWarning: A column-vector y was passed when a 1d array was expected. Please change the shape of y to (n_samples,), for example using ravel().\n",
      "  RandF = RandomForestRegressor(max_features = 122, oob_score = True, max_samples = k).fit(x_train, y_train)\n"
     ]
    },
    {
     "name": "stdout",
     "output_type": "stream",
     "text": [
      "86\n"
     ]
    },
    {
     "name": "stderr",
     "output_type": "stream",
     "text": [
      "<ipython-input-11-f28a9ce02c17>:13: DataConversionWarning: A column-vector y was passed when a 1d array was expected. Please change the shape of y to (n_samples,), for example using ravel().\n",
      "  RandF1 = RandomForestRegressor(max_features = 11, oob_score = True, max_samples = k).fit(x_train, y_train)\n",
      "<ipython-input-11-f28a9ce02c17>:23: DataConversionWarning: A column-vector y was passed when a 1d array was expected. Please change the shape of y to (n_samples,), for example using ravel().\n",
      "  RandF = RandomForestRegressor(max_features = 122, oob_score = True, max_samples = k).fit(x_train, y_train)\n"
     ]
    },
    {
     "name": "stdout",
     "output_type": "stream",
     "text": [
      "87\n"
     ]
    },
    {
     "name": "stderr",
     "output_type": "stream",
     "text": [
      "<ipython-input-11-f28a9ce02c17>:13: DataConversionWarning: A column-vector y was passed when a 1d array was expected. Please change the shape of y to (n_samples,), for example using ravel().\n",
      "  RandF1 = RandomForestRegressor(max_features = 11, oob_score = True, max_samples = k).fit(x_train, y_train)\n",
      "<ipython-input-11-f28a9ce02c17>:23: DataConversionWarning: A column-vector y was passed when a 1d array was expected. Please change the shape of y to (n_samples,), for example using ravel().\n",
      "  RandF = RandomForestRegressor(max_features = 122, oob_score = True, max_samples = k).fit(x_train, y_train)\n"
     ]
    },
    {
     "name": "stdout",
     "output_type": "stream",
     "text": [
      "88\n"
     ]
    },
    {
     "name": "stderr",
     "output_type": "stream",
     "text": [
      "<ipython-input-11-f28a9ce02c17>:13: DataConversionWarning: A column-vector y was passed when a 1d array was expected. Please change the shape of y to (n_samples,), for example using ravel().\n",
      "  RandF1 = RandomForestRegressor(max_features = 11, oob_score = True, max_samples = k).fit(x_train, y_train)\n",
      "<ipython-input-11-f28a9ce02c17>:23: DataConversionWarning: A column-vector y was passed when a 1d array was expected. Please change the shape of y to (n_samples,), for example using ravel().\n",
      "  RandF = RandomForestRegressor(max_features = 122, oob_score = True, max_samples = k).fit(x_train, y_train)\n"
     ]
    },
    {
     "name": "stdout",
     "output_type": "stream",
     "text": [
      "89\n"
     ]
    },
    {
     "name": "stderr",
     "output_type": "stream",
     "text": [
      "<ipython-input-11-f28a9ce02c17>:13: DataConversionWarning: A column-vector y was passed when a 1d array was expected. Please change the shape of y to (n_samples,), for example using ravel().\n",
      "  RandF1 = RandomForestRegressor(max_features = 11, oob_score = True, max_samples = k).fit(x_train, y_train)\n",
      "<ipython-input-11-f28a9ce02c17>:23: DataConversionWarning: A column-vector y was passed when a 1d array was expected. Please change the shape of y to (n_samples,), for example using ravel().\n",
      "  RandF = RandomForestRegressor(max_features = 122, oob_score = True, max_samples = k).fit(x_train, y_train)\n"
     ]
    },
    {
     "name": "stdout",
     "output_type": "stream",
     "text": [
      "90\n"
     ]
    },
    {
     "name": "stderr",
     "output_type": "stream",
     "text": [
      "<ipython-input-11-f28a9ce02c17>:13: DataConversionWarning: A column-vector y was passed when a 1d array was expected. Please change the shape of y to (n_samples,), for example using ravel().\n",
      "  RandF1 = RandomForestRegressor(max_features = 11, oob_score = True, max_samples = k).fit(x_train, y_train)\n",
      "<ipython-input-11-f28a9ce02c17>:23: DataConversionWarning: A column-vector y was passed when a 1d array was expected. Please change the shape of y to (n_samples,), for example using ravel().\n",
      "  RandF = RandomForestRegressor(max_features = 122, oob_score = True, max_samples = k).fit(x_train, y_train)\n"
     ]
    },
    {
     "name": "stdout",
     "output_type": "stream",
     "text": [
      "91\n"
     ]
    },
    {
     "name": "stderr",
     "output_type": "stream",
     "text": [
      "<ipython-input-11-f28a9ce02c17>:13: DataConversionWarning: A column-vector y was passed when a 1d array was expected. Please change the shape of y to (n_samples,), for example using ravel().\n",
      "  RandF1 = RandomForestRegressor(max_features = 11, oob_score = True, max_samples = k).fit(x_train, y_train)\n",
      "<ipython-input-11-f28a9ce02c17>:23: DataConversionWarning: A column-vector y was passed when a 1d array was expected. Please change the shape of y to (n_samples,), for example using ravel().\n",
      "  RandF = RandomForestRegressor(max_features = 122, oob_score = True, max_samples = k).fit(x_train, y_train)\n"
     ]
    },
    {
     "name": "stdout",
     "output_type": "stream",
     "text": [
      "92\n"
     ]
    },
    {
     "name": "stderr",
     "output_type": "stream",
     "text": [
      "<ipython-input-11-f28a9ce02c17>:13: DataConversionWarning: A column-vector y was passed when a 1d array was expected. Please change the shape of y to (n_samples,), for example using ravel().\n",
      "  RandF1 = RandomForestRegressor(max_features = 11, oob_score = True, max_samples = k).fit(x_train, y_train)\n",
      "<ipython-input-11-f28a9ce02c17>:23: DataConversionWarning: A column-vector y was passed when a 1d array was expected. Please change the shape of y to (n_samples,), for example using ravel().\n",
      "  RandF = RandomForestRegressor(max_features = 122, oob_score = True, max_samples = k).fit(x_train, y_train)\n"
     ]
    },
    {
     "name": "stdout",
     "output_type": "stream",
     "text": [
      "93\n"
     ]
    },
    {
     "name": "stderr",
     "output_type": "stream",
     "text": [
      "<ipython-input-11-f28a9ce02c17>:13: DataConversionWarning: A column-vector y was passed when a 1d array was expected. Please change the shape of y to (n_samples,), for example using ravel().\n",
      "  RandF1 = RandomForestRegressor(max_features = 11, oob_score = True, max_samples = k).fit(x_train, y_train)\n",
      "<ipython-input-11-f28a9ce02c17>:23: DataConversionWarning: A column-vector y was passed when a 1d array was expected. Please change the shape of y to (n_samples,), for example using ravel().\n",
      "  RandF = RandomForestRegressor(max_features = 122, oob_score = True, max_samples = k).fit(x_train, y_train)\n"
     ]
    },
    {
     "name": "stdout",
     "output_type": "stream",
     "text": [
      "94\n"
     ]
    },
    {
     "name": "stderr",
     "output_type": "stream",
     "text": [
      "<ipython-input-11-f28a9ce02c17>:13: DataConversionWarning: A column-vector y was passed when a 1d array was expected. Please change the shape of y to (n_samples,), for example using ravel().\n",
      "  RandF1 = RandomForestRegressor(max_features = 11, oob_score = True, max_samples = k).fit(x_train, y_train)\n",
      "<ipython-input-11-f28a9ce02c17>:23: DataConversionWarning: A column-vector y was passed when a 1d array was expected. Please change the shape of y to (n_samples,), for example using ravel().\n",
      "  RandF = RandomForestRegressor(max_features = 122, oob_score = True, max_samples = k).fit(x_train, y_train)\n"
     ]
    },
    {
     "name": "stdout",
     "output_type": "stream",
     "text": [
      "95\n"
     ]
    },
    {
     "name": "stderr",
     "output_type": "stream",
     "text": [
      "<ipython-input-11-f28a9ce02c17>:13: DataConversionWarning: A column-vector y was passed when a 1d array was expected. Please change the shape of y to (n_samples,), for example using ravel().\n",
      "  RandF1 = RandomForestRegressor(max_features = 11, oob_score = True, max_samples = k).fit(x_train, y_train)\n",
      "<ipython-input-11-f28a9ce02c17>:23: DataConversionWarning: A column-vector y was passed when a 1d array was expected. Please change the shape of y to (n_samples,), for example using ravel().\n",
      "  RandF = RandomForestRegressor(max_features = 122, oob_score = True, max_samples = k).fit(x_train, y_train)\n"
     ]
    },
    {
     "name": "stdout",
     "output_type": "stream",
     "text": [
      "96\n"
     ]
    },
    {
     "name": "stderr",
     "output_type": "stream",
     "text": [
      "<ipython-input-11-f28a9ce02c17>:13: DataConversionWarning: A column-vector y was passed when a 1d array was expected. Please change the shape of y to (n_samples,), for example using ravel().\n",
      "  RandF1 = RandomForestRegressor(max_features = 11, oob_score = True, max_samples = k).fit(x_train, y_train)\n",
      "<ipython-input-11-f28a9ce02c17>:23: DataConversionWarning: A column-vector y was passed when a 1d array was expected. Please change the shape of y to (n_samples,), for example using ravel().\n",
      "  RandF = RandomForestRegressor(max_features = 122, oob_score = True, max_samples = k).fit(x_train, y_train)\n"
     ]
    },
    {
     "name": "stdout",
     "output_type": "stream",
     "text": [
      "97\n"
     ]
    },
    {
     "name": "stderr",
     "output_type": "stream",
     "text": [
      "<ipython-input-11-f28a9ce02c17>:13: DataConversionWarning: A column-vector y was passed when a 1d array was expected. Please change the shape of y to (n_samples,), for example using ravel().\n",
      "  RandF1 = RandomForestRegressor(max_features = 11, oob_score = True, max_samples = k).fit(x_train, y_train)\n",
      "<ipython-input-11-f28a9ce02c17>:23: DataConversionWarning: A column-vector y was passed when a 1d array was expected. Please change the shape of y to (n_samples,), for example using ravel().\n",
      "  RandF = RandomForestRegressor(max_features = 122, oob_score = True, max_samples = k).fit(x_train, y_train)\n"
     ]
    },
    {
     "name": "stdout",
     "output_type": "stream",
     "text": [
      "98\n"
     ]
    },
    {
     "name": "stderr",
     "output_type": "stream",
     "text": [
      "<ipython-input-11-f28a9ce02c17>:13: DataConversionWarning: A column-vector y was passed when a 1d array was expected. Please change the shape of y to (n_samples,), for example using ravel().\n",
      "  RandF1 = RandomForestRegressor(max_features = 11, oob_score = True, max_samples = k).fit(x_train, y_train)\n",
      "<ipython-input-11-f28a9ce02c17>:23: DataConversionWarning: A column-vector y was passed when a 1d array was expected. Please change the shape of y to (n_samples,), for example using ravel().\n",
      "  RandF = RandomForestRegressor(max_features = 122, oob_score = True, max_samples = k).fit(x_train, y_train)\n"
     ]
    },
    {
     "name": "stdout",
     "output_type": "stream",
     "text": [
      "99\n"
     ]
    },
    {
     "name": "stderr",
     "output_type": "stream",
     "text": [
      "<ipython-input-11-f28a9ce02c17>:13: DataConversionWarning: A column-vector y was passed when a 1d array was expected. Please change the shape of y to (n_samples,), for example using ravel().\n",
      "  RandF1 = RandomForestRegressor(max_features = 11, oob_score = True, max_samples = k).fit(x_train, y_train)\n",
      "<ipython-input-11-f28a9ce02c17>:23: DataConversionWarning: A column-vector y was passed when a 1d array was expected. Please change the shape of y to (n_samples,), for example using ravel().\n",
      "  RandF = RandomForestRegressor(max_features = 122, oob_score = True, max_samples = k).fit(x_train, y_train)\n"
     ]
    },
    {
     "name": "stdout",
     "output_type": "stream",
     "text": [
      "100\n"
     ]
    },
    {
     "name": "stderr",
     "output_type": "stream",
     "text": [
      "<ipython-input-11-f28a9ce02c17>:13: DataConversionWarning: A column-vector y was passed when a 1d array was expected. Please change the shape of y to (n_samples,), for example using ravel().\n",
      "  RandF1 = RandomForestRegressor(max_features = 11, oob_score = True, max_samples = k).fit(x_train, y_train)\n",
      "<ipython-input-11-f28a9ce02c17>:23: DataConversionWarning: A column-vector y was passed when a 1d array was expected. Please change the shape of y to (n_samples,), for example using ravel().\n",
      "  RandF = RandomForestRegressor(max_features = 122, oob_score = True, max_samples = k).fit(x_train, y_train)\n"
     ]
    },
    {
     "name": "stdout",
     "output_type": "stream",
     "text": [
      "101\n"
     ]
    },
    {
     "name": "stderr",
     "output_type": "stream",
     "text": [
      "<ipython-input-11-f28a9ce02c17>:13: DataConversionWarning: A column-vector y was passed when a 1d array was expected. Please change the shape of y to (n_samples,), for example using ravel().\n",
      "  RandF1 = RandomForestRegressor(max_features = 11, oob_score = True, max_samples = k).fit(x_train, y_train)\n",
      "<ipython-input-11-f28a9ce02c17>:23: DataConversionWarning: A column-vector y was passed when a 1d array was expected. Please change the shape of y to (n_samples,), for example using ravel().\n",
      "  RandF = RandomForestRegressor(max_features = 122, oob_score = True, max_samples = k).fit(x_train, y_train)\n"
     ]
    },
    {
     "name": "stdout",
     "output_type": "stream",
     "text": [
      "102\n"
     ]
    },
    {
     "name": "stderr",
     "output_type": "stream",
     "text": [
      "<ipython-input-11-f28a9ce02c17>:13: DataConversionWarning: A column-vector y was passed when a 1d array was expected. Please change the shape of y to (n_samples,), for example using ravel().\n",
      "  RandF1 = RandomForestRegressor(max_features = 11, oob_score = True, max_samples = k).fit(x_train, y_train)\n",
      "<ipython-input-11-f28a9ce02c17>:23: DataConversionWarning: A column-vector y was passed when a 1d array was expected. Please change the shape of y to (n_samples,), for example using ravel().\n",
      "  RandF = RandomForestRegressor(max_features = 122, oob_score = True, max_samples = k).fit(x_train, y_train)\n"
     ]
    },
    {
     "name": "stdout",
     "output_type": "stream",
     "text": [
      "103\n"
     ]
    },
    {
     "name": "stderr",
     "output_type": "stream",
     "text": [
      "<ipython-input-11-f28a9ce02c17>:13: DataConversionWarning: A column-vector y was passed when a 1d array was expected. Please change the shape of y to (n_samples,), for example using ravel().\n",
      "  RandF1 = RandomForestRegressor(max_features = 11, oob_score = True, max_samples = k).fit(x_train, y_train)\n",
      "<ipython-input-11-f28a9ce02c17>:23: DataConversionWarning: A column-vector y was passed when a 1d array was expected. Please change the shape of y to (n_samples,), for example using ravel().\n",
      "  RandF = RandomForestRegressor(max_features = 122, oob_score = True, max_samples = k).fit(x_train, y_train)\n"
     ]
    },
    {
     "name": "stdout",
     "output_type": "stream",
     "text": [
      "104\n"
     ]
    },
    {
     "name": "stderr",
     "output_type": "stream",
     "text": [
      "<ipython-input-11-f28a9ce02c17>:13: DataConversionWarning: A column-vector y was passed when a 1d array was expected. Please change the shape of y to (n_samples,), for example using ravel().\n",
      "  RandF1 = RandomForestRegressor(max_features = 11, oob_score = True, max_samples = k).fit(x_train, y_train)\n",
      "<ipython-input-11-f28a9ce02c17>:23: DataConversionWarning: A column-vector y was passed when a 1d array was expected. Please change the shape of y to (n_samples,), for example using ravel().\n",
      "  RandF = RandomForestRegressor(max_features = 122, oob_score = True, max_samples = k).fit(x_train, y_train)\n"
     ]
    },
    {
     "name": "stdout",
     "output_type": "stream",
     "text": [
      "105\n"
     ]
    },
    {
     "name": "stderr",
     "output_type": "stream",
     "text": [
      "<ipython-input-11-f28a9ce02c17>:13: DataConversionWarning: A column-vector y was passed when a 1d array was expected. Please change the shape of y to (n_samples,), for example using ravel().\n",
      "  RandF1 = RandomForestRegressor(max_features = 11, oob_score = True, max_samples = k).fit(x_train, y_train)\n",
      "<ipython-input-11-f28a9ce02c17>:23: DataConversionWarning: A column-vector y was passed when a 1d array was expected. Please change the shape of y to (n_samples,), for example using ravel().\n",
      "  RandF = RandomForestRegressor(max_features = 122, oob_score = True, max_samples = k).fit(x_train, y_train)\n"
     ]
    },
    {
     "name": "stdout",
     "output_type": "stream",
     "text": [
      "106\n"
     ]
    },
    {
     "name": "stderr",
     "output_type": "stream",
     "text": [
      "<ipython-input-11-f28a9ce02c17>:13: DataConversionWarning: A column-vector y was passed when a 1d array was expected. Please change the shape of y to (n_samples,), for example using ravel().\n",
      "  RandF1 = RandomForestRegressor(max_features = 11, oob_score = True, max_samples = k).fit(x_train, y_train)\n",
      "<ipython-input-11-f28a9ce02c17>:23: DataConversionWarning: A column-vector y was passed when a 1d array was expected. Please change the shape of y to (n_samples,), for example using ravel().\n",
      "  RandF = RandomForestRegressor(max_features = 122, oob_score = True, max_samples = k).fit(x_train, y_train)\n"
     ]
    },
    {
     "name": "stdout",
     "output_type": "stream",
     "text": [
      "107\n"
     ]
    },
    {
     "name": "stderr",
     "output_type": "stream",
     "text": [
      "<ipython-input-11-f28a9ce02c17>:13: DataConversionWarning: A column-vector y was passed when a 1d array was expected. Please change the shape of y to (n_samples,), for example using ravel().\n",
      "  RandF1 = RandomForestRegressor(max_features = 11, oob_score = True, max_samples = k).fit(x_train, y_train)\n",
      "<ipython-input-11-f28a9ce02c17>:23: DataConversionWarning: A column-vector y was passed when a 1d array was expected. Please change the shape of y to (n_samples,), for example using ravel().\n",
      "  RandF = RandomForestRegressor(max_features = 122, oob_score = True, max_samples = k).fit(x_train, y_train)\n"
     ]
    },
    {
     "name": "stdout",
     "output_type": "stream",
     "text": [
      "108\n"
     ]
    },
    {
     "name": "stderr",
     "output_type": "stream",
     "text": [
      "<ipython-input-11-f28a9ce02c17>:13: DataConversionWarning: A column-vector y was passed when a 1d array was expected. Please change the shape of y to (n_samples,), for example using ravel().\n",
      "  RandF1 = RandomForestRegressor(max_features = 11, oob_score = True, max_samples = k).fit(x_train, y_train)\n",
      "<ipython-input-11-f28a9ce02c17>:23: DataConversionWarning: A column-vector y was passed when a 1d array was expected. Please change the shape of y to (n_samples,), for example using ravel().\n",
      "  RandF = RandomForestRegressor(max_features = 122, oob_score = True, max_samples = k).fit(x_train, y_train)\n"
     ]
    },
    {
     "name": "stdout",
     "output_type": "stream",
     "text": [
      "109\n"
     ]
    },
    {
     "name": "stderr",
     "output_type": "stream",
     "text": [
      "<ipython-input-11-f28a9ce02c17>:13: DataConversionWarning: A column-vector y was passed when a 1d array was expected. Please change the shape of y to (n_samples,), for example using ravel().\n",
      "  RandF1 = RandomForestRegressor(max_features = 11, oob_score = True, max_samples = k).fit(x_train, y_train)\n",
      "<ipython-input-11-f28a9ce02c17>:23: DataConversionWarning: A column-vector y was passed when a 1d array was expected. Please change the shape of y to (n_samples,), for example using ravel().\n",
      "  RandF = RandomForestRegressor(max_features = 122, oob_score = True, max_samples = k).fit(x_train, y_train)\n"
     ]
    },
    {
     "name": "stdout",
     "output_type": "stream",
     "text": [
      "110\n"
     ]
    },
    {
     "name": "stderr",
     "output_type": "stream",
     "text": [
      "<ipython-input-11-f28a9ce02c17>:13: DataConversionWarning: A column-vector y was passed when a 1d array was expected. Please change the shape of y to (n_samples,), for example using ravel().\n",
      "  RandF1 = RandomForestRegressor(max_features = 11, oob_score = True, max_samples = k).fit(x_train, y_train)\n",
      "<ipython-input-11-f28a9ce02c17>:23: DataConversionWarning: A column-vector y was passed when a 1d array was expected. Please change the shape of y to (n_samples,), for example using ravel().\n",
      "  RandF = RandomForestRegressor(max_features = 122, oob_score = True, max_samples = k).fit(x_train, y_train)\n"
     ]
    },
    {
     "name": "stdout",
     "output_type": "stream",
     "text": [
      "111\n"
     ]
    },
    {
     "name": "stderr",
     "output_type": "stream",
     "text": [
      "<ipython-input-11-f28a9ce02c17>:13: DataConversionWarning: A column-vector y was passed when a 1d array was expected. Please change the shape of y to (n_samples,), for example using ravel().\n",
      "  RandF1 = RandomForestRegressor(max_features = 11, oob_score = True, max_samples = k).fit(x_train, y_train)\n",
      "<ipython-input-11-f28a9ce02c17>:23: DataConversionWarning: A column-vector y was passed when a 1d array was expected. Please change the shape of y to (n_samples,), for example using ravel().\n",
      "  RandF = RandomForestRegressor(max_features = 122, oob_score = True, max_samples = k).fit(x_train, y_train)\n"
     ]
    },
    {
     "name": "stdout",
     "output_type": "stream",
     "text": [
      "112\n"
     ]
    },
    {
     "name": "stderr",
     "output_type": "stream",
     "text": [
      "<ipython-input-11-f28a9ce02c17>:13: DataConversionWarning: A column-vector y was passed when a 1d array was expected. Please change the shape of y to (n_samples,), for example using ravel().\n",
      "  RandF1 = RandomForestRegressor(max_features = 11, oob_score = True, max_samples = k).fit(x_train, y_train)\n",
      "<ipython-input-11-f28a9ce02c17>:23: DataConversionWarning: A column-vector y was passed when a 1d array was expected. Please change the shape of y to (n_samples,), for example using ravel().\n",
      "  RandF = RandomForestRegressor(max_features = 122, oob_score = True, max_samples = k).fit(x_train, y_train)\n"
     ]
    },
    {
     "name": "stdout",
     "output_type": "stream",
     "text": [
      "113\n"
     ]
    },
    {
     "name": "stderr",
     "output_type": "stream",
     "text": [
      "<ipython-input-11-f28a9ce02c17>:13: DataConversionWarning: A column-vector y was passed when a 1d array was expected. Please change the shape of y to (n_samples,), for example using ravel().\n",
      "  RandF1 = RandomForestRegressor(max_features = 11, oob_score = True, max_samples = k).fit(x_train, y_train)\n",
      "<ipython-input-11-f28a9ce02c17>:23: DataConversionWarning: A column-vector y was passed when a 1d array was expected. Please change the shape of y to (n_samples,), for example using ravel().\n",
      "  RandF = RandomForestRegressor(max_features = 122, oob_score = True, max_samples = k).fit(x_train, y_train)\n"
     ]
    },
    {
     "name": "stdout",
     "output_type": "stream",
     "text": [
      "114\n"
     ]
    },
    {
     "name": "stderr",
     "output_type": "stream",
     "text": [
      "<ipython-input-11-f28a9ce02c17>:13: DataConversionWarning: A column-vector y was passed when a 1d array was expected. Please change the shape of y to (n_samples,), for example using ravel().\n",
      "  RandF1 = RandomForestRegressor(max_features = 11, oob_score = True, max_samples = k).fit(x_train, y_train)\n",
      "<ipython-input-11-f28a9ce02c17>:23: DataConversionWarning: A column-vector y was passed when a 1d array was expected. Please change the shape of y to (n_samples,), for example using ravel().\n",
      "  RandF = RandomForestRegressor(max_features = 122, oob_score = True, max_samples = k).fit(x_train, y_train)\n"
     ]
    },
    {
     "name": "stdout",
     "output_type": "stream",
     "text": [
      "115\n"
     ]
    },
    {
     "name": "stderr",
     "output_type": "stream",
     "text": [
      "<ipython-input-11-f28a9ce02c17>:13: DataConversionWarning: A column-vector y was passed when a 1d array was expected. Please change the shape of y to (n_samples,), for example using ravel().\n",
      "  RandF1 = RandomForestRegressor(max_features = 11, oob_score = True, max_samples = k).fit(x_train, y_train)\n",
      "<ipython-input-11-f28a9ce02c17>:23: DataConversionWarning: A column-vector y was passed when a 1d array was expected. Please change the shape of y to (n_samples,), for example using ravel().\n",
      "  RandF = RandomForestRegressor(max_features = 122, oob_score = True, max_samples = k).fit(x_train, y_train)\n"
     ]
    },
    {
     "name": "stdout",
     "output_type": "stream",
     "text": [
      "116\n"
     ]
    },
    {
     "name": "stderr",
     "output_type": "stream",
     "text": [
      "<ipython-input-11-f28a9ce02c17>:13: DataConversionWarning: A column-vector y was passed when a 1d array was expected. Please change the shape of y to (n_samples,), for example using ravel().\n",
      "  RandF1 = RandomForestRegressor(max_features = 11, oob_score = True, max_samples = k).fit(x_train, y_train)\n",
      "<ipython-input-11-f28a9ce02c17>:23: DataConversionWarning: A column-vector y was passed when a 1d array was expected. Please change the shape of y to (n_samples,), for example using ravel().\n",
      "  RandF = RandomForestRegressor(max_features = 122, oob_score = True, max_samples = k).fit(x_train, y_train)\n"
     ]
    },
    {
     "name": "stdout",
     "output_type": "stream",
     "text": [
      "117\n"
     ]
    },
    {
     "name": "stderr",
     "output_type": "stream",
     "text": [
      "<ipython-input-11-f28a9ce02c17>:13: DataConversionWarning: A column-vector y was passed when a 1d array was expected. Please change the shape of y to (n_samples,), for example using ravel().\n",
      "  RandF1 = RandomForestRegressor(max_features = 11, oob_score = True, max_samples = k).fit(x_train, y_train)\n",
      "<ipython-input-11-f28a9ce02c17>:23: DataConversionWarning: A column-vector y was passed when a 1d array was expected. Please change the shape of y to (n_samples,), for example using ravel().\n",
      "  RandF = RandomForestRegressor(max_features = 122, oob_score = True, max_samples = k).fit(x_train, y_train)\n"
     ]
    },
    {
     "name": "stdout",
     "output_type": "stream",
     "text": [
      "118\n"
     ]
    },
    {
     "name": "stderr",
     "output_type": "stream",
     "text": [
      "<ipython-input-11-f28a9ce02c17>:13: DataConversionWarning: A column-vector y was passed when a 1d array was expected. Please change the shape of y to (n_samples,), for example using ravel().\n",
      "  RandF1 = RandomForestRegressor(max_features = 11, oob_score = True, max_samples = k).fit(x_train, y_train)\n",
      "<ipython-input-11-f28a9ce02c17>:23: DataConversionWarning: A column-vector y was passed when a 1d array was expected. Please change the shape of y to (n_samples,), for example using ravel().\n",
      "  RandF = RandomForestRegressor(max_features = 122, oob_score = True, max_samples = k).fit(x_train, y_train)\n"
     ]
    },
    {
     "name": "stdout",
     "output_type": "stream",
     "text": [
      "119\n"
     ]
    },
    {
     "name": "stderr",
     "output_type": "stream",
     "text": [
      "<ipython-input-11-f28a9ce02c17>:13: DataConversionWarning: A column-vector y was passed when a 1d array was expected. Please change the shape of y to (n_samples,), for example using ravel().\n",
      "  RandF1 = RandomForestRegressor(max_features = 11, oob_score = True, max_samples = k).fit(x_train, y_train)\n",
      "<ipython-input-11-f28a9ce02c17>:23: DataConversionWarning: A column-vector y was passed when a 1d array was expected. Please change the shape of y to (n_samples,), for example using ravel().\n",
      "  RandF = RandomForestRegressor(max_features = 122, oob_score = True, max_samples = k).fit(x_train, y_train)\n"
     ]
    },
    {
     "name": "stdout",
     "output_type": "stream",
     "text": [
      "120\n"
     ]
    },
    {
     "name": "stderr",
     "output_type": "stream",
     "text": [
      "<ipython-input-11-f28a9ce02c17>:13: DataConversionWarning: A column-vector y was passed when a 1d array was expected. Please change the shape of y to (n_samples,), for example using ravel().\n",
      "  RandF1 = RandomForestRegressor(max_features = 11, oob_score = True, max_samples = k).fit(x_train, y_train)\n",
      "<ipython-input-11-f28a9ce02c17>:23: DataConversionWarning: A column-vector y was passed when a 1d array was expected. Please change the shape of y to (n_samples,), for example using ravel().\n",
      "  RandF = RandomForestRegressor(max_features = 122, oob_score = True, max_samples = k).fit(x_train, y_train)\n"
     ]
    },
    {
     "name": "stdout",
     "output_type": "stream",
     "text": [
      "121\n"
     ]
    },
    {
     "name": "stderr",
     "output_type": "stream",
     "text": [
      "<ipython-input-11-f28a9ce02c17>:13: DataConversionWarning: A column-vector y was passed when a 1d array was expected. Please change the shape of y to (n_samples,), for example using ravel().\n",
      "  RandF1 = RandomForestRegressor(max_features = 11, oob_score = True, max_samples = k).fit(x_train, y_train)\n",
      "<ipython-input-11-f28a9ce02c17>:23: DataConversionWarning: A column-vector y was passed when a 1d array was expected. Please change the shape of y to (n_samples,), for example using ravel().\n",
      "  RandF = RandomForestRegressor(max_features = 122, oob_score = True, max_samples = k).fit(x_train, y_train)\n"
     ]
    },
    {
     "name": "stdout",
     "output_type": "stream",
     "text": [
      "122\n"
     ]
    },
    {
     "name": "stderr",
     "output_type": "stream",
     "text": [
      "<ipython-input-11-f28a9ce02c17>:13: DataConversionWarning: A column-vector y was passed when a 1d array was expected. Please change the shape of y to (n_samples,), for example using ravel().\n",
      "  RandF1 = RandomForestRegressor(max_features = 11, oob_score = True, max_samples = k).fit(x_train, y_train)\n",
      "<ipython-input-11-f28a9ce02c17>:23: DataConversionWarning: A column-vector y was passed when a 1d array was expected. Please change the shape of y to (n_samples,), for example using ravel().\n",
      "  RandF = RandomForestRegressor(max_features = 122, oob_score = True, max_samples = k).fit(x_train, y_train)\n"
     ]
    },
    {
     "name": "stdout",
     "output_type": "stream",
     "text": [
      "123\n"
     ]
    },
    {
     "name": "stderr",
     "output_type": "stream",
     "text": [
      "<ipython-input-11-f28a9ce02c17>:13: DataConversionWarning: A column-vector y was passed when a 1d array was expected. Please change the shape of y to (n_samples,), for example using ravel().\n",
      "  RandF1 = RandomForestRegressor(max_features = 11, oob_score = True, max_samples = k).fit(x_train, y_train)\n",
      "<ipython-input-11-f28a9ce02c17>:23: DataConversionWarning: A column-vector y was passed when a 1d array was expected. Please change the shape of y to (n_samples,), for example using ravel().\n",
      "  RandF = RandomForestRegressor(max_features = 122, oob_score = True, max_samples = k).fit(x_train, y_train)\n"
     ]
    },
    {
     "name": "stdout",
     "output_type": "stream",
     "text": [
      "124\n"
     ]
    },
    {
     "name": "stderr",
     "output_type": "stream",
     "text": [
      "<ipython-input-11-f28a9ce02c17>:13: DataConversionWarning: A column-vector y was passed when a 1d array was expected. Please change the shape of y to (n_samples,), for example using ravel().\n",
      "  RandF1 = RandomForestRegressor(max_features = 11, oob_score = True, max_samples = k).fit(x_train, y_train)\n",
      "<ipython-input-11-f28a9ce02c17>:23: DataConversionWarning: A column-vector y was passed when a 1d array was expected. Please change the shape of y to (n_samples,), for example using ravel().\n",
      "  RandF = RandomForestRegressor(max_features = 122, oob_score = True, max_samples = k).fit(x_train, y_train)\n"
     ]
    },
    {
     "name": "stdout",
     "output_type": "stream",
     "text": [
      "125\n"
     ]
    },
    {
     "name": "stderr",
     "output_type": "stream",
     "text": [
      "<ipython-input-11-f28a9ce02c17>:13: DataConversionWarning: A column-vector y was passed when a 1d array was expected. Please change the shape of y to (n_samples,), for example using ravel().\n",
      "  RandF1 = RandomForestRegressor(max_features = 11, oob_score = True, max_samples = k).fit(x_train, y_train)\n",
      "<ipython-input-11-f28a9ce02c17>:23: DataConversionWarning: A column-vector y was passed when a 1d array was expected. Please change the shape of y to (n_samples,), for example using ravel().\n",
      "  RandF = RandomForestRegressor(max_features = 122, oob_score = True, max_samples = k).fit(x_train, y_train)\n"
     ]
    },
    {
     "name": "stdout",
     "output_type": "stream",
     "text": [
      "126\n"
     ]
    },
    {
     "name": "stderr",
     "output_type": "stream",
     "text": [
      "<ipython-input-11-f28a9ce02c17>:13: DataConversionWarning: A column-vector y was passed when a 1d array was expected. Please change the shape of y to (n_samples,), for example using ravel().\n",
      "  RandF1 = RandomForestRegressor(max_features = 11, oob_score = True, max_samples = k).fit(x_train, y_train)\n",
      "<ipython-input-11-f28a9ce02c17>:23: DataConversionWarning: A column-vector y was passed when a 1d array was expected. Please change the shape of y to (n_samples,), for example using ravel().\n",
      "  RandF = RandomForestRegressor(max_features = 122, oob_score = True, max_samples = k).fit(x_train, y_train)\n"
     ]
    },
    {
     "name": "stdout",
     "output_type": "stream",
     "text": [
      "127\n"
     ]
    },
    {
     "name": "stderr",
     "output_type": "stream",
     "text": [
      "<ipython-input-11-f28a9ce02c17>:13: DataConversionWarning: A column-vector y was passed when a 1d array was expected. Please change the shape of y to (n_samples,), for example using ravel().\n",
      "  RandF1 = RandomForestRegressor(max_features = 11, oob_score = True, max_samples = k).fit(x_train, y_train)\n",
      "<ipython-input-11-f28a9ce02c17>:23: DataConversionWarning: A column-vector y was passed when a 1d array was expected. Please change the shape of y to (n_samples,), for example using ravel().\n",
      "  RandF = RandomForestRegressor(max_features = 122, oob_score = True, max_samples = k).fit(x_train, y_train)\n"
     ]
    },
    {
     "name": "stdout",
     "output_type": "stream",
     "text": [
      "128\n"
     ]
    },
    {
     "name": "stderr",
     "output_type": "stream",
     "text": [
      "<ipython-input-11-f28a9ce02c17>:13: DataConversionWarning: A column-vector y was passed when a 1d array was expected. Please change the shape of y to (n_samples,), for example using ravel().\n",
      "  RandF1 = RandomForestRegressor(max_features = 11, oob_score = True, max_samples = k).fit(x_train, y_train)\n",
      "<ipython-input-11-f28a9ce02c17>:23: DataConversionWarning: A column-vector y was passed when a 1d array was expected. Please change the shape of y to (n_samples,), for example using ravel().\n",
      "  RandF = RandomForestRegressor(max_features = 122, oob_score = True, max_samples = k).fit(x_train, y_train)\n"
     ]
    },
    {
     "name": "stdout",
     "output_type": "stream",
     "text": [
      "129\n"
     ]
    },
    {
     "name": "stderr",
     "output_type": "stream",
     "text": [
      "<ipython-input-11-f28a9ce02c17>:13: DataConversionWarning: A column-vector y was passed when a 1d array was expected. Please change the shape of y to (n_samples,), for example using ravel().\n",
      "  RandF1 = RandomForestRegressor(max_features = 11, oob_score = True, max_samples = k).fit(x_train, y_train)\n",
      "<ipython-input-11-f28a9ce02c17>:23: DataConversionWarning: A column-vector y was passed when a 1d array was expected. Please change the shape of y to (n_samples,), for example using ravel().\n",
      "  RandF = RandomForestRegressor(max_features = 122, oob_score = True, max_samples = k).fit(x_train, y_train)\n"
     ]
    },
    {
     "name": "stdout",
     "output_type": "stream",
     "text": [
      "130\n"
     ]
    },
    {
     "name": "stderr",
     "output_type": "stream",
     "text": [
      "<ipython-input-11-f28a9ce02c17>:13: DataConversionWarning: A column-vector y was passed when a 1d array was expected. Please change the shape of y to (n_samples,), for example using ravel().\n",
      "  RandF1 = RandomForestRegressor(max_features = 11, oob_score = True, max_samples = k).fit(x_train, y_train)\n",
      "<ipython-input-11-f28a9ce02c17>:23: DataConversionWarning: A column-vector y was passed when a 1d array was expected. Please change the shape of y to (n_samples,), for example using ravel().\n",
      "  RandF = RandomForestRegressor(max_features = 122, oob_score = True, max_samples = k).fit(x_train, y_train)\n"
     ]
    },
    {
     "name": "stdout",
     "output_type": "stream",
     "text": [
      "131\n"
     ]
    },
    {
     "name": "stderr",
     "output_type": "stream",
     "text": [
      "<ipython-input-11-f28a9ce02c17>:13: DataConversionWarning: A column-vector y was passed when a 1d array was expected. Please change the shape of y to (n_samples,), for example using ravel().\n",
      "  RandF1 = RandomForestRegressor(max_features = 11, oob_score = True, max_samples = k).fit(x_train, y_train)\n",
      "<ipython-input-11-f28a9ce02c17>:23: DataConversionWarning: A column-vector y was passed when a 1d array was expected. Please change the shape of y to (n_samples,), for example using ravel().\n",
      "  RandF = RandomForestRegressor(max_features = 122, oob_score = True, max_samples = k).fit(x_train, y_train)\n"
     ]
    },
    {
     "name": "stdout",
     "output_type": "stream",
     "text": [
      "132\n"
     ]
    },
    {
     "name": "stderr",
     "output_type": "stream",
     "text": [
      "<ipython-input-11-f28a9ce02c17>:13: DataConversionWarning: A column-vector y was passed when a 1d array was expected. Please change the shape of y to (n_samples,), for example using ravel().\n",
      "  RandF1 = RandomForestRegressor(max_features = 11, oob_score = True, max_samples = k).fit(x_train, y_train)\n",
      "<ipython-input-11-f28a9ce02c17>:23: DataConversionWarning: A column-vector y was passed when a 1d array was expected. Please change the shape of y to (n_samples,), for example using ravel().\n",
      "  RandF = RandomForestRegressor(max_features = 122, oob_score = True, max_samples = k).fit(x_train, y_train)\n"
     ]
    },
    {
     "name": "stdout",
     "output_type": "stream",
     "text": [
      "133\n"
     ]
    },
    {
     "name": "stderr",
     "output_type": "stream",
     "text": [
      "<ipython-input-11-f28a9ce02c17>:13: DataConversionWarning: A column-vector y was passed when a 1d array was expected. Please change the shape of y to (n_samples,), for example using ravel().\n",
      "  RandF1 = RandomForestRegressor(max_features = 11, oob_score = True, max_samples = k).fit(x_train, y_train)\n",
      "<ipython-input-11-f28a9ce02c17>:23: DataConversionWarning: A column-vector y was passed when a 1d array was expected. Please change the shape of y to (n_samples,), for example using ravel().\n",
      "  RandF = RandomForestRegressor(max_features = 122, oob_score = True, max_samples = k).fit(x_train, y_train)\n"
     ]
    },
    {
     "name": "stdout",
     "output_type": "stream",
     "text": [
      "134\n"
     ]
    },
    {
     "name": "stderr",
     "output_type": "stream",
     "text": [
      "<ipython-input-11-f28a9ce02c17>:13: DataConversionWarning: A column-vector y was passed when a 1d array was expected. Please change the shape of y to (n_samples,), for example using ravel().\n",
      "  RandF1 = RandomForestRegressor(max_features = 11, oob_score = True, max_samples = k).fit(x_train, y_train)\n",
      "<ipython-input-11-f28a9ce02c17>:23: DataConversionWarning: A column-vector y was passed when a 1d array was expected. Please change the shape of y to (n_samples,), for example using ravel().\n",
      "  RandF = RandomForestRegressor(max_features = 122, oob_score = True, max_samples = k).fit(x_train, y_train)\n"
     ]
    },
    {
     "name": "stdout",
     "output_type": "stream",
     "text": [
      "135\n"
     ]
    },
    {
     "name": "stderr",
     "output_type": "stream",
     "text": [
      "<ipython-input-11-f28a9ce02c17>:13: DataConversionWarning: A column-vector y was passed when a 1d array was expected. Please change the shape of y to (n_samples,), for example using ravel().\n",
      "  RandF1 = RandomForestRegressor(max_features = 11, oob_score = True, max_samples = k).fit(x_train, y_train)\n",
      "<ipython-input-11-f28a9ce02c17>:23: DataConversionWarning: A column-vector y was passed when a 1d array was expected. Please change the shape of y to (n_samples,), for example using ravel().\n",
      "  RandF = RandomForestRegressor(max_features = 122, oob_score = True, max_samples = k).fit(x_train, y_train)\n"
     ]
    },
    {
     "name": "stdout",
     "output_type": "stream",
     "text": [
      "136\n"
     ]
    },
    {
     "name": "stderr",
     "output_type": "stream",
     "text": [
      "<ipython-input-11-f28a9ce02c17>:13: DataConversionWarning: A column-vector y was passed when a 1d array was expected. Please change the shape of y to (n_samples,), for example using ravel().\n",
      "  RandF1 = RandomForestRegressor(max_features = 11, oob_score = True, max_samples = k).fit(x_train, y_train)\n",
      "<ipython-input-11-f28a9ce02c17>:23: DataConversionWarning: A column-vector y was passed when a 1d array was expected. Please change the shape of y to (n_samples,), for example using ravel().\n",
      "  RandF = RandomForestRegressor(max_features = 122, oob_score = True, max_samples = k).fit(x_train, y_train)\n"
     ]
    },
    {
     "name": "stdout",
     "output_type": "stream",
     "text": [
      "137\n"
     ]
    },
    {
     "name": "stderr",
     "output_type": "stream",
     "text": [
      "<ipython-input-11-f28a9ce02c17>:13: DataConversionWarning: A column-vector y was passed when a 1d array was expected. Please change the shape of y to (n_samples,), for example using ravel().\n",
      "  RandF1 = RandomForestRegressor(max_features = 11, oob_score = True, max_samples = k).fit(x_train, y_train)\n",
      "<ipython-input-11-f28a9ce02c17>:23: DataConversionWarning: A column-vector y was passed when a 1d array was expected. Please change the shape of y to (n_samples,), for example using ravel().\n",
      "  RandF = RandomForestRegressor(max_features = 122, oob_score = True, max_samples = k).fit(x_train, y_train)\n"
     ]
    },
    {
     "name": "stdout",
     "output_type": "stream",
     "text": [
      "138\n"
     ]
    },
    {
     "name": "stderr",
     "output_type": "stream",
     "text": [
      "<ipython-input-11-f28a9ce02c17>:13: DataConversionWarning: A column-vector y was passed when a 1d array was expected. Please change the shape of y to (n_samples,), for example using ravel().\n",
      "  RandF1 = RandomForestRegressor(max_features = 11, oob_score = True, max_samples = k).fit(x_train, y_train)\n"
     ]
    },
    {
     "name": "stdout",
     "output_type": "stream",
     "text": [
      "139\n"
     ]
    },
    {
     "name": "stderr",
     "output_type": "stream",
     "text": [
      "<ipython-input-11-f28a9ce02c17>:23: DataConversionWarning: A column-vector y was passed when a 1d array was expected. Please change the shape of y to (n_samples,), for example using ravel().\n",
      "  RandF = RandomForestRegressor(max_features = 122, oob_score = True, max_samples = k).fit(x_train, y_train)\n",
      "<ipython-input-11-f28a9ce02c17>:13: DataConversionWarning: A column-vector y was passed when a 1d array was expected. Please change the shape of y to (n_samples,), for example using ravel().\n",
      "  RandF1 = RandomForestRegressor(max_features = 11, oob_score = True, max_samples = k).fit(x_train, y_train)\n"
     ]
    },
    {
     "name": "stdout",
     "output_type": "stream",
     "text": [
      "140\n"
     ]
    },
    {
     "name": "stderr",
     "output_type": "stream",
     "text": [
      "<ipython-input-11-f28a9ce02c17>:23: DataConversionWarning: A column-vector y was passed when a 1d array was expected. Please change the shape of y to (n_samples,), for example using ravel().\n",
      "  RandF = RandomForestRegressor(max_features = 122, oob_score = True, max_samples = k).fit(x_train, y_train)\n",
      "<ipython-input-11-f28a9ce02c17>:13: DataConversionWarning: A column-vector y was passed when a 1d array was expected. Please change the shape of y to (n_samples,), for example using ravel().\n",
      "  RandF1 = RandomForestRegressor(max_features = 11, oob_score = True, max_samples = k).fit(x_train, y_train)\n",
      "<ipython-input-11-f28a9ce02c17>:23: DataConversionWarning: A column-vector y was passed when a 1d array was expected. Please change the shape of y to (n_samples,), for example using ravel().\n",
      "  RandF = RandomForestRegressor(max_features = 122, oob_score = True, max_samples = k).fit(x_train, y_train)\n"
     ]
    },
    {
     "name": "stdout",
     "output_type": "stream",
     "text": [
      "141\n"
     ]
    },
    {
     "name": "stderr",
     "output_type": "stream",
     "text": [
      "<ipython-input-11-f28a9ce02c17>:13: DataConversionWarning: A column-vector y was passed when a 1d array was expected. Please change the shape of y to (n_samples,), for example using ravel().\n",
      "  RandF1 = RandomForestRegressor(max_features = 11, oob_score = True, max_samples = k).fit(x_train, y_train)\n",
      "<ipython-input-11-f28a9ce02c17>:23: DataConversionWarning: A column-vector y was passed when a 1d array was expected. Please change the shape of y to (n_samples,), for example using ravel().\n",
      "  RandF = RandomForestRegressor(max_features = 122, oob_score = True, max_samples = k).fit(x_train, y_train)\n"
     ]
    },
    {
     "name": "stdout",
     "output_type": "stream",
     "text": [
      "142\n"
     ]
    },
    {
     "name": "stderr",
     "output_type": "stream",
     "text": [
      "<ipython-input-11-f28a9ce02c17>:13: DataConversionWarning: A column-vector y was passed when a 1d array was expected. Please change the shape of y to (n_samples,), for example using ravel().\n",
      "  RandF1 = RandomForestRegressor(max_features = 11, oob_score = True, max_samples = k).fit(x_train, y_train)\n",
      "<ipython-input-11-f28a9ce02c17>:23: DataConversionWarning: A column-vector y was passed when a 1d array was expected. Please change the shape of y to (n_samples,), for example using ravel().\n",
      "  RandF = RandomForestRegressor(max_features = 122, oob_score = True, max_samples = k).fit(x_train, y_train)\n"
     ]
    },
    {
     "name": "stdout",
     "output_type": "stream",
     "text": [
      "143\n"
     ]
    },
    {
     "name": "stderr",
     "output_type": "stream",
     "text": [
      "<ipython-input-11-f28a9ce02c17>:13: DataConversionWarning: A column-vector y was passed when a 1d array was expected. Please change the shape of y to (n_samples,), for example using ravel().\n",
      "  RandF1 = RandomForestRegressor(max_features = 11, oob_score = True, max_samples = k).fit(x_train, y_train)\n",
      "<ipython-input-11-f28a9ce02c17>:23: DataConversionWarning: A column-vector y was passed when a 1d array was expected. Please change the shape of y to (n_samples,), for example using ravel().\n",
      "  RandF = RandomForestRegressor(max_features = 122, oob_score = True, max_samples = k).fit(x_train, y_train)\n"
     ]
    },
    {
     "name": "stdout",
     "output_type": "stream",
     "text": [
      "144\n"
     ]
    },
    {
     "name": "stderr",
     "output_type": "stream",
     "text": [
      "<ipython-input-11-f28a9ce02c17>:13: DataConversionWarning: A column-vector y was passed when a 1d array was expected. Please change the shape of y to (n_samples,), for example using ravel().\n",
      "  RandF1 = RandomForestRegressor(max_features = 11, oob_score = True, max_samples = k).fit(x_train, y_train)\n",
      "<ipython-input-11-f28a9ce02c17>:23: DataConversionWarning: A column-vector y was passed when a 1d array was expected. Please change the shape of y to (n_samples,), for example using ravel().\n",
      "  RandF = RandomForestRegressor(max_features = 122, oob_score = True, max_samples = k).fit(x_train, y_train)\n"
     ]
    },
    {
     "name": "stdout",
     "output_type": "stream",
     "text": [
      "145\n"
     ]
    },
    {
     "name": "stderr",
     "output_type": "stream",
     "text": [
      "<ipython-input-11-f28a9ce02c17>:13: DataConversionWarning: A column-vector y was passed when a 1d array was expected. Please change the shape of y to (n_samples,), for example using ravel().\n",
      "  RandF1 = RandomForestRegressor(max_features = 11, oob_score = True, max_samples = k).fit(x_train, y_train)\n",
      "<ipython-input-11-f28a9ce02c17>:23: DataConversionWarning: A column-vector y was passed when a 1d array was expected. Please change the shape of y to (n_samples,), for example using ravel().\n",
      "  RandF = RandomForestRegressor(max_features = 122, oob_score = True, max_samples = k).fit(x_train, y_train)\n"
     ]
    },
    {
     "name": "stdout",
     "output_type": "stream",
     "text": [
      "146\n"
     ]
    },
    {
     "name": "stderr",
     "output_type": "stream",
     "text": [
      "<ipython-input-11-f28a9ce02c17>:13: DataConversionWarning: A column-vector y was passed when a 1d array was expected. Please change the shape of y to (n_samples,), for example using ravel().\n",
      "  RandF1 = RandomForestRegressor(max_features = 11, oob_score = True, max_samples = k).fit(x_train, y_train)\n",
      "<ipython-input-11-f28a9ce02c17>:23: DataConversionWarning: A column-vector y was passed when a 1d array was expected. Please change the shape of y to (n_samples,), for example using ravel().\n",
      "  RandF = RandomForestRegressor(max_features = 122, oob_score = True, max_samples = k).fit(x_train, y_train)\n"
     ]
    },
    {
     "name": "stdout",
     "output_type": "stream",
     "text": [
      "147\n"
     ]
    },
    {
     "name": "stderr",
     "output_type": "stream",
     "text": [
      "<ipython-input-11-f28a9ce02c17>:13: DataConversionWarning: A column-vector y was passed when a 1d array was expected. Please change the shape of y to (n_samples,), for example using ravel().\n",
      "  RandF1 = RandomForestRegressor(max_features = 11, oob_score = True, max_samples = k).fit(x_train, y_train)\n",
      "<ipython-input-11-f28a9ce02c17>:23: DataConversionWarning: A column-vector y was passed when a 1d array was expected. Please change the shape of y to (n_samples,), for example using ravel().\n",
      "  RandF = RandomForestRegressor(max_features = 122, oob_score = True, max_samples = k).fit(x_train, y_train)\n"
     ]
    },
    {
     "name": "stdout",
     "output_type": "stream",
     "text": [
      "148\n"
     ]
    },
    {
     "name": "stderr",
     "output_type": "stream",
     "text": [
      "<ipython-input-11-f28a9ce02c17>:13: DataConversionWarning: A column-vector y was passed when a 1d array was expected. Please change the shape of y to (n_samples,), for example using ravel().\n",
      "  RandF1 = RandomForestRegressor(max_features = 11, oob_score = True, max_samples = k).fit(x_train, y_train)\n",
      "<ipython-input-11-f28a9ce02c17>:23: DataConversionWarning: A column-vector y was passed when a 1d array was expected. Please change the shape of y to (n_samples,), for example using ravel().\n",
      "  RandF = RandomForestRegressor(max_features = 122, oob_score = True, max_samples = k).fit(x_train, y_train)\n"
     ]
    },
    {
     "name": "stdout",
     "output_type": "stream",
     "text": [
      "149\n"
     ]
    },
    {
     "name": "stderr",
     "output_type": "stream",
     "text": [
      "<ipython-input-11-f28a9ce02c17>:13: DataConversionWarning: A column-vector y was passed when a 1d array was expected. Please change the shape of y to (n_samples,), for example using ravel().\n",
      "  RandF1 = RandomForestRegressor(max_features = 11, oob_score = True, max_samples = k).fit(x_train, y_train)\n",
      "<ipython-input-11-f28a9ce02c17>:23: DataConversionWarning: A column-vector y was passed when a 1d array was expected. Please change the shape of y to (n_samples,), for example using ravel().\n",
      "  RandF = RandomForestRegressor(max_features = 122, oob_score = True, max_samples = k).fit(x_train, y_train)\n"
     ]
    },
    {
     "name": "stdout",
     "output_type": "stream",
     "text": [
      "150\n"
     ]
    },
    {
     "name": "stderr",
     "output_type": "stream",
     "text": [
      "<ipython-input-11-f28a9ce02c17>:13: DataConversionWarning: A column-vector y was passed when a 1d array was expected. Please change the shape of y to (n_samples,), for example using ravel().\n",
      "  RandF1 = RandomForestRegressor(max_features = 11, oob_score = True, max_samples = k).fit(x_train, y_train)\n",
      "<ipython-input-11-f28a9ce02c17>:23: DataConversionWarning: A column-vector y was passed when a 1d array was expected. Please change the shape of y to (n_samples,), for example using ravel().\n",
      "  RandF = RandomForestRegressor(max_features = 122, oob_score = True, max_samples = k).fit(x_train, y_train)\n"
     ]
    },
    {
     "name": "stdout",
     "output_type": "stream",
     "text": [
      "151\n"
     ]
    },
    {
     "name": "stderr",
     "output_type": "stream",
     "text": [
      "<ipython-input-11-f28a9ce02c17>:13: DataConversionWarning: A column-vector y was passed when a 1d array was expected. Please change the shape of y to (n_samples,), for example using ravel().\n",
      "  RandF1 = RandomForestRegressor(max_features = 11, oob_score = True, max_samples = k).fit(x_train, y_train)\n",
      "<ipython-input-11-f28a9ce02c17>:23: DataConversionWarning: A column-vector y was passed when a 1d array was expected. Please change the shape of y to (n_samples,), for example using ravel().\n",
      "  RandF = RandomForestRegressor(max_features = 122, oob_score = True, max_samples = k).fit(x_train, y_train)\n"
     ]
    },
    {
     "name": "stdout",
     "output_type": "stream",
     "text": [
      "152\n"
     ]
    },
    {
     "name": "stderr",
     "output_type": "stream",
     "text": [
      "<ipython-input-11-f28a9ce02c17>:13: DataConversionWarning: A column-vector y was passed when a 1d array was expected. Please change the shape of y to (n_samples,), for example using ravel().\n",
      "  RandF1 = RandomForestRegressor(max_features = 11, oob_score = True, max_samples = k).fit(x_train, y_train)\n",
      "<ipython-input-11-f28a9ce02c17>:23: DataConversionWarning: A column-vector y was passed when a 1d array was expected. Please change the shape of y to (n_samples,), for example using ravel().\n",
      "  RandF = RandomForestRegressor(max_features = 122, oob_score = True, max_samples = k).fit(x_train, y_train)\n"
     ]
    },
    {
     "name": "stdout",
     "output_type": "stream",
     "text": [
      "153\n"
     ]
    },
    {
     "name": "stderr",
     "output_type": "stream",
     "text": [
      "<ipython-input-11-f28a9ce02c17>:13: DataConversionWarning: A column-vector y was passed when a 1d array was expected. Please change the shape of y to (n_samples,), for example using ravel().\n",
      "  RandF1 = RandomForestRegressor(max_features = 11, oob_score = True, max_samples = k).fit(x_train, y_train)\n",
      "<ipython-input-11-f28a9ce02c17>:23: DataConversionWarning: A column-vector y was passed when a 1d array was expected. Please change the shape of y to (n_samples,), for example using ravel().\n",
      "  RandF = RandomForestRegressor(max_features = 122, oob_score = True, max_samples = k).fit(x_train, y_train)\n"
     ]
    },
    {
     "name": "stdout",
     "output_type": "stream",
     "text": [
      "154\n"
     ]
    },
    {
     "name": "stderr",
     "output_type": "stream",
     "text": [
      "<ipython-input-11-f28a9ce02c17>:13: DataConversionWarning: A column-vector y was passed when a 1d array was expected. Please change the shape of y to (n_samples,), for example using ravel().\n",
      "  RandF1 = RandomForestRegressor(max_features = 11, oob_score = True, max_samples = k).fit(x_train, y_train)\n",
      "<ipython-input-11-f28a9ce02c17>:23: DataConversionWarning: A column-vector y was passed when a 1d array was expected. Please change the shape of y to (n_samples,), for example using ravel().\n",
      "  RandF = RandomForestRegressor(max_features = 122, oob_score = True, max_samples = k).fit(x_train, y_train)\n"
     ]
    },
    {
     "name": "stdout",
     "output_type": "stream",
     "text": [
      "155\n"
     ]
    },
    {
     "name": "stderr",
     "output_type": "stream",
     "text": [
      "<ipython-input-11-f28a9ce02c17>:13: DataConversionWarning: A column-vector y was passed when a 1d array was expected. Please change the shape of y to (n_samples,), for example using ravel().\n",
      "  RandF1 = RandomForestRegressor(max_features = 11, oob_score = True, max_samples = k).fit(x_train, y_train)\n",
      "<ipython-input-11-f28a9ce02c17>:23: DataConversionWarning: A column-vector y was passed when a 1d array was expected. Please change the shape of y to (n_samples,), for example using ravel().\n",
      "  RandF = RandomForestRegressor(max_features = 122, oob_score = True, max_samples = k).fit(x_train, y_train)\n"
     ]
    },
    {
     "name": "stdout",
     "output_type": "stream",
     "text": [
      "156\n"
     ]
    },
    {
     "name": "stderr",
     "output_type": "stream",
     "text": [
      "<ipython-input-11-f28a9ce02c17>:13: DataConversionWarning: A column-vector y was passed when a 1d array was expected. Please change the shape of y to (n_samples,), for example using ravel().\n",
      "  RandF1 = RandomForestRegressor(max_features = 11, oob_score = True, max_samples = k).fit(x_train, y_train)\n",
      "<ipython-input-11-f28a9ce02c17>:23: DataConversionWarning: A column-vector y was passed when a 1d array was expected. Please change the shape of y to (n_samples,), for example using ravel().\n",
      "  RandF = RandomForestRegressor(max_features = 122, oob_score = True, max_samples = k).fit(x_train, y_train)\n"
     ]
    },
    {
     "name": "stdout",
     "output_type": "stream",
     "text": [
      "157\n"
     ]
    },
    {
     "name": "stderr",
     "output_type": "stream",
     "text": [
      "<ipython-input-11-f28a9ce02c17>:13: DataConversionWarning: A column-vector y was passed when a 1d array was expected. Please change the shape of y to (n_samples,), for example using ravel().\n",
      "  RandF1 = RandomForestRegressor(max_features = 11, oob_score = True, max_samples = k).fit(x_train, y_train)\n",
      "<ipython-input-11-f28a9ce02c17>:23: DataConversionWarning: A column-vector y was passed when a 1d array was expected. Please change the shape of y to (n_samples,), for example using ravel().\n",
      "  RandF = RandomForestRegressor(max_features = 122, oob_score = True, max_samples = k).fit(x_train, y_train)\n"
     ]
    },
    {
     "name": "stdout",
     "output_type": "stream",
     "text": [
      "158\n"
     ]
    },
    {
     "name": "stderr",
     "output_type": "stream",
     "text": [
      "<ipython-input-11-f28a9ce02c17>:13: DataConversionWarning: A column-vector y was passed when a 1d array was expected. Please change the shape of y to (n_samples,), for example using ravel().\n",
      "  RandF1 = RandomForestRegressor(max_features = 11, oob_score = True, max_samples = k).fit(x_train, y_train)\n",
      "<ipython-input-11-f28a9ce02c17>:23: DataConversionWarning: A column-vector y was passed when a 1d array was expected. Please change the shape of y to (n_samples,), for example using ravel().\n",
      "  RandF = RandomForestRegressor(max_features = 122, oob_score = True, max_samples = k).fit(x_train, y_train)\n"
     ]
    },
    {
     "name": "stdout",
     "output_type": "stream",
     "text": [
      "159\n"
     ]
    },
    {
     "name": "stderr",
     "output_type": "stream",
     "text": [
      "<ipython-input-11-f28a9ce02c17>:13: DataConversionWarning: A column-vector y was passed when a 1d array was expected. Please change the shape of y to (n_samples,), for example using ravel().\n",
      "  RandF1 = RandomForestRegressor(max_features = 11, oob_score = True, max_samples = k).fit(x_train, y_train)\n",
      "<ipython-input-11-f28a9ce02c17>:23: DataConversionWarning: A column-vector y was passed when a 1d array was expected. Please change the shape of y to (n_samples,), for example using ravel().\n",
      "  RandF = RandomForestRegressor(max_features = 122, oob_score = True, max_samples = k).fit(x_train, y_train)\n"
     ]
    },
    {
     "name": "stdout",
     "output_type": "stream",
     "text": [
      "160\n"
     ]
    },
    {
     "name": "stderr",
     "output_type": "stream",
     "text": [
      "<ipython-input-11-f28a9ce02c17>:13: DataConversionWarning: A column-vector y was passed when a 1d array was expected. Please change the shape of y to (n_samples,), for example using ravel().\n",
      "  RandF1 = RandomForestRegressor(max_features = 11, oob_score = True, max_samples = k).fit(x_train, y_train)\n",
      "<ipython-input-11-f28a9ce02c17>:23: DataConversionWarning: A column-vector y was passed when a 1d array was expected. Please change the shape of y to (n_samples,), for example using ravel().\n",
      "  RandF = RandomForestRegressor(max_features = 122, oob_score = True, max_samples = k).fit(x_train, y_train)\n"
     ]
    },
    {
     "name": "stdout",
     "output_type": "stream",
     "text": [
      "161\n"
     ]
    },
    {
     "name": "stderr",
     "output_type": "stream",
     "text": [
      "<ipython-input-11-f28a9ce02c17>:13: DataConversionWarning: A column-vector y was passed when a 1d array was expected. Please change the shape of y to (n_samples,), for example using ravel().\n",
      "  RandF1 = RandomForestRegressor(max_features = 11, oob_score = True, max_samples = k).fit(x_train, y_train)\n",
      "<ipython-input-11-f28a9ce02c17>:23: DataConversionWarning: A column-vector y was passed when a 1d array was expected. Please change the shape of y to (n_samples,), for example using ravel().\n",
      "  RandF = RandomForestRegressor(max_features = 122, oob_score = True, max_samples = k).fit(x_train, y_train)\n"
     ]
    },
    {
     "name": "stdout",
     "output_type": "stream",
     "text": [
      "162\n"
     ]
    },
    {
     "name": "stderr",
     "output_type": "stream",
     "text": [
      "<ipython-input-11-f28a9ce02c17>:13: DataConversionWarning: A column-vector y was passed when a 1d array was expected. Please change the shape of y to (n_samples,), for example using ravel().\n",
      "  RandF1 = RandomForestRegressor(max_features = 11, oob_score = True, max_samples = k).fit(x_train, y_train)\n",
      "<ipython-input-11-f28a9ce02c17>:23: DataConversionWarning: A column-vector y was passed when a 1d array was expected. Please change the shape of y to (n_samples,), for example using ravel().\n",
      "  RandF = RandomForestRegressor(max_features = 122, oob_score = True, max_samples = k).fit(x_train, y_train)\n"
     ]
    },
    {
     "name": "stdout",
     "output_type": "stream",
     "text": [
      "163\n"
     ]
    },
    {
     "name": "stderr",
     "output_type": "stream",
     "text": [
      "<ipython-input-11-f28a9ce02c17>:13: DataConversionWarning: A column-vector y was passed when a 1d array was expected. Please change the shape of y to (n_samples,), for example using ravel().\n",
      "  RandF1 = RandomForestRegressor(max_features = 11, oob_score = True, max_samples = k).fit(x_train, y_train)\n",
      "<ipython-input-11-f28a9ce02c17>:23: DataConversionWarning: A column-vector y was passed when a 1d array was expected. Please change the shape of y to (n_samples,), for example using ravel().\n",
      "  RandF = RandomForestRegressor(max_features = 122, oob_score = True, max_samples = k).fit(x_train, y_train)\n"
     ]
    },
    {
     "name": "stdout",
     "output_type": "stream",
     "text": [
      "164\n"
     ]
    },
    {
     "name": "stderr",
     "output_type": "stream",
     "text": [
      "<ipython-input-11-f28a9ce02c17>:13: DataConversionWarning: A column-vector y was passed when a 1d array was expected. Please change the shape of y to (n_samples,), for example using ravel().\n",
      "  RandF1 = RandomForestRegressor(max_features = 11, oob_score = True, max_samples = k).fit(x_train, y_train)\n",
      "<ipython-input-11-f28a9ce02c17>:23: DataConversionWarning: A column-vector y was passed when a 1d array was expected. Please change the shape of y to (n_samples,), for example using ravel().\n",
      "  RandF = RandomForestRegressor(max_features = 122, oob_score = True, max_samples = k).fit(x_train, y_train)\n"
     ]
    },
    {
     "name": "stdout",
     "output_type": "stream",
     "text": [
      "165\n"
     ]
    },
    {
     "name": "stderr",
     "output_type": "stream",
     "text": [
      "<ipython-input-11-f28a9ce02c17>:13: DataConversionWarning: A column-vector y was passed when a 1d array was expected. Please change the shape of y to (n_samples,), for example using ravel().\n",
      "  RandF1 = RandomForestRegressor(max_features = 11, oob_score = True, max_samples = k).fit(x_train, y_train)\n",
      "<ipython-input-11-f28a9ce02c17>:23: DataConversionWarning: A column-vector y was passed when a 1d array was expected. Please change the shape of y to (n_samples,), for example using ravel().\n",
      "  RandF = RandomForestRegressor(max_features = 122, oob_score = True, max_samples = k).fit(x_train, y_train)\n"
     ]
    },
    {
     "name": "stdout",
     "output_type": "stream",
     "text": [
      "166\n"
     ]
    },
    {
     "name": "stderr",
     "output_type": "stream",
     "text": [
      "<ipython-input-11-f28a9ce02c17>:13: DataConversionWarning: A column-vector y was passed when a 1d array was expected. Please change the shape of y to (n_samples,), for example using ravel().\n",
      "  RandF1 = RandomForestRegressor(max_features = 11, oob_score = True, max_samples = k).fit(x_train, y_train)\n",
      "<ipython-input-11-f28a9ce02c17>:23: DataConversionWarning: A column-vector y was passed when a 1d array was expected. Please change the shape of y to (n_samples,), for example using ravel().\n",
      "  RandF = RandomForestRegressor(max_features = 122, oob_score = True, max_samples = k).fit(x_train, y_train)\n"
     ]
    },
    {
     "name": "stdout",
     "output_type": "stream",
     "text": [
      "167\n"
     ]
    },
    {
     "name": "stderr",
     "output_type": "stream",
     "text": [
      "<ipython-input-11-f28a9ce02c17>:13: DataConversionWarning: A column-vector y was passed when a 1d array was expected. Please change the shape of y to (n_samples,), for example using ravel().\n",
      "  RandF1 = RandomForestRegressor(max_features = 11, oob_score = True, max_samples = k).fit(x_train, y_train)\n",
      "<ipython-input-11-f28a9ce02c17>:23: DataConversionWarning: A column-vector y was passed when a 1d array was expected. Please change the shape of y to (n_samples,), for example using ravel().\n",
      "  RandF = RandomForestRegressor(max_features = 122, oob_score = True, max_samples = k).fit(x_train, y_train)\n"
     ]
    },
    {
     "name": "stdout",
     "output_type": "stream",
     "text": [
      "168\n"
     ]
    },
    {
     "name": "stderr",
     "output_type": "stream",
     "text": [
      "<ipython-input-11-f28a9ce02c17>:13: DataConversionWarning: A column-vector y was passed when a 1d array was expected. Please change the shape of y to (n_samples,), for example using ravel().\n",
      "  RandF1 = RandomForestRegressor(max_features = 11, oob_score = True, max_samples = k).fit(x_train, y_train)\n",
      "<ipython-input-11-f28a9ce02c17>:23: DataConversionWarning: A column-vector y was passed when a 1d array was expected. Please change the shape of y to (n_samples,), for example using ravel().\n",
      "  RandF = RandomForestRegressor(max_features = 122, oob_score = True, max_samples = k).fit(x_train, y_train)\n"
     ]
    },
    {
     "name": "stdout",
     "output_type": "stream",
     "text": [
      "169\n"
     ]
    },
    {
     "name": "stderr",
     "output_type": "stream",
     "text": [
      "<ipython-input-11-f28a9ce02c17>:13: DataConversionWarning: A column-vector y was passed when a 1d array was expected. Please change the shape of y to (n_samples,), for example using ravel().\n",
      "  RandF1 = RandomForestRegressor(max_features = 11, oob_score = True, max_samples = k).fit(x_train, y_train)\n",
      "<ipython-input-11-f28a9ce02c17>:23: DataConversionWarning: A column-vector y was passed when a 1d array was expected. Please change the shape of y to (n_samples,), for example using ravel().\n",
      "  RandF = RandomForestRegressor(max_features = 122, oob_score = True, max_samples = k).fit(x_train, y_train)\n"
     ]
    },
    {
     "name": "stdout",
     "output_type": "stream",
     "text": [
      "170\n"
     ]
    },
    {
     "name": "stderr",
     "output_type": "stream",
     "text": [
      "<ipython-input-11-f28a9ce02c17>:13: DataConversionWarning: A column-vector y was passed when a 1d array was expected. Please change the shape of y to (n_samples,), for example using ravel().\n",
      "  RandF1 = RandomForestRegressor(max_features = 11, oob_score = True, max_samples = k).fit(x_train, y_train)\n",
      "<ipython-input-11-f28a9ce02c17>:23: DataConversionWarning: A column-vector y was passed when a 1d array was expected. Please change the shape of y to (n_samples,), for example using ravel().\n",
      "  RandF = RandomForestRegressor(max_features = 122, oob_score = True, max_samples = k).fit(x_train, y_train)\n"
     ]
    },
    {
     "name": "stdout",
     "output_type": "stream",
     "text": [
      "171\n"
     ]
    },
    {
     "name": "stderr",
     "output_type": "stream",
     "text": [
      "<ipython-input-11-f28a9ce02c17>:13: DataConversionWarning: A column-vector y was passed when a 1d array was expected. Please change the shape of y to (n_samples,), for example using ravel().\n",
      "  RandF1 = RandomForestRegressor(max_features = 11, oob_score = True, max_samples = k).fit(x_train, y_train)\n",
      "<ipython-input-11-f28a9ce02c17>:23: DataConversionWarning: A column-vector y was passed when a 1d array was expected. Please change the shape of y to (n_samples,), for example using ravel().\n",
      "  RandF = RandomForestRegressor(max_features = 122, oob_score = True, max_samples = k).fit(x_train, y_train)\n"
     ]
    },
    {
     "name": "stdout",
     "output_type": "stream",
     "text": [
      "172\n"
     ]
    },
    {
     "name": "stderr",
     "output_type": "stream",
     "text": [
      "<ipython-input-11-f28a9ce02c17>:13: DataConversionWarning: A column-vector y was passed when a 1d array was expected. Please change the shape of y to (n_samples,), for example using ravel().\n",
      "  RandF1 = RandomForestRegressor(max_features = 11, oob_score = True, max_samples = k).fit(x_train, y_train)\n",
      "<ipython-input-11-f28a9ce02c17>:23: DataConversionWarning: A column-vector y was passed when a 1d array was expected. Please change the shape of y to (n_samples,), for example using ravel().\n",
      "  RandF = RandomForestRegressor(max_features = 122, oob_score = True, max_samples = k).fit(x_train, y_train)\n"
     ]
    },
    {
     "name": "stdout",
     "output_type": "stream",
     "text": [
      "173\n"
     ]
    },
    {
     "name": "stderr",
     "output_type": "stream",
     "text": [
      "<ipython-input-11-f28a9ce02c17>:13: DataConversionWarning: A column-vector y was passed when a 1d array was expected. Please change the shape of y to (n_samples,), for example using ravel().\n",
      "  RandF1 = RandomForestRegressor(max_features = 11, oob_score = True, max_samples = k).fit(x_train, y_train)\n",
      "<ipython-input-11-f28a9ce02c17>:23: DataConversionWarning: A column-vector y was passed when a 1d array was expected. Please change the shape of y to (n_samples,), for example using ravel().\n",
      "  RandF = RandomForestRegressor(max_features = 122, oob_score = True, max_samples = k).fit(x_train, y_train)\n"
     ]
    },
    {
     "name": "stdout",
     "output_type": "stream",
     "text": [
      "174\n"
     ]
    },
    {
     "name": "stderr",
     "output_type": "stream",
     "text": [
      "<ipython-input-11-f28a9ce02c17>:13: DataConversionWarning: A column-vector y was passed when a 1d array was expected. Please change the shape of y to (n_samples,), for example using ravel().\n",
      "  RandF1 = RandomForestRegressor(max_features = 11, oob_score = True, max_samples = k).fit(x_train, y_train)\n",
      "<ipython-input-11-f28a9ce02c17>:23: DataConversionWarning: A column-vector y was passed when a 1d array was expected. Please change the shape of y to (n_samples,), for example using ravel().\n",
      "  RandF = RandomForestRegressor(max_features = 122, oob_score = True, max_samples = k).fit(x_train, y_train)\n"
     ]
    },
    {
     "name": "stdout",
     "output_type": "stream",
     "text": [
      "175\n"
     ]
    },
    {
     "name": "stderr",
     "output_type": "stream",
     "text": [
      "<ipython-input-11-f28a9ce02c17>:13: DataConversionWarning: A column-vector y was passed when a 1d array was expected. Please change the shape of y to (n_samples,), for example using ravel().\n",
      "  RandF1 = RandomForestRegressor(max_features = 11, oob_score = True, max_samples = k).fit(x_train, y_train)\n",
      "<ipython-input-11-f28a9ce02c17>:23: DataConversionWarning: A column-vector y was passed when a 1d array was expected. Please change the shape of y to (n_samples,), for example using ravel().\n",
      "  RandF = RandomForestRegressor(max_features = 122, oob_score = True, max_samples = k).fit(x_train, y_train)\n"
     ]
    },
    {
     "name": "stdout",
     "output_type": "stream",
     "text": [
      "176\n"
     ]
    },
    {
     "name": "stderr",
     "output_type": "stream",
     "text": [
      "<ipython-input-11-f28a9ce02c17>:13: DataConversionWarning: A column-vector y was passed when a 1d array was expected. Please change the shape of y to (n_samples,), for example using ravel().\n",
      "  RandF1 = RandomForestRegressor(max_features = 11, oob_score = True, max_samples = k).fit(x_train, y_train)\n",
      "<ipython-input-11-f28a9ce02c17>:23: DataConversionWarning: A column-vector y was passed when a 1d array was expected. Please change the shape of y to (n_samples,), for example using ravel().\n",
      "  RandF = RandomForestRegressor(max_features = 122, oob_score = True, max_samples = k).fit(x_train, y_train)\n"
     ]
    },
    {
     "name": "stdout",
     "output_type": "stream",
     "text": [
      "177\n"
     ]
    },
    {
     "name": "stderr",
     "output_type": "stream",
     "text": [
      "<ipython-input-11-f28a9ce02c17>:13: DataConversionWarning: A column-vector y was passed when a 1d array was expected. Please change the shape of y to (n_samples,), for example using ravel().\n",
      "  RandF1 = RandomForestRegressor(max_features = 11, oob_score = True, max_samples = k).fit(x_train, y_train)\n",
      "<ipython-input-11-f28a9ce02c17>:23: DataConversionWarning: A column-vector y was passed when a 1d array was expected. Please change the shape of y to (n_samples,), for example using ravel().\n",
      "  RandF = RandomForestRegressor(max_features = 122, oob_score = True, max_samples = k).fit(x_train, y_train)\n"
     ]
    },
    {
     "name": "stdout",
     "output_type": "stream",
     "text": [
      "178\n"
     ]
    },
    {
     "name": "stderr",
     "output_type": "stream",
     "text": [
      "<ipython-input-11-f28a9ce02c17>:13: DataConversionWarning: A column-vector y was passed when a 1d array was expected. Please change the shape of y to (n_samples,), for example using ravel().\n",
      "  RandF1 = RandomForestRegressor(max_features = 11, oob_score = True, max_samples = k).fit(x_train, y_train)\n",
      "<ipython-input-11-f28a9ce02c17>:23: DataConversionWarning: A column-vector y was passed when a 1d array was expected. Please change the shape of y to (n_samples,), for example using ravel().\n",
      "  RandF = RandomForestRegressor(max_features = 122, oob_score = True, max_samples = k).fit(x_train, y_train)\n"
     ]
    },
    {
     "name": "stdout",
     "output_type": "stream",
     "text": [
      "179\n"
     ]
    },
    {
     "name": "stderr",
     "output_type": "stream",
     "text": [
      "<ipython-input-11-f28a9ce02c17>:13: DataConversionWarning: A column-vector y was passed when a 1d array was expected. Please change the shape of y to (n_samples,), for example using ravel().\n",
      "  RandF1 = RandomForestRegressor(max_features = 11, oob_score = True, max_samples = k).fit(x_train, y_train)\n",
      "<ipython-input-11-f28a9ce02c17>:23: DataConversionWarning: A column-vector y was passed when a 1d array was expected. Please change the shape of y to (n_samples,), for example using ravel().\n",
      "  RandF = RandomForestRegressor(max_features = 122, oob_score = True, max_samples = k).fit(x_train, y_train)\n"
     ]
    },
    {
     "name": "stdout",
     "output_type": "stream",
     "text": [
      "180\n"
     ]
    },
    {
     "name": "stderr",
     "output_type": "stream",
     "text": [
      "<ipython-input-11-f28a9ce02c17>:13: DataConversionWarning: A column-vector y was passed when a 1d array was expected. Please change the shape of y to (n_samples,), for example using ravel().\n",
      "  RandF1 = RandomForestRegressor(max_features = 11, oob_score = True, max_samples = k).fit(x_train, y_train)\n",
      "<ipython-input-11-f28a9ce02c17>:23: DataConversionWarning: A column-vector y was passed when a 1d array was expected. Please change the shape of y to (n_samples,), for example using ravel().\n",
      "  RandF = RandomForestRegressor(max_features = 122, oob_score = True, max_samples = k).fit(x_train, y_train)\n"
     ]
    },
    {
     "name": "stdout",
     "output_type": "stream",
     "text": [
      "181\n"
     ]
    },
    {
     "name": "stderr",
     "output_type": "stream",
     "text": [
      "<ipython-input-11-f28a9ce02c17>:13: DataConversionWarning: A column-vector y was passed when a 1d array was expected. Please change the shape of y to (n_samples,), for example using ravel().\n",
      "  RandF1 = RandomForestRegressor(max_features = 11, oob_score = True, max_samples = k).fit(x_train, y_train)\n",
      "<ipython-input-11-f28a9ce02c17>:23: DataConversionWarning: A column-vector y was passed when a 1d array was expected. Please change the shape of y to (n_samples,), for example using ravel().\n",
      "  RandF = RandomForestRegressor(max_features = 122, oob_score = True, max_samples = k).fit(x_train, y_train)\n"
     ]
    },
    {
     "name": "stdout",
     "output_type": "stream",
     "text": [
      "182\n"
     ]
    },
    {
     "name": "stderr",
     "output_type": "stream",
     "text": [
      "<ipython-input-11-f28a9ce02c17>:13: DataConversionWarning: A column-vector y was passed when a 1d array was expected. Please change the shape of y to (n_samples,), for example using ravel().\n",
      "  RandF1 = RandomForestRegressor(max_features = 11, oob_score = True, max_samples = k).fit(x_train, y_train)\n",
      "<ipython-input-11-f28a9ce02c17>:23: DataConversionWarning: A column-vector y was passed when a 1d array was expected. Please change the shape of y to (n_samples,), for example using ravel().\n",
      "  RandF = RandomForestRegressor(max_features = 122, oob_score = True, max_samples = k).fit(x_train, y_train)\n"
     ]
    },
    {
     "name": "stdout",
     "output_type": "stream",
     "text": [
      "183\n"
     ]
    },
    {
     "name": "stderr",
     "output_type": "stream",
     "text": [
      "<ipython-input-11-f28a9ce02c17>:13: DataConversionWarning: A column-vector y was passed when a 1d array was expected. Please change the shape of y to (n_samples,), for example using ravel().\n",
      "  RandF1 = RandomForestRegressor(max_features = 11, oob_score = True, max_samples = k).fit(x_train, y_train)\n",
      "<ipython-input-11-f28a9ce02c17>:23: DataConversionWarning: A column-vector y was passed when a 1d array was expected. Please change the shape of y to (n_samples,), for example using ravel().\n",
      "  RandF = RandomForestRegressor(max_features = 122, oob_score = True, max_samples = k).fit(x_train, y_train)\n"
     ]
    },
    {
     "name": "stdout",
     "output_type": "stream",
     "text": [
      "184\n"
     ]
    },
    {
     "name": "stderr",
     "output_type": "stream",
     "text": [
      "<ipython-input-11-f28a9ce02c17>:13: DataConversionWarning: A column-vector y was passed when a 1d array was expected. Please change the shape of y to (n_samples,), for example using ravel().\n",
      "  RandF1 = RandomForestRegressor(max_features = 11, oob_score = True, max_samples = k).fit(x_train, y_train)\n",
      "<ipython-input-11-f28a9ce02c17>:23: DataConversionWarning: A column-vector y was passed when a 1d array was expected. Please change the shape of y to (n_samples,), for example using ravel().\n",
      "  RandF = RandomForestRegressor(max_features = 122, oob_score = True, max_samples = k).fit(x_train, y_train)\n"
     ]
    },
    {
     "name": "stdout",
     "output_type": "stream",
     "text": [
      "185\n"
     ]
    },
    {
     "name": "stderr",
     "output_type": "stream",
     "text": [
      "<ipython-input-11-f28a9ce02c17>:13: DataConversionWarning: A column-vector y was passed when a 1d array was expected. Please change the shape of y to (n_samples,), for example using ravel().\n",
      "  RandF1 = RandomForestRegressor(max_features = 11, oob_score = True, max_samples = k).fit(x_train, y_train)\n",
      "<ipython-input-11-f28a9ce02c17>:23: DataConversionWarning: A column-vector y was passed when a 1d array was expected. Please change the shape of y to (n_samples,), for example using ravel().\n",
      "  RandF = RandomForestRegressor(max_features = 122, oob_score = True, max_samples = k).fit(x_train, y_train)\n"
     ]
    },
    {
     "name": "stdout",
     "output_type": "stream",
     "text": [
      "186\n"
     ]
    },
    {
     "name": "stderr",
     "output_type": "stream",
     "text": [
      "<ipython-input-11-f28a9ce02c17>:13: DataConversionWarning: A column-vector y was passed when a 1d array was expected. Please change the shape of y to (n_samples,), for example using ravel().\n",
      "  RandF1 = RandomForestRegressor(max_features = 11, oob_score = True, max_samples = k).fit(x_train, y_train)\n",
      "<ipython-input-11-f28a9ce02c17>:23: DataConversionWarning: A column-vector y was passed when a 1d array was expected. Please change the shape of y to (n_samples,), for example using ravel().\n",
      "  RandF = RandomForestRegressor(max_features = 122, oob_score = True, max_samples = k).fit(x_train, y_train)\n"
     ]
    },
    {
     "name": "stdout",
     "output_type": "stream",
     "text": [
      "187\n"
     ]
    },
    {
     "name": "stderr",
     "output_type": "stream",
     "text": [
      "<ipython-input-11-f28a9ce02c17>:13: DataConversionWarning: A column-vector y was passed when a 1d array was expected. Please change the shape of y to (n_samples,), for example using ravel().\n",
      "  RandF1 = RandomForestRegressor(max_features = 11, oob_score = True, max_samples = k).fit(x_train, y_train)\n",
      "<ipython-input-11-f28a9ce02c17>:23: DataConversionWarning: A column-vector y was passed when a 1d array was expected. Please change the shape of y to (n_samples,), for example using ravel().\n",
      "  RandF = RandomForestRegressor(max_features = 122, oob_score = True, max_samples = k).fit(x_train, y_train)\n"
     ]
    },
    {
     "name": "stdout",
     "output_type": "stream",
     "text": [
      "188\n"
     ]
    },
    {
     "name": "stderr",
     "output_type": "stream",
     "text": [
      "<ipython-input-11-f28a9ce02c17>:13: DataConversionWarning: A column-vector y was passed when a 1d array was expected. Please change the shape of y to (n_samples,), for example using ravel().\n",
      "  RandF1 = RandomForestRegressor(max_features = 11, oob_score = True, max_samples = k).fit(x_train, y_train)\n",
      "<ipython-input-11-f28a9ce02c17>:23: DataConversionWarning: A column-vector y was passed when a 1d array was expected. Please change the shape of y to (n_samples,), for example using ravel().\n",
      "  RandF = RandomForestRegressor(max_features = 122, oob_score = True, max_samples = k).fit(x_train, y_train)\n"
     ]
    },
    {
     "name": "stdout",
     "output_type": "stream",
     "text": [
      "189\n"
     ]
    },
    {
     "name": "stderr",
     "output_type": "stream",
     "text": [
      "<ipython-input-11-f28a9ce02c17>:13: DataConversionWarning: A column-vector y was passed when a 1d array was expected. Please change the shape of y to (n_samples,), for example using ravel().\n",
      "  RandF1 = RandomForestRegressor(max_features = 11, oob_score = True, max_samples = k).fit(x_train, y_train)\n",
      "<ipython-input-11-f28a9ce02c17>:23: DataConversionWarning: A column-vector y was passed when a 1d array was expected. Please change the shape of y to (n_samples,), for example using ravel().\n",
      "  RandF = RandomForestRegressor(max_features = 122, oob_score = True, max_samples = k).fit(x_train, y_train)\n"
     ]
    },
    {
     "name": "stdout",
     "output_type": "stream",
     "text": [
      "190\n"
     ]
    },
    {
     "name": "stderr",
     "output_type": "stream",
     "text": [
      "<ipython-input-11-f28a9ce02c17>:13: DataConversionWarning: A column-vector y was passed when a 1d array was expected. Please change the shape of y to (n_samples,), for example using ravel().\n",
      "  RandF1 = RandomForestRegressor(max_features = 11, oob_score = True, max_samples = k).fit(x_train, y_train)\n",
      "<ipython-input-11-f28a9ce02c17>:23: DataConversionWarning: A column-vector y was passed when a 1d array was expected. Please change the shape of y to (n_samples,), for example using ravel().\n",
      "  RandF = RandomForestRegressor(max_features = 122, oob_score = True, max_samples = k).fit(x_train, y_train)\n"
     ]
    },
    {
     "name": "stdout",
     "output_type": "stream",
     "text": [
      "191\n"
     ]
    },
    {
     "name": "stderr",
     "output_type": "stream",
     "text": [
      "<ipython-input-11-f28a9ce02c17>:13: DataConversionWarning: A column-vector y was passed when a 1d array was expected. Please change the shape of y to (n_samples,), for example using ravel().\n",
      "  RandF1 = RandomForestRegressor(max_features = 11, oob_score = True, max_samples = k).fit(x_train, y_train)\n",
      "<ipython-input-11-f28a9ce02c17>:23: DataConversionWarning: A column-vector y was passed when a 1d array was expected. Please change the shape of y to (n_samples,), for example using ravel().\n",
      "  RandF = RandomForestRegressor(max_features = 122, oob_score = True, max_samples = k).fit(x_train, y_train)\n"
     ]
    },
    {
     "name": "stdout",
     "output_type": "stream",
     "text": [
      "192\n"
     ]
    },
    {
     "name": "stderr",
     "output_type": "stream",
     "text": [
      "<ipython-input-11-f28a9ce02c17>:13: DataConversionWarning: A column-vector y was passed when a 1d array was expected. Please change the shape of y to (n_samples,), for example using ravel().\n",
      "  RandF1 = RandomForestRegressor(max_features = 11, oob_score = True, max_samples = k).fit(x_train, y_train)\n",
      "<ipython-input-11-f28a9ce02c17>:23: DataConversionWarning: A column-vector y was passed when a 1d array was expected. Please change the shape of y to (n_samples,), for example using ravel().\n",
      "  RandF = RandomForestRegressor(max_features = 122, oob_score = True, max_samples = k).fit(x_train, y_train)\n"
     ]
    },
    {
     "name": "stdout",
     "output_type": "stream",
     "text": [
      "193\n"
     ]
    },
    {
     "name": "stderr",
     "output_type": "stream",
     "text": [
      "<ipython-input-11-f28a9ce02c17>:13: DataConversionWarning: A column-vector y was passed when a 1d array was expected. Please change the shape of y to (n_samples,), for example using ravel().\n",
      "  RandF1 = RandomForestRegressor(max_features = 11, oob_score = True, max_samples = k).fit(x_train, y_train)\n",
      "<ipython-input-11-f28a9ce02c17>:23: DataConversionWarning: A column-vector y was passed when a 1d array was expected. Please change the shape of y to (n_samples,), for example using ravel().\n",
      "  RandF = RandomForestRegressor(max_features = 122, oob_score = True, max_samples = k).fit(x_train, y_train)\n"
     ]
    },
    {
     "name": "stdout",
     "output_type": "stream",
     "text": [
      "194\n"
     ]
    },
    {
     "name": "stderr",
     "output_type": "stream",
     "text": [
      "<ipython-input-11-f28a9ce02c17>:13: DataConversionWarning: A column-vector y was passed when a 1d array was expected. Please change the shape of y to (n_samples,), for example using ravel().\n",
      "  RandF1 = RandomForestRegressor(max_features = 11, oob_score = True, max_samples = k).fit(x_train, y_train)\n",
      "<ipython-input-11-f28a9ce02c17>:23: DataConversionWarning: A column-vector y was passed when a 1d array was expected. Please change the shape of y to (n_samples,), for example using ravel().\n",
      "  RandF = RandomForestRegressor(max_features = 122, oob_score = True, max_samples = k).fit(x_train, y_train)\n"
     ]
    },
    {
     "name": "stdout",
     "output_type": "stream",
     "text": [
      "195\n"
     ]
    },
    {
     "name": "stderr",
     "output_type": "stream",
     "text": [
      "<ipython-input-11-f28a9ce02c17>:13: DataConversionWarning: A column-vector y was passed when a 1d array was expected. Please change the shape of y to (n_samples,), for example using ravel().\n",
      "  RandF1 = RandomForestRegressor(max_features = 11, oob_score = True, max_samples = k).fit(x_train, y_train)\n",
      "<ipython-input-11-f28a9ce02c17>:23: DataConversionWarning: A column-vector y was passed when a 1d array was expected. Please change the shape of y to (n_samples,), for example using ravel().\n",
      "  RandF = RandomForestRegressor(max_features = 122, oob_score = True, max_samples = k).fit(x_train, y_train)\n"
     ]
    },
    {
     "name": "stdout",
     "output_type": "stream",
     "text": [
      "196\n"
     ]
    },
    {
     "name": "stderr",
     "output_type": "stream",
     "text": [
      "<ipython-input-11-f28a9ce02c17>:13: DataConversionWarning: A column-vector y was passed when a 1d array was expected. Please change the shape of y to (n_samples,), for example using ravel().\n",
      "  RandF1 = RandomForestRegressor(max_features = 11, oob_score = True, max_samples = k).fit(x_train, y_train)\n",
      "<ipython-input-11-f28a9ce02c17>:23: DataConversionWarning: A column-vector y was passed when a 1d array was expected. Please change the shape of y to (n_samples,), for example using ravel().\n",
      "  RandF = RandomForestRegressor(max_features = 122, oob_score = True, max_samples = k).fit(x_train, y_train)\n"
     ]
    },
    {
     "name": "stdout",
     "output_type": "stream",
     "text": [
      "197\n"
     ]
    },
    {
     "name": "stderr",
     "output_type": "stream",
     "text": [
      "<ipython-input-11-f28a9ce02c17>:13: DataConversionWarning: A column-vector y was passed when a 1d array was expected. Please change the shape of y to (n_samples,), for example using ravel().\n",
      "  RandF1 = RandomForestRegressor(max_features = 11, oob_score = True, max_samples = k).fit(x_train, y_train)\n",
      "<ipython-input-11-f28a9ce02c17>:23: DataConversionWarning: A column-vector y was passed when a 1d array was expected. Please change the shape of y to (n_samples,), for example using ravel().\n",
      "  RandF = RandomForestRegressor(max_features = 122, oob_score = True, max_samples = k).fit(x_train, y_train)\n"
     ]
    },
    {
     "name": "stdout",
     "output_type": "stream",
     "text": [
      "198\n"
     ]
    },
    {
     "name": "stderr",
     "output_type": "stream",
     "text": [
      "<ipython-input-11-f28a9ce02c17>:13: DataConversionWarning: A column-vector y was passed when a 1d array was expected. Please change the shape of y to (n_samples,), for example using ravel().\n",
      "  RandF1 = RandomForestRegressor(max_features = 11, oob_score = True, max_samples = k).fit(x_train, y_train)\n",
      "<ipython-input-11-f28a9ce02c17>:23: DataConversionWarning: A column-vector y was passed when a 1d array was expected. Please change the shape of y to (n_samples,), for example using ravel().\n",
      "  RandF = RandomForestRegressor(max_features = 122, oob_score = True, max_samples = k).fit(x_train, y_train)\n"
     ]
    },
    {
     "name": "stdout",
     "output_type": "stream",
     "text": [
      "199\n"
     ]
    },
    {
     "name": "stderr",
     "output_type": "stream",
     "text": [
      "<ipython-input-11-f28a9ce02c17>:13: DataConversionWarning: A column-vector y was passed when a 1d array was expected. Please change the shape of y to (n_samples,), for example using ravel().\n",
      "  RandF1 = RandomForestRegressor(max_features = 11, oob_score = True, max_samples = k).fit(x_train, y_train)\n",
      "<ipython-input-11-f28a9ce02c17>:23: DataConversionWarning: A column-vector y was passed when a 1d array was expected. Please change the shape of y to (n_samples,), for example using ravel().\n",
      "  RandF = RandomForestRegressor(max_features = 122, oob_score = True, max_samples = k).fit(x_train, y_train)\n"
     ]
    },
    {
     "name": "stdout",
     "output_type": "stream",
     "text": [
      "200\n"
     ]
    },
    {
     "name": "stderr",
     "output_type": "stream",
     "text": [
      "<ipython-input-11-f28a9ce02c17>:13: DataConversionWarning: A column-vector y was passed when a 1d array was expected. Please change the shape of y to (n_samples,), for example using ravel().\n",
      "  RandF1 = RandomForestRegressor(max_features = 11, oob_score = True, max_samples = k).fit(x_train, y_train)\n",
      "<ipython-input-11-f28a9ce02c17>:23: DataConversionWarning: A column-vector y was passed when a 1d array was expected. Please change the shape of y to (n_samples,), for example using ravel().\n",
      "  RandF = RandomForestRegressor(max_features = 122, oob_score = True, max_samples = k).fit(x_train, y_train)\n"
     ]
    },
    {
     "name": "stdout",
     "output_type": "stream",
     "text": [
      "201\n"
     ]
    },
    {
     "name": "stderr",
     "output_type": "stream",
     "text": [
      "<ipython-input-11-f28a9ce02c17>:13: DataConversionWarning: A column-vector y was passed when a 1d array was expected. Please change the shape of y to (n_samples,), for example using ravel().\n",
      "  RandF1 = RandomForestRegressor(max_features = 11, oob_score = True, max_samples = k).fit(x_train, y_train)\n",
      "<ipython-input-11-f28a9ce02c17>:23: DataConversionWarning: A column-vector y was passed when a 1d array was expected. Please change the shape of y to (n_samples,), for example using ravel().\n",
      "  RandF = RandomForestRegressor(max_features = 122, oob_score = True, max_samples = k).fit(x_train, y_train)\n"
     ]
    },
    {
     "name": "stdout",
     "output_type": "stream",
     "text": [
      "202\n"
     ]
    },
    {
     "name": "stderr",
     "output_type": "stream",
     "text": [
      "<ipython-input-11-f28a9ce02c17>:13: DataConversionWarning: A column-vector y was passed when a 1d array was expected. Please change the shape of y to (n_samples,), for example using ravel().\n",
      "  RandF1 = RandomForestRegressor(max_features = 11, oob_score = True, max_samples = k).fit(x_train, y_train)\n",
      "<ipython-input-11-f28a9ce02c17>:23: DataConversionWarning: A column-vector y was passed when a 1d array was expected. Please change the shape of y to (n_samples,), for example using ravel().\n",
      "  RandF = RandomForestRegressor(max_features = 122, oob_score = True, max_samples = k).fit(x_train, y_train)\n"
     ]
    },
    {
     "name": "stdout",
     "output_type": "stream",
     "text": [
      "203\n"
     ]
    },
    {
     "name": "stderr",
     "output_type": "stream",
     "text": [
      "<ipython-input-11-f28a9ce02c17>:13: DataConversionWarning: A column-vector y was passed when a 1d array was expected. Please change the shape of y to (n_samples,), for example using ravel().\n",
      "  RandF1 = RandomForestRegressor(max_features = 11, oob_score = True, max_samples = k).fit(x_train, y_train)\n",
      "<ipython-input-11-f28a9ce02c17>:23: DataConversionWarning: A column-vector y was passed when a 1d array was expected. Please change the shape of y to (n_samples,), for example using ravel().\n",
      "  RandF = RandomForestRegressor(max_features = 122, oob_score = True, max_samples = k).fit(x_train, y_train)\n"
     ]
    },
    {
     "name": "stdout",
     "output_type": "stream",
     "text": [
      "204\n"
     ]
    },
    {
     "name": "stderr",
     "output_type": "stream",
     "text": [
      "<ipython-input-11-f28a9ce02c17>:13: DataConversionWarning: A column-vector y was passed when a 1d array was expected. Please change the shape of y to (n_samples,), for example using ravel().\n",
      "  RandF1 = RandomForestRegressor(max_features = 11, oob_score = True, max_samples = k).fit(x_train, y_train)\n",
      "<ipython-input-11-f28a9ce02c17>:23: DataConversionWarning: A column-vector y was passed when a 1d array was expected. Please change the shape of y to (n_samples,), for example using ravel().\n",
      "  RandF = RandomForestRegressor(max_features = 122, oob_score = True, max_samples = k).fit(x_train, y_train)\n"
     ]
    },
    {
     "name": "stdout",
     "output_type": "stream",
     "text": [
      "205\n"
     ]
    },
    {
     "name": "stderr",
     "output_type": "stream",
     "text": [
      "<ipython-input-11-f28a9ce02c17>:13: DataConversionWarning: A column-vector y was passed when a 1d array was expected. Please change the shape of y to (n_samples,), for example using ravel().\n",
      "  RandF1 = RandomForestRegressor(max_features = 11, oob_score = True, max_samples = k).fit(x_train, y_train)\n",
      "<ipython-input-11-f28a9ce02c17>:23: DataConversionWarning: A column-vector y was passed when a 1d array was expected. Please change the shape of y to (n_samples,), for example using ravel().\n",
      "  RandF = RandomForestRegressor(max_features = 122, oob_score = True, max_samples = k).fit(x_train, y_train)\n"
     ]
    },
    {
     "name": "stdout",
     "output_type": "stream",
     "text": [
      "206\n"
     ]
    },
    {
     "name": "stderr",
     "output_type": "stream",
     "text": [
      "<ipython-input-11-f28a9ce02c17>:13: DataConversionWarning: A column-vector y was passed when a 1d array was expected. Please change the shape of y to (n_samples,), for example using ravel().\n",
      "  RandF1 = RandomForestRegressor(max_features = 11, oob_score = True, max_samples = k).fit(x_train, y_train)\n",
      "<ipython-input-11-f28a9ce02c17>:23: DataConversionWarning: A column-vector y was passed when a 1d array was expected. Please change the shape of y to (n_samples,), for example using ravel().\n",
      "  RandF = RandomForestRegressor(max_features = 122, oob_score = True, max_samples = k).fit(x_train, y_train)\n"
     ]
    },
    {
     "name": "stdout",
     "output_type": "stream",
     "text": [
      "207\n"
     ]
    },
    {
     "name": "stderr",
     "output_type": "stream",
     "text": [
      "<ipython-input-11-f28a9ce02c17>:13: DataConversionWarning: A column-vector y was passed when a 1d array was expected. Please change the shape of y to (n_samples,), for example using ravel().\n",
      "  RandF1 = RandomForestRegressor(max_features = 11, oob_score = True, max_samples = k).fit(x_train, y_train)\n",
      "<ipython-input-11-f28a9ce02c17>:23: DataConversionWarning: A column-vector y was passed when a 1d array was expected. Please change the shape of y to (n_samples,), for example using ravel().\n",
      "  RandF = RandomForestRegressor(max_features = 122, oob_score = True, max_samples = k).fit(x_train, y_train)\n"
     ]
    },
    {
     "name": "stdout",
     "output_type": "stream",
     "text": [
      "208\n"
     ]
    },
    {
     "name": "stderr",
     "output_type": "stream",
     "text": [
      "<ipython-input-11-f28a9ce02c17>:13: DataConversionWarning: A column-vector y was passed when a 1d array was expected. Please change the shape of y to (n_samples,), for example using ravel().\n",
      "  RandF1 = RandomForestRegressor(max_features = 11, oob_score = True, max_samples = k).fit(x_train, y_train)\n",
      "<ipython-input-11-f28a9ce02c17>:23: DataConversionWarning: A column-vector y was passed when a 1d array was expected. Please change the shape of y to (n_samples,), for example using ravel().\n",
      "  RandF = RandomForestRegressor(max_features = 122, oob_score = True, max_samples = k).fit(x_train, y_train)\n"
     ]
    },
    {
     "name": "stdout",
     "output_type": "stream",
     "text": [
      "209\n"
     ]
    },
    {
     "name": "stderr",
     "output_type": "stream",
     "text": [
      "<ipython-input-11-f28a9ce02c17>:13: DataConversionWarning: A column-vector y was passed when a 1d array was expected. Please change the shape of y to (n_samples,), for example using ravel().\n",
      "  RandF1 = RandomForestRegressor(max_features = 11, oob_score = True, max_samples = k).fit(x_train, y_train)\n",
      "<ipython-input-11-f28a9ce02c17>:23: DataConversionWarning: A column-vector y was passed when a 1d array was expected. Please change the shape of y to (n_samples,), for example using ravel().\n",
      "  RandF = RandomForestRegressor(max_features = 122, oob_score = True, max_samples = k).fit(x_train, y_train)\n"
     ]
    },
    {
     "name": "stdout",
     "output_type": "stream",
     "text": [
      "210\n"
     ]
    },
    {
     "name": "stderr",
     "output_type": "stream",
     "text": [
      "<ipython-input-11-f28a9ce02c17>:13: DataConversionWarning: A column-vector y was passed when a 1d array was expected. Please change the shape of y to (n_samples,), for example using ravel().\n",
      "  RandF1 = RandomForestRegressor(max_features = 11, oob_score = True, max_samples = k).fit(x_train, y_train)\n",
      "<ipython-input-11-f28a9ce02c17>:23: DataConversionWarning: A column-vector y was passed when a 1d array was expected. Please change the shape of y to (n_samples,), for example using ravel().\n",
      "  RandF = RandomForestRegressor(max_features = 122, oob_score = True, max_samples = k).fit(x_train, y_train)\n"
     ]
    },
    {
     "name": "stdout",
     "output_type": "stream",
     "text": [
      "211\n"
     ]
    },
    {
     "name": "stderr",
     "output_type": "stream",
     "text": [
      "<ipython-input-11-f28a9ce02c17>:13: DataConversionWarning: A column-vector y was passed when a 1d array was expected. Please change the shape of y to (n_samples,), for example using ravel().\n",
      "  RandF1 = RandomForestRegressor(max_features = 11, oob_score = True, max_samples = k).fit(x_train, y_train)\n",
      "<ipython-input-11-f28a9ce02c17>:23: DataConversionWarning: A column-vector y was passed when a 1d array was expected. Please change the shape of y to (n_samples,), for example using ravel().\n",
      "  RandF = RandomForestRegressor(max_features = 122, oob_score = True, max_samples = k).fit(x_train, y_train)\n"
     ]
    },
    {
     "name": "stdout",
     "output_type": "stream",
     "text": [
      "212\n"
     ]
    },
    {
     "name": "stderr",
     "output_type": "stream",
     "text": [
      "<ipython-input-11-f28a9ce02c17>:13: DataConversionWarning: A column-vector y was passed when a 1d array was expected. Please change the shape of y to (n_samples,), for example using ravel().\n",
      "  RandF1 = RandomForestRegressor(max_features = 11, oob_score = True, max_samples = k).fit(x_train, y_train)\n",
      "<ipython-input-11-f28a9ce02c17>:23: DataConversionWarning: A column-vector y was passed when a 1d array was expected. Please change the shape of y to (n_samples,), for example using ravel().\n",
      "  RandF = RandomForestRegressor(max_features = 122, oob_score = True, max_samples = k).fit(x_train, y_train)\n"
     ]
    },
    {
     "name": "stdout",
     "output_type": "stream",
     "text": [
      "213\n"
     ]
    },
    {
     "name": "stderr",
     "output_type": "stream",
     "text": [
      "<ipython-input-11-f28a9ce02c17>:13: DataConversionWarning: A column-vector y was passed when a 1d array was expected. Please change the shape of y to (n_samples,), for example using ravel().\n",
      "  RandF1 = RandomForestRegressor(max_features = 11, oob_score = True, max_samples = k).fit(x_train, y_train)\n",
      "<ipython-input-11-f28a9ce02c17>:23: DataConversionWarning: A column-vector y was passed when a 1d array was expected. Please change the shape of y to (n_samples,), for example using ravel().\n",
      "  RandF = RandomForestRegressor(max_features = 122, oob_score = True, max_samples = k).fit(x_train, y_train)\n"
     ]
    },
    {
     "name": "stdout",
     "output_type": "stream",
     "text": [
      "214\n"
     ]
    },
    {
     "name": "stderr",
     "output_type": "stream",
     "text": [
      "<ipython-input-11-f28a9ce02c17>:13: DataConversionWarning: A column-vector y was passed when a 1d array was expected. Please change the shape of y to (n_samples,), for example using ravel().\n",
      "  RandF1 = RandomForestRegressor(max_features = 11, oob_score = True, max_samples = k).fit(x_train, y_train)\n",
      "<ipython-input-11-f28a9ce02c17>:23: DataConversionWarning: A column-vector y was passed when a 1d array was expected. Please change the shape of y to (n_samples,), for example using ravel().\n",
      "  RandF = RandomForestRegressor(max_features = 122, oob_score = True, max_samples = k).fit(x_train, y_train)\n"
     ]
    },
    {
     "name": "stdout",
     "output_type": "stream",
     "text": [
      "215\n"
     ]
    },
    {
     "name": "stderr",
     "output_type": "stream",
     "text": [
      "<ipython-input-11-f28a9ce02c17>:13: DataConversionWarning: A column-vector y was passed when a 1d array was expected. Please change the shape of y to (n_samples,), for example using ravel().\n",
      "  RandF1 = RandomForestRegressor(max_features = 11, oob_score = True, max_samples = k).fit(x_train, y_train)\n",
      "<ipython-input-11-f28a9ce02c17>:23: DataConversionWarning: A column-vector y was passed when a 1d array was expected. Please change the shape of y to (n_samples,), for example using ravel().\n",
      "  RandF = RandomForestRegressor(max_features = 122, oob_score = True, max_samples = k).fit(x_train, y_train)\n"
     ]
    },
    {
     "name": "stdout",
     "output_type": "stream",
     "text": [
      "216\n"
     ]
    },
    {
     "name": "stderr",
     "output_type": "stream",
     "text": [
      "<ipython-input-11-f28a9ce02c17>:13: DataConversionWarning: A column-vector y was passed when a 1d array was expected. Please change the shape of y to (n_samples,), for example using ravel().\n",
      "  RandF1 = RandomForestRegressor(max_features = 11, oob_score = True, max_samples = k).fit(x_train, y_train)\n",
      "<ipython-input-11-f28a9ce02c17>:23: DataConversionWarning: A column-vector y was passed when a 1d array was expected. Please change the shape of y to (n_samples,), for example using ravel().\n",
      "  RandF = RandomForestRegressor(max_features = 122, oob_score = True, max_samples = k).fit(x_train, y_train)\n"
     ]
    },
    {
     "name": "stdout",
     "output_type": "stream",
     "text": [
      "217\n"
     ]
    },
    {
     "name": "stderr",
     "output_type": "stream",
     "text": [
      "<ipython-input-11-f28a9ce02c17>:13: DataConversionWarning: A column-vector y was passed when a 1d array was expected. Please change the shape of y to (n_samples,), for example using ravel().\n",
      "  RandF1 = RandomForestRegressor(max_features = 11, oob_score = True, max_samples = k).fit(x_train, y_train)\n",
      "<ipython-input-11-f28a9ce02c17>:23: DataConversionWarning: A column-vector y was passed when a 1d array was expected. Please change the shape of y to (n_samples,), for example using ravel().\n",
      "  RandF = RandomForestRegressor(max_features = 122, oob_score = True, max_samples = k).fit(x_train, y_train)\n"
     ]
    },
    {
     "name": "stdout",
     "output_type": "stream",
     "text": [
      "218\n"
     ]
    },
    {
     "name": "stderr",
     "output_type": "stream",
     "text": [
      "<ipython-input-11-f28a9ce02c17>:13: DataConversionWarning: A column-vector y was passed when a 1d array was expected. Please change the shape of y to (n_samples,), for example using ravel().\n",
      "  RandF1 = RandomForestRegressor(max_features = 11, oob_score = True, max_samples = k).fit(x_train, y_train)\n",
      "<ipython-input-11-f28a9ce02c17>:23: DataConversionWarning: A column-vector y was passed when a 1d array was expected. Please change the shape of y to (n_samples,), for example using ravel().\n",
      "  RandF = RandomForestRegressor(max_features = 122, oob_score = True, max_samples = k).fit(x_train, y_train)\n"
     ]
    },
    {
     "name": "stdout",
     "output_type": "stream",
     "text": [
      "219\n"
     ]
    },
    {
     "name": "stderr",
     "output_type": "stream",
     "text": [
      "<ipython-input-11-f28a9ce02c17>:13: DataConversionWarning: A column-vector y was passed when a 1d array was expected. Please change the shape of y to (n_samples,), for example using ravel().\n",
      "  RandF1 = RandomForestRegressor(max_features = 11, oob_score = True, max_samples = k).fit(x_train, y_train)\n",
      "<ipython-input-11-f28a9ce02c17>:23: DataConversionWarning: A column-vector y was passed when a 1d array was expected. Please change the shape of y to (n_samples,), for example using ravel().\n",
      "  RandF = RandomForestRegressor(max_features = 122, oob_score = True, max_samples = k).fit(x_train, y_train)\n"
     ]
    },
    {
     "name": "stdout",
     "output_type": "stream",
     "text": [
      "220\n"
     ]
    },
    {
     "name": "stderr",
     "output_type": "stream",
     "text": [
      "<ipython-input-11-f28a9ce02c17>:13: DataConversionWarning: A column-vector y was passed when a 1d array was expected. Please change the shape of y to (n_samples,), for example using ravel().\n",
      "  RandF1 = RandomForestRegressor(max_features = 11, oob_score = True, max_samples = k).fit(x_train, y_train)\n",
      "<ipython-input-11-f28a9ce02c17>:23: DataConversionWarning: A column-vector y was passed when a 1d array was expected. Please change the shape of y to (n_samples,), for example using ravel().\n",
      "  RandF = RandomForestRegressor(max_features = 122, oob_score = True, max_samples = k).fit(x_train, y_train)\n"
     ]
    },
    {
     "name": "stdout",
     "output_type": "stream",
     "text": [
      "221\n"
     ]
    },
    {
     "name": "stderr",
     "output_type": "stream",
     "text": [
      "<ipython-input-11-f28a9ce02c17>:13: DataConversionWarning: A column-vector y was passed when a 1d array was expected. Please change the shape of y to (n_samples,), for example using ravel().\n",
      "  RandF1 = RandomForestRegressor(max_features = 11, oob_score = True, max_samples = k).fit(x_train, y_train)\n",
      "<ipython-input-11-f28a9ce02c17>:23: DataConversionWarning: A column-vector y was passed when a 1d array was expected. Please change the shape of y to (n_samples,), for example using ravel().\n",
      "  RandF = RandomForestRegressor(max_features = 122, oob_score = True, max_samples = k).fit(x_train, y_train)\n"
     ]
    },
    {
     "name": "stdout",
     "output_type": "stream",
     "text": [
      "222\n"
     ]
    },
    {
     "name": "stderr",
     "output_type": "stream",
     "text": [
      "<ipython-input-11-f28a9ce02c17>:13: DataConversionWarning: A column-vector y was passed when a 1d array was expected. Please change the shape of y to (n_samples,), for example using ravel().\n",
      "  RandF1 = RandomForestRegressor(max_features = 11, oob_score = True, max_samples = k).fit(x_train, y_train)\n",
      "<ipython-input-11-f28a9ce02c17>:23: DataConversionWarning: A column-vector y was passed when a 1d array was expected. Please change the shape of y to (n_samples,), for example using ravel().\n",
      "  RandF = RandomForestRegressor(max_features = 122, oob_score = True, max_samples = k).fit(x_train, y_train)\n"
     ]
    },
    {
     "name": "stdout",
     "output_type": "stream",
     "text": [
      "223\n"
     ]
    },
    {
     "name": "stderr",
     "output_type": "stream",
     "text": [
      "<ipython-input-11-f28a9ce02c17>:13: DataConversionWarning: A column-vector y was passed when a 1d array was expected. Please change the shape of y to (n_samples,), for example using ravel().\n",
      "  RandF1 = RandomForestRegressor(max_features = 11, oob_score = True, max_samples = k).fit(x_train, y_train)\n",
      "<ipython-input-11-f28a9ce02c17>:23: DataConversionWarning: A column-vector y was passed when a 1d array was expected. Please change the shape of y to (n_samples,), for example using ravel().\n",
      "  RandF = RandomForestRegressor(max_features = 122, oob_score = True, max_samples = k).fit(x_train, y_train)\n"
     ]
    },
    {
     "name": "stdout",
     "output_type": "stream",
     "text": [
      "224\n"
     ]
    },
    {
     "name": "stderr",
     "output_type": "stream",
     "text": [
      "<ipython-input-11-f28a9ce02c17>:13: DataConversionWarning: A column-vector y was passed when a 1d array was expected. Please change the shape of y to (n_samples,), for example using ravel().\n",
      "  RandF1 = RandomForestRegressor(max_features = 11, oob_score = True, max_samples = k).fit(x_train, y_train)\n",
      "<ipython-input-11-f28a9ce02c17>:23: DataConversionWarning: A column-vector y was passed when a 1d array was expected. Please change the shape of y to (n_samples,), for example using ravel().\n",
      "  RandF = RandomForestRegressor(max_features = 122, oob_score = True, max_samples = k).fit(x_train, y_train)\n"
     ]
    },
    {
     "name": "stdout",
     "output_type": "stream",
     "text": [
      "225\n"
     ]
    },
    {
     "name": "stderr",
     "output_type": "stream",
     "text": [
      "<ipython-input-11-f28a9ce02c17>:13: DataConversionWarning: A column-vector y was passed when a 1d array was expected. Please change the shape of y to (n_samples,), for example using ravel().\n",
      "  RandF1 = RandomForestRegressor(max_features = 11, oob_score = True, max_samples = k).fit(x_train, y_train)\n",
      "<ipython-input-11-f28a9ce02c17>:23: DataConversionWarning: A column-vector y was passed when a 1d array was expected. Please change the shape of y to (n_samples,), for example using ravel().\n",
      "  RandF = RandomForestRegressor(max_features = 122, oob_score = True, max_samples = k).fit(x_train, y_train)\n"
     ]
    },
    {
     "name": "stdout",
     "output_type": "stream",
     "text": [
      "226\n"
     ]
    },
    {
     "name": "stderr",
     "output_type": "stream",
     "text": [
      "<ipython-input-11-f28a9ce02c17>:13: DataConversionWarning: A column-vector y was passed when a 1d array was expected. Please change the shape of y to (n_samples,), for example using ravel().\n",
      "  RandF1 = RandomForestRegressor(max_features = 11, oob_score = True, max_samples = k).fit(x_train, y_train)\n",
      "<ipython-input-11-f28a9ce02c17>:23: DataConversionWarning: A column-vector y was passed when a 1d array was expected. Please change the shape of y to (n_samples,), for example using ravel().\n",
      "  RandF = RandomForestRegressor(max_features = 122, oob_score = True, max_samples = k).fit(x_train, y_train)\n"
     ]
    },
    {
     "name": "stdout",
     "output_type": "stream",
     "text": [
      "227\n"
     ]
    },
    {
     "name": "stderr",
     "output_type": "stream",
     "text": [
      "<ipython-input-11-f28a9ce02c17>:13: DataConversionWarning: A column-vector y was passed when a 1d array was expected. Please change the shape of y to (n_samples,), for example using ravel().\n",
      "  RandF1 = RandomForestRegressor(max_features = 11, oob_score = True, max_samples = k).fit(x_train, y_train)\n",
      "<ipython-input-11-f28a9ce02c17>:23: DataConversionWarning: A column-vector y was passed when a 1d array was expected. Please change the shape of y to (n_samples,), for example using ravel().\n",
      "  RandF = RandomForestRegressor(max_features = 122, oob_score = True, max_samples = k).fit(x_train, y_train)\n"
     ]
    },
    {
     "name": "stdout",
     "output_type": "stream",
     "text": [
      "228\n"
     ]
    },
    {
     "name": "stderr",
     "output_type": "stream",
     "text": [
      "<ipython-input-11-f28a9ce02c17>:13: DataConversionWarning: A column-vector y was passed when a 1d array was expected. Please change the shape of y to (n_samples,), for example using ravel().\n",
      "  RandF1 = RandomForestRegressor(max_features = 11, oob_score = True, max_samples = k).fit(x_train, y_train)\n",
      "<ipython-input-11-f28a9ce02c17>:23: DataConversionWarning: A column-vector y was passed when a 1d array was expected. Please change the shape of y to (n_samples,), for example using ravel().\n",
      "  RandF = RandomForestRegressor(max_features = 122, oob_score = True, max_samples = k).fit(x_train, y_train)\n"
     ]
    },
    {
     "name": "stdout",
     "output_type": "stream",
     "text": [
      "229\n"
     ]
    },
    {
     "name": "stderr",
     "output_type": "stream",
     "text": [
      "<ipython-input-11-f28a9ce02c17>:13: DataConversionWarning: A column-vector y was passed when a 1d array was expected. Please change the shape of y to (n_samples,), for example using ravel().\n",
      "  RandF1 = RandomForestRegressor(max_features = 11, oob_score = True, max_samples = k).fit(x_train, y_train)\n",
      "<ipython-input-11-f28a9ce02c17>:23: DataConversionWarning: A column-vector y was passed when a 1d array was expected. Please change the shape of y to (n_samples,), for example using ravel().\n",
      "  RandF = RandomForestRegressor(max_features = 122, oob_score = True, max_samples = k).fit(x_train, y_train)\n"
     ]
    },
    {
     "name": "stdout",
     "output_type": "stream",
     "text": [
      "230\n"
     ]
    },
    {
     "name": "stderr",
     "output_type": "stream",
     "text": [
      "<ipython-input-11-f28a9ce02c17>:13: DataConversionWarning: A column-vector y was passed when a 1d array was expected. Please change the shape of y to (n_samples,), for example using ravel().\n",
      "  RandF1 = RandomForestRegressor(max_features = 11, oob_score = True, max_samples = k).fit(x_train, y_train)\n",
      "<ipython-input-11-f28a9ce02c17>:23: DataConversionWarning: A column-vector y was passed when a 1d array was expected. Please change the shape of y to (n_samples,), for example using ravel().\n",
      "  RandF = RandomForestRegressor(max_features = 122, oob_score = True, max_samples = k).fit(x_train, y_train)\n"
     ]
    },
    {
     "name": "stdout",
     "output_type": "stream",
     "text": [
      "231\n"
     ]
    },
    {
     "name": "stderr",
     "output_type": "stream",
     "text": [
      "<ipython-input-11-f28a9ce02c17>:13: DataConversionWarning: A column-vector y was passed when a 1d array was expected. Please change the shape of y to (n_samples,), for example using ravel().\n",
      "  RandF1 = RandomForestRegressor(max_features = 11, oob_score = True, max_samples = k).fit(x_train, y_train)\n",
      "<ipython-input-11-f28a9ce02c17>:23: DataConversionWarning: A column-vector y was passed when a 1d array was expected. Please change the shape of y to (n_samples,), for example using ravel().\n",
      "  RandF = RandomForestRegressor(max_features = 122, oob_score = True, max_samples = k).fit(x_train, y_train)\n"
     ]
    },
    {
     "name": "stdout",
     "output_type": "stream",
     "text": [
      "232\n"
     ]
    },
    {
     "name": "stderr",
     "output_type": "stream",
     "text": [
      "<ipython-input-11-f28a9ce02c17>:13: DataConversionWarning: A column-vector y was passed when a 1d array was expected. Please change the shape of y to (n_samples,), for example using ravel().\n",
      "  RandF1 = RandomForestRegressor(max_features = 11, oob_score = True, max_samples = k).fit(x_train, y_train)\n",
      "<ipython-input-11-f28a9ce02c17>:23: DataConversionWarning: A column-vector y was passed when a 1d array was expected. Please change the shape of y to (n_samples,), for example using ravel().\n",
      "  RandF = RandomForestRegressor(max_features = 122, oob_score = True, max_samples = k).fit(x_train, y_train)\n"
     ]
    },
    {
     "name": "stdout",
     "output_type": "stream",
     "text": [
      "233\n"
     ]
    },
    {
     "name": "stderr",
     "output_type": "stream",
     "text": [
      "<ipython-input-11-f28a9ce02c17>:13: DataConversionWarning: A column-vector y was passed when a 1d array was expected. Please change the shape of y to (n_samples,), for example using ravel().\n",
      "  RandF1 = RandomForestRegressor(max_features = 11, oob_score = True, max_samples = k).fit(x_train, y_train)\n",
      "<ipython-input-11-f28a9ce02c17>:23: DataConversionWarning: A column-vector y was passed when a 1d array was expected. Please change the shape of y to (n_samples,), for example using ravel().\n",
      "  RandF = RandomForestRegressor(max_features = 122, oob_score = True, max_samples = k).fit(x_train, y_train)\n"
     ]
    },
    {
     "name": "stdout",
     "output_type": "stream",
     "text": [
      "234\n"
     ]
    },
    {
     "name": "stderr",
     "output_type": "stream",
     "text": [
      "<ipython-input-11-f28a9ce02c17>:13: DataConversionWarning: A column-vector y was passed when a 1d array was expected. Please change the shape of y to (n_samples,), for example using ravel().\n",
      "  RandF1 = RandomForestRegressor(max_features = 11, oob_score = True, max_samples = k).fit(x_train, y_train)\n",
      "<ipython-input-11-f28a9ce02c17>:23: DataConversionWarning: A column-vector y was passed when a 1d array was expected. Please change the shape of y to (n_samples,), for example using ravel().\n",
      "  RandF = RandomForestRegressor(max_features = 122, oob_score = True, max_samples = k).fit(x_train, y_train)\n"
     ]
    },
    {
     "name": "stdout",
     "output_type": "stream",
     "text": [
      "235\n"
     ]
    },
    {
     "name": "stderr",
     "output_type": "stream",
     "text": [
      "<ipython-input-11-f28a9ce02c17>:13: DataConversionWarning: A column-vector y was passed when a 1d array was expected. Please change the shape of y to (n_samples,), for example using ravel().\n",
      "  RandF1 = RandomForestRegressor(max_features = 11, oob_score = True, max_samples = k).fit(x_train, y_train)\n",
      "<ipython-input-11-f28a9ce02c17>:23: DataConversionWarning: A column-vector y was passed when a 1d array was expected. Please change the shape of y to (n_samples,), for example using ravel().\n",
      "  RandF = RandomForestRegressor(max_features = 122, oob_score = True, max_samples = k).fit(x_train, y_train)\n"
     ]
    },
    {
     "name": "stdout",
     "output_type": "stream",
     "text": [
      "236\n"
     ]
    },
    {
     "name": "stderr",
     "output_type": "stream",
     "text": [
      "<ipython-input-11-f28a9ce02c17>:13: DataConversionWarning: A column-vector y was passed when a 1d array was expected. Please change the shape of y to (n_samples,), for example using ravel().\n",
      "  RandF1 = RandomForestRegressor(max_features = 11, oob_score = True, max_samples = k).fit(x_train, y_train)\n",
      "<ipython-input-11-f28a9ce02c17>:23: DataConversionWarning: A column-vector y was passed when a 1d array was expected. Please change the shape of y to (n_samples,), for example using ravel().\n",
      "  RandF = RandomForestRegressor(max_features = 122, oob_score = True, max_samples = k).fit(x_train, y_train)\n"
     ]
    },
    {
     "name": "stdout",
     "output_type": "stream",
     "text": [
      "237\n"
     ]
    },
    {
     "name": "stderr",
     "output_type": "stream",
     "text": [
      "<ipython-input-11-f28a9ce02c17>:13: DataConversionWarning: A column-vector y was passed when a 1d array was expected. Please change the shape of y to (n_samples,), for example using ravel().\n",
      "  RandF1 = RandomForestRegressor(max_features = 11, oob_score = True, max_samples = k).fit(x_train, y_train)\n",
      "<ipython-input-11-f28a9ce02c17>:23: DataConversionWarning: A column-vector y was passed when a 1d array was expected. Please change the shape of y to (n_samples,), for example using ravel().\n",
      "  RandF = RandomForestRegressor(max_features = 122, oob_score = True, max_samples = k).fit(x_train, y_train)\n"
     ]
    },
    {
     "name": "stdout",
     "output_type": "stream",
     "text": [
      "238\n"
     ]
    },
    {
     "name": "stderr",
     "output_type": "stream",
     "text": [
      "<ipython-input-11-f28a9ce02c17>:13: DataConversionWarning: A column-vector y was passed when a 1d array was expected. Please change the shape of y to (n_samples,), for example using ravel().\n",
      "  RandF1 = RandomForestRegressor(max_features = 11, oob_score = True, max_samples = k).fit(x_train, y_train)\n",
      "<ipython-input-11-f28a9ce02c17>:23: DataConversionWarning: A column-vector y was passed when a 1d array was expected. Please change the shape of y to (n_samples,), for example using ravel().\n",
      "  RandF = RandomForestRegressor(max_features = 122, oob_score = True, max_samples = k).fit(x_train, y_train)\n"
     ]
    },
    {
     "name": "stdout",
     "output_type": "stream",
     "text": [
      "239\n"
     ]
    },
    {
     "name": "stderr",
     "output_type": "stream",
     "text": [
      "<ipython-input-11-f28a9ce02c17>:13: DataConversionWarning: A column-vector y was passed when a 1d array was expected. Please change the shape of y to (n_samples,), for example using ravel().\n",
      "  RandF1 = RandomForestRegressor(max_features = 11, oob_score = True, max_samples = k).fit(x_train, y_train)\n",
      "<ipython-input-11-f28a9ce02c17>:23: DataConversionWarning: A column-vector y was passed when a 1d array was expected. Please change the shape of y to (n_samples,), for example using ravel().\n",
      "  RandF = RandomForestRegressor(max_features = 122, oob_score = True, max_samples = k).fit(x_train, y_train)\n"
     ]
    },
    {
     "name": "stdout",
     "output_type": "stream",
     "text": [
      "240\n"
     ]
    },
    {
     "name": "stderr",
     "output_type": "stream",
     "text": [
      "<ipython-input-11-f28a9ce02c17>:13: DataConversionWarning: A column-vector y was passed when a 1d array was expected. Please change the shape of y to (n_samples,), for example using ravel().\n",
      "  RandF1 = RandomForestRegressor(max_features = 11, oob_score = True, max_samples = k).fit(x_train, y_train)\n",
      "<ipython-input-11-f28a9ce02c17>:23: DataConversionWarning: A column-vector y was passed when a 1d array was expected. Please change the shape of y to (n_samples,), for example using ravel().\n",
      "  RandF = RandomForestRegressor(max_features = 122, oob_score = True, max_samples = k).fit(x_train, y_train)\n"
     ]
    },
    {
     "name": "stdout",
     "output_type": "stream",
     "text": [
      "241\n"
     ]
    },
    {
     "name": "stderr",
     "output_type": "stream",
     "text": [
      "<ipython-input-11-f28a9ce02c17>:13: DataConversionWarning: A column-vector y was passed when a 1d array was expected. Please change the shape of y to (n_samples,), for example using ravel().\n",
      "  RandF1 = RandomForestRegressor(max_features = 11, oob_score = True, max_samples = k).fit(x_train, y_train)\n",
      "<ipython-input-11-f28a9ce02c17>:23: DataConversionWarning: A column-vector y was passed when a 1d array was expected. Please change the shape of y to (n_samples,), for example using ravel().\n",
      "  RandF = RandomForestRegressor(max_features = 122, oob_score = True, max_samples = k).fit(x_train, y_train)\n"
     ]
    },
    {
     "name": "stdout",
     "output_type": "stream",
     "text": [
      "242\n"
     ]
    },
    {
     "name": "stderr",
     "output_type": "stream",
     "text": [
      "<ipython-input-11-f28a9ce02c17>:13: DataConversionWarning: A column-vector y was passed when a 1d array was expected. Please change the shape of y to (n_samples,), for example using ravel().\n",
      "  RandF1 = RandomForestRegressor(max_features = 11, oob_score = True, max_samples = k).fit(x_train, y_train)\n",
      "<ipython-input-11-f28a9ce02c17>:23: DataConversionWarning: A column-vector y was passed when a 1d array was expected. Please change the shape of y to (n_samples,), for example using ravel().\n",
      "  RandF = RandomForestRegressor(max_features = 122, oob_score = True, max_samples = k).fit(x_train, y_train)\n"
     ]
    },
    {
     "name": "stdout",
     "output_type": "stream",
     "text": [
      "243\n"
     ]
    },
    {
     "name": "stderr",
     "output_type": "stream",
     "text": [
      "<ipython-input-11-f28a9ce02c17>:13: DataConversionWarning: A column-vector y was passed when a 1d array was expected. Please change the shape of y to (n_samples,), for example using ravel().\n",
      "  RandF1 = RandomForestRegressor(max_features = 11, oob_score = True, max_samples = k).fit(x_train, y_train)\n",
      "<ipython-input-11-f28a9ce02c17>:23: DataConversionWarning: A column-vector y was passed when a 1d array was expected. Please change the shape of y to (n_samples,), for example using ravel().\n",
      "  RandF = RandomForestRegressor(max_features = 122, oob_score = True, max_samples = k).fit(x_train, y_train)\n"
     ]
    },
    {
     "name": "stdout",
     "output_type": "stream",
     "text": [
      "244\n"
     ]
    },
    {
     "name": "stderr",
     "output_type": "stream",
     "text": [
      "<ipython-input-11-f28a9ce02c17>:13: DataConversionWarning: A column-vector y was passed when a 1d array was expected. Please change the shape of y to (n_samples,), for example using ravel().\n",
      "  RandF1 = RandomForestRegressor(max_features = 11, oob_score = True, max_samples = k).fit(x_train, y_train)\n",
      "<ipython-input-11-f28a9ce02c17>:23: DataConversionWarning: A column-vector y was passed when a 1d array was expected. Please change the shape of y to (n_samples,), for example using ravel().\n",
      "  RandF = RandomForestRegressor(max_features = 122, oob_score = True, max_samples = k).fit(x_train, y_train)\n"
     ]
    },
    {
     "name": "stdout",
     "output_type": "stream",
     "text": [
      "245\n"
     ]
    },
    {
     "name": "stderr",
     "output_type": "stream",
     "text": [
      "<ipython-input-11-f28a9ce02c17>:13: DataConversionWarning: A column-vector y was passed when a 1d array was expected. Please change the shape of y to (n_samples,), for example using ravel().\n",
      "  RandF1 = RandomForestRegressor(max_features = 11, oob_score = True, max_samples = k).fit(x_train, y_train)\n",
      "<ipython-input-11-f28a9ce02c17>:23: DataConversionWarning: A column-vector y was passed when a 1d array was expected. Please change the shape of y to (n_samples,), for example using ravel().\n",
      "  RandF = RandomForestRegressor(max_features = 122, oob_score = True, max_samples = k).fit(x_train, y_train)\n"
     ]
    },
    {
     "name": "stdout",
     "output_type": "stream",
     "text": [
      "246\n"
     ]
    },
    {
     "name": "stderr",
     "output_type": "stream",
     "text": [
      "<ipython-input-11-f28a9ce02c17>:13: DataConversionWarning: A column-vector y was passed when a 1d array was expected. Please change the shape of y to (n_samples,), for example using ravel().\n",
      "  RandF1 = RandomForestRegressor(max_features = 11, oob_score = True, max_samples = k).fit(x_train, y_train)\n",
      "<ipython-input-11-f28a9ce02c17>:23: DataConversionWarning: A column-vector y was passed when a 1d array was expected. Please change the shape of y to (n_samples,), for example using ravel().\n",
      "  RandF = RandomForestRegressor(max_features = 122, oob_score = True, max_samples = k).fit(x_train, y_train)\n"
     ]
    },
    {
     "name": "stdout",
     "output_type": "stream",
     "text": [
      "247\n"
     ]
    },
    {
     "name": "stderr",
     "output_type": "stream",
     "text": [
      "<ipython-input-11-f28a9ce02c17>:13: DataConversionWarning: A column-vector y was passed when a 1d array was expected. Please change the shape of y to (n_samples,), for example using ravel().\n",
      "  RandF1 = RandomForestRegressor(max_features = 11, oob_score = True, max_samples = k).fit(x_train, y_train)\n",
      "<ipython-input-11-f28a9ce02c17>:23: DataConversionWarning: A column-vector y was passed when a 1d array was expected. Please change the shape of y to (n_samples,), for example using ravel().\n",
      "  RandF = RandomForestRegressor(max_features = 122, oob_score = True, max_samples = k).fit(x_train, y_train)\n"
     ]
    },
    {
     "name": "stdout",
     "output_type": "stream",
     "text": [
      "248\n"
     ]
    },
    {
     "name": "stderr",
     "output_type": "stream",
     "text": [
      "<ipython-input-11-f28a9ce02c17>:13: DataConversionWarning: A column-vector y was passed when a 1d array was expected. Please change the shape of y to (n_samples,), for example using ravel().\n",
      "  RandF1 = RandomForestRegressor(max_features = 11, oob_score = True, max_samples = k).fit(x_train, y_train)\n",
      "<ipython-input-11-f28a9ce02c17>:23: DataConversionWarning: A column-vector y was passed when a 1d array was expected. Please change the shape of y to (n_samples,), for example using ravel().\n",
      "  RandF = RandomForestRegressor(max_features = 122, oob_score = True, max_samples = k).fit(x_train, y_train)\n"
     ]
    },
    {
     "name": "stdout",
     "output_type": "stream",
     "text": [
      "249\n"
     ]
    },
    {
     "name": "stderr",
     "output_type": "stream",
     "text": [
      "<ipython-input-11-f28a9ce02c17>:13: DataConversionWarning: A column-vector y was passed when a 1d array was expected. Please change the shape of y to (n_samples,), for example using ravel().\n",
      "  RandF1 = RandomForestRegressor(max_features = 11, oob_score = True, max_samples = k).fit(x_train, y_train)\n",
      "<ipython-input-11-f28a9ce02c17>:23: DataConversionWarning: A column-vector y was passed when a 1d array was expected. Please change the shape of y to (n_samples,), for example using ravel().\n",
      "  RandF = RandomForestRegressor(max_features = 122, oob_score = True, max_samples = k).fit(x_train, y_train)\n"
     ]
    },
    {
     "name": "stdout",
     "output_type": "stream",
     "text": [
      "250\n"
     ]
    },
    {
     "name": "stderr",
     "output_type": "stream",
     "text": [
      "<ipython-input-11-f28a9ce02c17>:13: DataConversionWarning: A column-vector y was passed when a 1d array was expected. Please change the shape of y to (n_samples,), for example using ravel().\n",
      "  RandF1 = RandomForestRegressor(max_features = 11, oob_score = True, max_samples = k).fit(x_train, y_train)\n",
      "<ipython-input-11-f28a9ce02c17>:23: DataConversionWarning: A column-vector y was passed when a 1d array was expected. Please change the shape of y to (n_samples,), for example using ravel().\n",
      "  RandF = RandomForestRegressor(max_features = 122, oob_score = True, max_samples = k).fit(x_train, y_train)\n"
     ]
    },
    {
     "name": "stdout",
     "output_type": "stream",
     "text": [
      "251\n"
     ]
    },
    {
     "name": "stderr",
     "output_type": "stream",
     "text": [
      "<ipython-input-11-f28a9ce02c17>:13: DataConversionWarning: A column-vector y was passed when a 1d array was expected. Please change the shape of y to (n_samples,), for example using ravel().\n",
      "  RandF1 = RandomForestRegressor(max_features = 11, oob_score = True, max_samples = k).fit(x_train, y_train)\n",
      "<ipython-input-11-f28a9ce02c17>:23: DataConversionWarning: A column-vector y was passed when a 1d array was expected. Please change the shape of y to (n_samples,), for example using ravel().\n",
      "  RandF = RandomForestRegressor(max_features = 122, oob_score = True, max_samples = k).fit(x_train, y_train)\n"
     ]
    },
    {
     "name": "stdout",
     "output_type": "stream",
     "text": [
      "252\n"
     ]
    },
    {
     "name": "stderr",
     "output_type": "stream",
     "text": [
      "<ipython-input-11-f28a9ce02c17>:13: DataConversionWarning: A column-vector y was passed when a 1d array was expected. Please change the shape of y to (n_samples,), for example using ravel().\n",
      "  RandF1 = RandomForestRegressor(max_features = 11, oob_score = True, max_samples = k).fit(x_train, y_train)\n",
      "<ipython-input-11-f28a9ce02c17>:23: DataConversionWarning: A column-vector y was passed when a 1d array was expected. Please change the shape of y to (n_samples,), for example using ravel().\n",
      "  RandF = RandomForestRegressor(max_features = 122, oob_score = True, max_samples = k).fit(x_train, y_train)\n"
     ]
    },
    {
     "name": "stdout",
     "output_type": "stream",
     "text": [
      "253\n"
     ]
    },
    {
     "name": "stderr",
     "output_type": "stream",
     "text": [
      "<ipython-input-11-f28a9ce02c17>:13: DataConversionWarning: A column-vector y was passed when a 1d array was expected. Please change the shape of y to (n_samples,), for example using ravel().\n",
      "  RandF1 = RandomForestRegressor(max_features = 11, oob_score = True, max_samples = k).fit(x_train, y_train)\n",
      "<ipython-input-11-f28a9ce02c17>:23: DataConversionWarning: A column-vector y was passed when a 1d array was expected. Please change the shape of y to (n_samples,), for example using ravel().\n",
      "  RandF = RandomForestRegressor(max_features = 122, oob_score = True, max_samples = k).fit(x_train, y_train)\n"
     ]
    },
    {
     "name": "stdout",
     "output_type": "stream",
     "text": [
      "254\n"
     ]
    },
    {
     "name": "stderr",
     "output_type": "stream",
     "text": [
      "<ipython-input-11-f28a9ce02c17>:13: DataConversionWarning: A column-vector y was passed when a 1d array was expected. Please change the shape of y to (n_samples,), for example using ravel().\n",
      "  RandF1 = RandomForestRegressor(max_features = 11, oob_score = True, max_samples = k).fit(x_train, y_train)\n",
      "<ipython-input-11-f28a9ce02c17>:23: DataConversionWarning: A column-vector y was passed when a 1d array was expected. Please change the shape of y to (n_samples,), for example using ravel().\n",
      "  RandF = RandomForestRegressor(max_features = 122, oob_score = True, max_samples = k).fit(x_train, y_train)\n"
     ]
    },
    {
     "name": "stdout",
     "output_type": "stream",
     "text": [
      "255\n"
     ]
    },
    {
     "name": "stderr",
     "output_type": "stream",
     "text": [
      "<ipython-input-11-f28a9ce02c17>:13: DataConversionWarning: A column-vector y was passed when a 1d array was expected. Please change the shape of y to (n_samples,), for example using ravel().\n",
      "  RandF1 = RandomForestRegressor(max_features = 11, oob_score = True, max_samples = k).fit(x_train, y_train)\n",
      "<ipython-input-11-f28a9ce02c17>:23: DataConversionWarning: A column-vector y was passed when a 1d array was expected. Please change the shape of y to (n_samples,), for example using ravel().\n",
      "  RandF = RandomForestRegressor(max_features = 122, oob_score = True, max_samples = k).fit(x_train, y_train)\n"
     ]
    },
    {
     "name": "stdout",
     "output_type": "stream",
     "text": [
      "256\n"
     ]
    },
    {
     "name": "stderr",
     "output_type": "stream",
     "text": [
      "<ipython-input-11-f28a9ce02c17>:13: DataConversionWarning: A column-vector y was passed when a 1d array was expected. Please change the shape of y to (n_samples,), for example using ravel().\n",
      "  RandF1 = RandomForestRegressor(max_features = 11, oob_score = True, max_samples = k).fit(x_train, y_train)\n",
      "<ipython-input-11-f28a9ce02c17>:23: DataConversionWarning: A column-vector y was passed when a 1d array was expected. Please change the shape of y to (n_samples,), for example using ravel().\n",
      "  RandF = RandomForestRegressor(max_features = 122, oob_score = True, max_samples = k).fit(x_train, y_train)\n"
     ]
    },
    {
     "name": "stdout",
     "output_type": "stream",
     "text": [
      "257\n"
     ]
    },
    {
     "name": "stderr",
     "output_type": "stream",
     "text": [
      "<ipython-input-11-f28a9ce02c17>:13: DataConversionWarning: A column-vector y was passed when a 1d array was expected. Please change the shape of y to (n_samples,), for example using ravel().\n",
      "  RandF1 = RandomForestRegressor(max_features = 11, oob_score = True, max_samples = k).fit(x_train, y_train)\n",
      "<ipython-input-11-f28a9ce02c17>:23: DataConversionWarning: A column-vector y was passed when a 1d array was expected. Please change the shape of y to (n_samples,), for example using ravel().\n",
      "  RandF = RandomForestRegressor(max_features = 122, oob_score = True, max_samples = k).fit(x_train, y_train)\n"
     ]
    },
    {
     "name": "stdout",
     "output_type": "stream",
     "text": [
      "258\n"
     ]
    },
    {
     "name": "stderr",
     "output_type": "stream",
     "text": [
      "<ipython-input-11-f28a9ce02c17>:13: DataConversionWarning: A column-vector y was passed when a 1d array was expected. Please change the shape of y to (n_samples,), for example using ravel().\n",
      "  RandF1 = RandomForestRegressor(max_features = 11, oob_score = True, max_samples = k).fit(x_train, y_train)\n",
      "<ipython-input-11-f28a9ce02c17>:23: DataConversionWarning: A column-vector y was passed when a 1d array was expected. Please change the shape of y to (n_samples,), for example using ravel().\n",
      "  RandF = RandomForestRegressor(max_features = 122, oob_score = True, max_samples = k).fit(x_train, y_train)\n"
     ]
    },
    {
     "name": "stdout",
     "output_type": "stream",
     "text": [
      "259\n"
     ]
    },
    {
     "name": "stderr",
     "output_type": "stream",
     "text": [
      "<ipython-input-11-f28a9ce02c17>:13: DataConversionWarning: A column-vector y was passed when a 1d array was expected. Please change the shape of y to (n_samples,), for example using ravel().\n",
      "  RandF1 = RandomForestRegressor(max_features = 11, oob_score = True, max_samples = k).fit(x_train, y_train)\n",
      "<ipython-input-11-f28a9ce02c17>:23: DataConversionWarning: A column-vector y was passed when a 1d array was expected. Please change the shape of y to (n_samples,), for example using ravel().\n",
      "  RandF = RandomForestRegressor(max_features = 122, oob_score = True, max_samples = k).fit(x_train, y_train)\n"
     ]
    },
    {
     "name": "stdout",
     "output_type": "stream",
     "text": [
      "260\n"
     ]
    },
    {
     "name": "stderr",
     "output_type": "stream",
     "text": [
      "<ipython-input-11-f28a9ce02c17>:13: DataConversionWarning: A column-vector y was passed when a 1d array was expected. Please change the shape of y to (n_samples,), for example using ravel().\n",
      "  RandF1 = RandomForestRegressor(max_features = 11, oob_score = True, max_samples = k).fit(x_train, y_train)\n",
      "<ipython-input-11-f28a9ce02c17>:23: DataConversionWarning: A column-vector y was passed when a 1d array was expected. Please change the shape of y to (n_samples,), for example using ravel().\n",
      "  RandF = RandomForestRegressor(max_features = 122, oob_score = True, max_samples = k).fit(x_train, y_train)\n"
     ]
    },
    {
     "name": "stdout",
     "output_type": "stream",
     "text": [
      "261\n"
     ]
    },
    {
     "name": "stderr",
     "output_type": "stream",
     "text": [
      "<ipython-input-11-f28a9ce02c17>:13: DataConversionWarning: A column-vector y was passed when a 1d array was expected. Please change the shape of y to (n_samples,), for example using ravel().\n",
      "  RandF1 = RandomForestRegressor(max_features = 11, oob_score = True, max_samples = k).fit(x_train, y_train)\n",
      "<ipython-input-11-f28a9ce02c17>:23: DataConversionWarning: A column-vector y was passed when a 1d array was expected. Please change the shape of y to (n_samples,), for example using ravel().\n",
      "  RandF = RandomForestRegressor(max_features = 122, oob_score = True, max_samples = k).fit(x_train, y_train)\n"
     ]
    },
    {
     "name": "stdout",
     "output_type": "stream",
     "text": [
      "262\n"
     ]
    },
    {
     "name": "stderr",
     "output_type": "stream",
     "text": [
      "<ipython-input-11-f28a9ce02c17>:13: DataConversionWarning: A column-vector y was passed when a 1d array was expected. Please change the shape of y to (n_samples,), for example using ravel().\n",
      "  RandF1 = RandomForestRegressor(max_features = 11, oob_score = True, max_samples = k).fit(x_train, y_train)\n",
      "<ipython-input-11-f28a9ce02c17>:23: DataConversionWarning: A column-vector y was passed when a 1d array was expected. Please change the shape of y to (n_samples,), for example using ravel().\n",
      "  RandF = RandomForestRegressor(max_features = 122, oob_score = True, max_samples = k).fit(x_train, y_train)\n"
     ]
    },
    {
     "name": "stdout",
     "output_type": "stream",
     "text": [
      "263\n"
     ]
    },
    {
     "name": "stderr",
     "output_type": "stream",
     "text": [
      "<ipython-input-11-f28a9ce02c17>:13: DataConversionWarning: A column-vector y was passed when a 1d array was expected. Please change the shape of y to (n_samples,), for example using ravel().\n",
      "  RandF1 = RandomForestRegressor(max_features = 11, oob_score = True, max_samples = k).fit(x_train, y_train)\n",
      "<ipython-input-11-f28a9ce02c17>:23: DataConversionWarning: A column-vector y was passed when a 1d array was expected. Please change the shape of y to (n_samples,), for example using ravel().\n",
      "  RandF = RandomForestRegressor(max_features = 122, oob_score = True, max_samples = k).fit(x_train, y_train)\n"
     ]
    },
    {
     "name": "stdout",
     "output_type": "stream",
     "text": [
      "264\n"
     ]
    },
    {
     "name": "stderr",
     "output_type": "stream",
     "text": [
      "<ipython-input-11-f28a9ce02c17>:13: DataConversionWarning: A column-vector y was passed when a 1d array was expected. Please change the shape of y to (n_samples,), for example using ravel().\n",
      "  RandF1 = RandomForestRegressor(max_features = 11, oob_score = True, max_samples = k).fit(x_train, y_train)\n",
      "<ipython-input-11-f28a9ce02c17>:23: DataConversionWarning: A column-vector y was passed when a 1d array was expected. Please change the shape of y to (n_samples,), for example using ravel().\n",
      "  RandF = RandomForestRegressor(max_features = 122, oob_score = True, max_samples = k).fit(x_train, y_train)\n"
     ]
    },
    {
     "name": "stdout",
     "output_type": "stream",
     "text": [
      "265\n"
     ]
    },
    {
     "name": "stderr",
     "output_type": "stream",
     "text": [
      "<ipython-input-11-f28a9ce02c17>:13: DataConversionWarning: A column-vector y was passed when a 1d array was expected. Please change the shape of y to (n_samples,), for example using ravel().\n",
      "  RandF1 = RandomForestRegressor(max_features = 11, oob_score = True, max_samples = k).fit(x_train, y_train)\n",
      "<ipython-input-11-f28a9ce02c17>:23: DataConversionWarning: A column-vector y was passed when a 1d array was expected. Please change the shape of y to (n_samples,), for example using ravel().\n",
      "  RandF = RandomForestRegressor(max_features = 122, oob_score = True, max_samples = k).fit(x_train, y_train)\n"
     ]
    },
    {
     "name": "stdout",
     "output_type": "stream",
     "text": [
      "266\n"
     ]
    },
    {
     "name": "stderr",
     "output_type": "stream",
     "text": [
      "<ipython-input-11-f28a9ce02c17>:13: DataConversionWarning: A column-vector y was passed when a 1d array was expected. Please change the shape of y to (n_samples,), for example using ravel().\n",
      "  RandF1 = RandomForestRegressor(max_features = 11, oob_score = True, max_samples = k).fit(x_train, y_train)\n",
      "<ipython-input-11-f28a9ce02c17>:23: DataConversionWarning: A column-vector y was passed when a 1d array was expected. Please change the shape of y to (n_samples,), for example using ravel().\n",
      "  RandF = RandomForestRegressor(max_features = 122, oob_score = True, max_samples = k).fit(x_train, y_train)\n"
     ]
    },
    {
     "name": "stdout",
     "output_type": "stream",
     "text": [
      "267\n"
     ]
    },
    {
     "name": "stderr",
     "output_type": "stream",
     "text": [
      "<ipython-input-11-f28a9ce02c17>:13: DataConversionWarning: A column-vector y was passed when a 1d array was expected. Please change the shape of y to (n_samples,), for example using ravel().\n",
      "  RandF1 = RandomForestRegressor(max_features = 11, oob_score = True, max_samples = k).fit(x_train, y_train)\n",
      "<ipython-input-11-f28a9ce02c17>:23: DataConversionWarning: A column-vector y was passed when a 1d array was expected. Please change the shape of y to (n_samples,), for example using ravel().\n",
      "  RandF = RandomForestRegressor(max_features = 122, oob_score = True, max_samples = k).fit(x_train, y_train)\n"
     ]
    },
    {
     "name": "stdout",
     "output_type": "stream",
     "text": [
      "268\n"
     ]
    },
    {
     "name": "stderr",
     "output_type": "stream",
     "text": [
      "<ipython-input-11-f28a9ce02c17>:13: DataConversionWarning: A column-vector y was passed when a 1d array was expected. Please change the shape of y to (n_samples,), for example using ravel().\n",
      "  RandF1 = RandomForestRegressor(max_features = 11, oob_score = True, max_samples = k).fit(x_train, y_train)\n",
      "<ipython-input-11-f28a9ce02c17>:23: DataConversionWarning: A column-vector y was passed when a 1d array was expected. Please change the shape of y to (n_samples,), for example using ravel().\n",
      "  RandF = RandomForestRegressor(max_features = 122, oob_score = True, max_samples = k).fit(x_train, y_train)\n"
     ]
    },
    {
     "name": "stdout",
     "output_type": "stream",
     "text": [
      "269\n"
     ]
    },
    {
     "name": "stderr",
     "output_type": "stream",
     "text": [
      "<ipython-input-11-f28a9ce02c17>:13: DataConversionWarning: A column-vector y was passed when a 1d array was expected. Please change the shape of y to (n_samples,), for example using ravel().\n",
      "  RandF1 = RandomForestRegressor(max_features = 11, oob_score = True, max_samples = k).fit(x_train, y_train)\n",
      "<ipython-input-11-f28a9ce02c17>:23: DataConversionWarning: A column-vector y was passed when a 1d array was expected. Please change the shape of y to (n_samples,), for example using ravel().\n",
      "  RandF = RandomForestRegressor(max_features = 122, oob_score = True, max_samples = k).fit(x_train, y_train)\n"
     ]
    },
    {
     "name": "stdout",
     "output_type": "stream",
     "text": [
      "270\n"
     ]
    },
    {
     "name": "stderr",
     "output_type": "stream",
     "text": [
      "<ipython-input-11-f28a9ce02c17>:13: DataConversionWarning: A column-vector y was passed when a 1d array was expected. Please change the shape of y to (n_samples,), for example using ravel().\n",
      "  RandF1 = RandomForestRegressor(max_features = 11, oob_score = True, max_samples = k).fit(x_train, y_train)\n",
      "<ipython-input-11-f28a9ce02c17>:23: DataConversionWarning: A column-vector y was passed when a 1d array was expected. Please change the shape of y to (n_samples,), for example using ravel().\n",
      "  RandF = RandomForestRegressor(max_features = 122, oob_score = True, max_samples = k).fit(x_train, y_train)\n"
     ]
    },
    {
     "name": "stdout",
     "output_type": "stream",
     "text": [
      "271\n"
     ]
    },
    {
     "name": "stderr",
     "output_type": "stream",
     "text": [
      "<ipython-input-11-f28a9ce02c17>:13: DataConversionWarning: A column-vector y was passed when a 1d array was expected. Please change the shape of y to (n_samples,), for example using ravel().\n",
      "  RandF1 = RandomForestRegressor(max_features = 11, oob_score = True, max_samples = k).fit(x_train, y_train)\n",
      "<ipython-input-11-f28a9ce02c17>:23: DataConversionWarning: A column-vector y was passed when a 1d array was expected. Please change the shape of y to (n_samples,), for example using ravel().\n",
      "  RandF = RandomForestRegressor(max_features = 122, oob_score = True, max_samples = k).fit(x_train, y_train)\n"
     ]
    },
    {
     "name": "stdout",
     "output_type": "stream",
     "text": [
      "272\n"
     ]
    },
    {
     "name": "stderr",
     "output_type": "stream",
     "text": [
      "<ipython-input-11-f28a9ce02c17>:13: DataConversionWarning: A column-vector y was passed when a 1d array was expected. Please change the shape of y to (n_samples,), for example using ravel().\n",
      "  RandF1 = RandomForestRegressor(max_features = 11, oob_score = True, max_samples = k).fit(x_train, y_train)\n",
      "<ipython-input-11-f28a9ce02c17>:23: DataConversionWarning: A column-vector y was passed when a 1d array was expected. Please change the shape of y to (n_samples,), for example using ravel().\n",
      "  RandF = RandomForestRegressor(max_features = 122, oob_score = True, max_samples = k).fit(x_train, y_train)\n"
     ]
    },
    {
     "name": "stdout",
     "output_type": "stream",
     "text": [
      "273\n"
     ]
    },
    {
     "name": "stderr",
     "output_type": "stream",
     "text": [
      "<ipython-input-11-f28a9ce02c17>:13: DataConversionWarning: A column-vector y was passed when a 1d array was expected. Please change the shape of y to (n_samples,), for example using ravel().\n",
      "  RandF1 = RandomForestRegressor(max_features = 11, oob_score = True, max_samples = k).fit(x_train, y_train)\n",
      "<ipython-input-11-f28a9ce02c17>:23: DataConversionWarning: A column-vector y was passed when a 1d array was expected. Please change the shape of y to (n_samples,), for example using ravel().\n",
      "  RandF = RandomForestRegressor(max_features = 122, oob_score = True, max_samples = k).fit(x_train, y_train)\n"
     ]
    },
    {
     "name": "stdout",
     "output_type": "stream",
     "text": [
      "274\n"
     ]
    },
    {
     "name": "stderr",
     "output_type": "stream",
     "text": [
      "<ipython-input-11-f28a9ce02c17>:13: DataConversionWarning: A column-vector y was passed when a 1d array was expected. Please change the shape of y to (n_samples,), for example using ravel().\n",
      "  RandF1 = RandomForestRegressor(max_features = 11, oob_score = True, max_samples = k).fit(x_train, y_train)\n",
      "<ipython-input-11-f28a9ce02c17>:23: DataConversionWarning: A column-vector y was passed when a 1d array was expected. Please change the shape of y to (n_samples,), for example using ravel().\n",
      "  RandF = RandomForestRegressor(max_features = 122, oob_score = True, max_samples = k).fit(x_train, y_train)\n"
     ]
    },
    {
     "name": "stdout",
     "output_type": "stream",
     "text": [
      "275\n"
     ]
    },
    {
     "name": "stderr",
     "output_type": "stream",
     "text": [
      "<ipython-input-11-f28a9ce02c17>:13: DataConversionWarning: A column-vector y was passed when a 1d array was expected. Please change the shape of y to (n_samples,), for example using ravel().\n",
      "  RandF1 = RandomForestRegressor(max_features = 11, oob_score = True, max_samples = k).fit(x_train, y_train)\n",
      "<ipython-input-11-f28a9ce02c17>:23: DataConversionWarning: A column-vector y was passed when a 1d array was expected. Please change the shape of y to (n_samples,), for example using ravel().\n",
      "  RandF = RandomForestRegressor(max_features = 122, oob_score = True, max_samples = k).fit(x_train, y_train)\n"
     ]
    },
    {
     "name": "stdout",
     "output_type": "stream",
     "text": [
      "276\n"
     ]
    },
    {
     "name": "stderr",
     "output_type": "stream",
     "text": [
      "<ipython-input-11-f28a9ce02c17>:13: DataConversionWarning: A column-vector y was passed when a 1d array was expected. Please change the shape of y to (n_samples,), for example using ravel().\n",
      "  RandF1 = RandomForestRegressor(max_features = 11, oob_score = True, max_samples = k).fit(x_train, y_train)\n",
      "<ipython-input-11-f28a9ce02c17>:23: DataConversionWarning: A column-vector y was passed when a 1d array was expected. Please change the shape of y to (n_samples,), for example using ravel().\n",
      "  RandF = RandomForestRegressor(max_features = 122, oob_score = True, max_samples = k).fit(x_train, y_train)\n"
     ]
    },
    {
     "name": "stdout",
     "output_type": "stream",
     "text": [
      "277\n"
     ]
    },
    {
     "name": "stderr",
     "output_type": "stream",
     "text": [
      "<ipython-input-11-f28a9ce02c17>:13: DataConversionWarning: A column-vector y was passed when a 1d array was expected. Please change the shape of y to (n_samples,), for example using ravel().\n",
      "  RandF1 = RandomForestRegressor(max_features = 11, oob_score = True, max_samples = k).fit(x_train, y_train)\n",
      "<ipython-input-11-f28a9ce02c17>:23: DataConversionWarning: A column-vector y was passed when a 1d array was expected. Please change the shape of y to (n_samples,), for example using ravel().\n",
      "  RandF = RandomForestRegressor(max_features = 122, oob_score = True, max_samples = k).fit(x_train, y_train)\n"
     ]
    },
    {
     "name": "stdout",
     "output_type": "stream",
     "text": [
      "278\n"
     ]
    },
    {
     "name": "stderr",
     "output_type": "stream",
     "text": [
      "<ipython-input-11-f28a9ce02c17>:13: DataConversionWarning: A column-vector y was passed when a 1d array was expected. Please change the shape of y to (n_samples,), for example using ravel().\n",
      "  RandF1 = RandomForestRegressor(max_features = 11, oob_score = True, max_samples = k).fit(x_train, y_train)\n",
      "<ipython-input-11-f28a9ce02c17>:23: DataConversionWarning: A column-vector y was passed when a 1d array was expected. Please change the shape of y to (n_samples,), for example using ravel().\n",
      "  RandF = RandomForestRegressor(max_features = 122, oob_score = True, max_samples = k).fit(x_train, y_train)\n"
     ]
    },
    {
     "name": "stdout",
     "output_type": "stream",
     "text": [
      "279\n"
     ]
    },
    {
     "name": "stderr",
     "output_type": "stream",
     "text": [
      "<ipython-input-11-f28a9ce02c17>:13: DataConversionWarning: A column-vector y was passed when a 1d array was expected. Please change the shape of y to (n_samples,), for example using ravel().\n",
      "  RandF1 = RandomForestRegressor(max_features = 11, oob_score = True, max_samples = k).fit(x_train, y_train)\n",
      "<ipython-input-11-f28a9ce02c17>:23: DataConversionWarning: A column-vector y was passed when a 1d array was expected. Please change the shape of y to (n_samples,), for example using ravel().\n",
      "  RandF = RandomForestRegressor(max_features = 122, oob_score = True, max_samples = k).fit(x_train, y_train)\n"
     ]
    },
    {
     "name": "stdout",
     "output_type": "stream",
     "text": [
      "280\n"
     ]
    },
    {
     "name": "stderr",
     "output_type": "stream",
     "text": [
      "<ipython-input-11-f28a9ce02c17>:13: DataConversionWarning: A column-vector y was passed when a 1d array was expected. Please change the shape of y to (n_samples,), for example using ravel().\n",
      "  RandF1 = RandomForestRegressor(max_features = 11, oob_score = True, max_samples = k).fit(x_train, y_train)\n",
      "<ipython-input-11-f28a9ce02c17>:23: DataConversionWarning: A column-vector y was passed when a 1d array was expected. Please change the shape of y to (n_samples,), for example using ravel().\n",
      "  RandF = RandomForestRegressor(max_features = 122, oob_score = True, max_samples = k).fit(x_train, y_train)\n"
     ]
    },
    {
     "name": "stdout",
     "output_type": "stream",
     "text": [
      "281\n"
     ]
    },
    {
     "name": "stderr",
     "output_type": "stream",
     "text": [
      "<ipython-input-11-f28a9ce02c17>:13: DataConversionWarning: A column-vector y was passed when a 1d array was expected. Please change the shape of y to (n_samples,), for example using ravel().\n",
      "  RandF1 = RandomForestRegressor(max_features = 11, oob_score = True, max_samples = k).fit(x_train, y_train)\n",
      "<ipython-input-11-f28a9ce02c17>:23: DataConversionWarning: A column-vector y was passed when a 1d array was expected. Please change the shape of y to (n_samples,), for example using ravel().\n",
      "  RandF = RandomForestRegressor(max_features = 122, oob_score = True, max_samples = k).fit(x_train, y_train)\n"
     ]
    },
    {
     "name": "stdout",
     "output_type": "stream",
     "text": [
      "282\n"
     ]
    },
    {
     "name": "stderr",
     "output_type": "stream",
     "text": [
      "<ipython-input-11-f28a9ce02c17>:13: DataConversionWarning: A column-vector y was passed when a 1d array was expected. Please change the shape of y to (n_samples,), for example using ravel().\n",
      "  RandF1 = RandomForestRegressor(max_features = 11, oob_score = True, max_samples = k).fit(x_train, y_train)\n",
      "<ipython-input-11-f28a9ce02c17>:23: DataConversionWarning: A column-vector y was passed when a 1d array was expected. Please change the shape of y to (n_samples,), for example using ravel().\n",
      "  RandF = RandomForestRegressor(max_features = 122, oob_score = True, max_samples = k).fit(x_train, y_train)\n"
     ]
    },
    {
     "name": "stdout",
     "output_type": "stream",
     "text": [
      "283\n"
     ]
    },
    {
     "name": "stderr",
     "output_type": "stream",
     "text": [
      "<ipython-input-11-f28a9ce02c17>:13: DataConversionWarning: A column-vector y was passed when a 1d array was expected. Please change the shape of y to (n_samples,), for example using ravel().\n",
      "  RandF1 = RandomForestRegressor(max_features = 11, oob_score = True, max_samples = k).fit(x_train, y_train)\n",
      "<ipython-input-11-f28a9ce02c17>:23: DataConversionWarning: A column-vector y was passed when a 1d array was expected. Please change the shape of y to (n_samples,), for example using ravel().\n",
      "  RandF = RandomForestRegressor(max_features = 122, oob_score = True, max_samples = k).fit(x_train, y_train)\n"
     ]
    },
    {
     "name": "stdout",
     "output_type": "stream",
     "text": [
      "284\n"
     ]
    },
    {
     "name": "stderr",
     "output_type": "stream",
     "text": [
      "<ipython-input-11-f28a9ce02c17>:13: DataConversionWarning: A column-vector y was passed when a 1d array was expected. Please change the shape of y to (n_samples,), for example using ravel().\n",
      "  RandF1 = RandomForestRegressor(max_features = 11, oob_score = True, max_samples = k).fit(x_train, y_train)\n",
      "<ipython-input-11-f28a9ce02c17>:23: DataConversionWarning: A column-vector y was passed when a 1d array was expected. Please change the shape of y to (n_samples,), for example using ravel().\n",
      "  RandF = RandomForestRegressor(max_features = 122, oob_score = True, max_samples = k).fit(x_train, y_train)\n"
     ]
    },
    {
     "name": "stdout",
     "output_type": "stream",
     "text": [
      "285\n"
     ]
    },
    {
     "name": "stderr",
     "output_type": "stream",
     "text": [
      "<ipython-input-11-f28a9ce02c17>:13: DataConversionWarning: A column-vector y was passed when a 1d array was expected. Please change the shape of y to (n_samples,), for example using ravel().\n",
      "  RandF1 = RandomForestRegressor(max_features = 11, oob_score = True, max_samples = k).fit(x_train, y_train)\n",
      "<ipython-input-11-f28a9ce02c17>:23: DataConversionWarning: A column-vector y was passed when a 1d array was expected. Please change the shape of y to (n_samples,), for example using ravel().\n",
      "  RandF = RandomForestRegressor(max_features = 122, oob_score = True, max_samples = k).fit(x_train, y_train)\n"
     ]
    },
    {
     "name": "stdout",
     "output_type": "stream",
     "text": [
      "286\n"
     ]
    },
    {
     "name": "stderr",
     "output_type": "stream",
     "text": [
      "<ipython-input-11-f28a9ce02c17>:13: DataConversionWarning: A column-vector y was passed when a 1d array was expected. Please change the shape of y to (n_samples,), for example using ravel().\n",
      "  RandF1 = RandomForestRegressor(max_features = 11, oob_score = True, max_samples = k).fit(x_train, y_train)\n",
      "<ipython-input-11-f28a9ce02c17>:23: DataConversionWarning: A column-vector y was passed when a 1d array was expected. Please change the shape of y to (n_samples,), for example using ravel().\n",
      "  RandF = RandomForestRegressor(max_features = 122, oob_score = True, max_samples = k).fit(x_train, y_train)\n"
     ]
    },
    {
     "name": "stdout",
     "output_type": "stream",
     "text": [
      "287\n"
     ]
    },
    {
     "name": "stderr",
     "output_type": "stream",
     "text": [
      "<ipython-input-11-f28a9ce02c17>:13: DataConversionWarning: A column-vector y was passed when a 1d array was expected. Please change the shape of y to (n_samples,), for example using ravel().\n",
      "  RandF1 = RandomForestRegressor(max_features = 11, oob_score = True, max_samples = k).fit(x_train, y_train)\n",
      "<ipython-input-11-f28a9ce02c17>:23: DataConversionWarning: A column-vector y was passed when a 1d array was expected. Please change the shape of y to (n_samples,), for example using ravel().\n",
      "  RandF = RandomForestRegressor(max_features = 122, oob_score = True, max_samples = k).fit(x_train, y_train)\n"
     ]
    },
    {
     "name": "stdout",
     "output_type": "stream",
     "text": [
      "288\n"
     ]
    },
    {
     "name": "stderr",
     "output_type": "stream",
     "text": [
      "<ipython-input-11-f28a9ce02c17>:13: DataConversionWarning: A column-vector y was passed when a 1d array was expected. Please change the shape of y to (n_samples,), for example using ravel().\n",
      "  RandF1 = RandomForestRegressor(max_features = 11, oob_score = True, max_samples = k).fit(x_train, y_train)\n",
      "<ipython-input-11-f28a9ce02c17>:23: DataConversionWarning: A column-vector y was passed when a 1d array was expected. Please change the shape of y to (n_samples,), for example using ravel().\n",
      "  RandF = RandomForestRegressor(max_features = 122, oob_score = True, max_samples = k).fit(x_train, y_train)\n"
     ]
    },
    {
     "name": "stdout",
     "output_type": "stream",
     "text": [
      "289\n"
     ]
    },
    {
     "name": "stderr",
     "output_type": "stream",
     "text": [
      "<ipython-input-11-f28a9ce02c17>:13: DataConversionWarning: A column-vector y was passed when a 1d array was expected. Please change the shape of y to (n_samples,), for example using ravel().\n",
      "  RandF1 = RandomForestRegressor(max_features = 11, oob_score = True, max_samples = k).fit(x_train, y_train)\n",
      "<ipython-input-11-f28a9ce02c17>:23: DataConversionWarning: A column-vector y was passed when a 1d array was expected. Please change the shape of y to (n_samples,), for example using ravel().\n",
      "  RandF = RandomForestRegressor(max_features = 122, oob_score = True, max_samples = k).fit(x_train, y_train)\n"
     ]
    },
    {
     "name": "stdout",
     "output_type": "stream",
     "text": [
      "290\n"
     ]
    },
    {
     "name": "stderr",
     "output_type": "stream",
     "text": [
      "<ipython-input-11-f28a9ce02c17>:13: DataConversionWarning: A column-vector y was passed when a 1d array was expected. Please change the shape of y to (n_samples,), for example using ravel().\n",
      "  RandF1 = RandomForestRegressor(max_features = 11, oob_score = True, max_samples = k).fit(x_train, y_train)\n",
      "<ipython-input-11-f28a9ce02c17>:23: DataConversionWarning: A column-vector y was passed when a 1d array was expected. Please change the shape of y to (n_samples,), for example using ravel().\n",
      "  RandF = RandomForestRegressor(max_features = 122, oob_score = True, max_samples = k).fit(x_train, y_train)\n"
     ]
    },
    {
     "name": "stdout",
     "output_type": "stream",
     "text": [
      "291\n"
     ]
    },
    {
     "name": "stderr",
     "output_type": "stream",
     "text": [
      "<ipython-input-11-f28a9ce02c17>:13: DataConversionWarning: A column-vector y was passed when a 1d array was expected. Please change the shape of y to (n_samples,), for example using ravel().\n",
      "  RandF1 = RandomForestRegressor(max_features = 11, oob_score = True, max_samples = k).fit(x_train, y_train)\n",
      "<ipython-input-11-f28a9ce02c17>:23: DataConversionWarning: A column-vector y was passed when a 1d array was expected. Please change the shape of y to (n_samples,), for example using ravel().\n",
      "  RandF = RandomForestRegressor(max_features = 122, oob_score = True, max_samples = k).fit(x_train, y_train)\n"
     ]
    },
    {
     "name": "stdout",
     "output_type": "stream",
     "text": [
      "292\n"
     ]
    },
    {
     "name": "stderr",
     "output_type": "stream",
     "text": [
      "<ipython-input-11-f28a9ce02c17>:13: DataConversionWarning: A column-vector y was passed when a 1d array was expected. Please change the shape of y to (n_samples,), for example using ravel().\n",
      "  RandF1 = RandomForestRegressor(max_features = 11, oob_score = True, max_samples = k).fit(x_train, y_train)\n",
      "<ipython-input-11-f28a9ce02c17>:23: DataConversionWarning: A column-vector y was passed when a 1d array was expected. Please change the shape of y to (n_samples,), for example using ravel().\n",
      "  RandF = RandomForestRegressor(max_features = 122, oob_score = True, max_samples = k).fit(x_train, y_train)\n"
     ]
    },
    {
     "name": "stdout",
     "output_type": "stream",
     "text": [
      "293\n"
     ]
    },
    {
     "name": "stderr",
     "output_type": "stream",
     "text": [
      "<ipython-input-11-f28a9ce02c17>:13: DataConversionWarning: A column-vector y was passed when a 1d array was expected. Please change the shape of y to (n_samples,), for example using ravel().\n",
      "  RandF1 = RandomForestRegressor(max_features = 11, oob_score = True, max_samples = k).fit(x_train, y_train)\n",
      "<ipython-input-11-f28a9ce02c17>:23: DataConversionWarning: A column-vector y was passed when a 1d array was expected. Please change the shape of y to (n_samples,), for example using ravel().\n",
      "  RandF = RandomForestRegressor(max_features = 122, oob_score = True, max_samples = k).fit(x_train, y_train)\n"
     ]
    },
    {
     "name": "stdout",
     "output_type": "stream",
     "text": [
      "294\n"
     ]
    },
    {
     "name": "stderr",
     "output_type": "stream",
     "text": [
      "<ipython-input-11-f28a9ce02c17>:13: DataConversionWarning: A column-vector y was passed when a 1d array was expected. Please change the shape of y to (n_samples,), for example using ravel().\n",
      "  RandF1 = RandomForestRegressor(max_features = 11, oob_score = True, max_samples = k).fit(x_train, y_train)\n",
      "<ipython-input-11-f28a9ce02c17>:23: DataConversionWarning: A column-vector y was passed when a 1d array was expected. Please change the shape of y to (n_samples,), for example using ravel().\n",
      "  RandF = RandomForestRegressor(max_features = 122, oob_score = True, max_samples = k).fit(x_train, y_train)\n"
     ]
    },
    {
     "name": "stdout",
     "output_type": "stream",
     "text": [
      "295\n"
     ]
    },
    {
     "name": "stderr",
     "output_type": "stream",
     "text": [
      "<ipython-input-11-f28a9ce02c17>:13: DataConversionWarning: A column-vector y was passed when a 1d array was expected. Please change the shape of y to (n_samples,), for example using ravel().\n",
      "  RandF1 = RandomForestRegressor(max_features = 11, oob_score = True, max_samples = k).fit(x_train, y_train)\n",
      "<ipython-input-11-f28a9ce02c17>:23: DataConversionWarning: A column-vector y was passed when a 1d array was expected. Please change the shape of y to (n_samples,), for example using ravel().\n",
      "  RandF = RandomForestRegressor(max_features = 122, oob_score = True, max_samples = k).fit(x_train, y_train)\n"
     ]
    },
    {
     "name": "stdout",
     "output_type": "stream",
     "text": [
      "296\n"
     ]
    },
    {
     "name": "stderr",
     "output_type": "stream",
     "text": [
      "<ipython-input-11-f28a9ce02c17>:13: DataConversionWarning: A column-vector y was passed when a 1d array was expected. Please change the shape of y to (n_samples,), for example using ravel().\n",
      "  RandF1 = RandomForestRegressor(max_features = 11, oob_score = True, max_samples = k).fit(x_train, y_train)\n",
      "<ipython-input-11-f28a9ce02c17>:23: DataConversionWarning: A column-vector y was passed when a 1d array was expected. Please change the shape of y to (n_samples,), for example using ravel().\n",
      "  RandF = RandomForestRegressor(max_features = 122, oob_score = True, max_samples = k).fit(x_train, y_train)\n"
     ]
    },
    {
     "name": "stdout",
     "output_type": "stream",
     "text": [
      "297\n"
     ]
    },
    {
     "name": "stderr",
     "output_type": "stream",
     "text": [
      "<ipython-input-11-f28a9ce02c17>:13: DataConversionWarning: A column-vector y was passed when a 1d array was expected. Please change the shape of y to (n_samples,), for example using ravel().\n",
      "  RandF1 = RandomForestRegressor(max_features = 11, oob_score = True, max_samples = k).fit(x_train, y_train)\n",
      "<ipython-input-11-f28a9ce02c17>:23: DataConversionWarning: A column-vector y was passed when a 1d array was expected. Please change the shape of y to (n_samples,), for example using ravel().\n",
      "  RandF = RandomForestRegressor(max_features = 122, oob_score = True, max_samples = k).fit(x_train, y_train)\n"
     ]
    },
    {
     "name": "stdout",
     "output_type": "stream",
     "text": [
      "298\n"
     ]
    },
    {
     "name": "stderr",
     "output_type": "stream",
     "text": [
      "<ipython-input-11-f28a9ce02c17>:13: DataConversionWarning: A column-vector y was passed when a 1d array was expected. Please change the shape of y to (n_samples,), for example using ravel().\n",
      "  RandF1 = RandomForestRegressor(max_features = 11, oob_score = True, max_samples = k).fit(x_train, y_train)\n",
      "<ipython-input-11-f28a9ce02c17>:23: DataConversionWarning: A column-vector y was passed when a 1d array was expected. Please change the shape of y to (n_samples,), for example using ravel().\n",
      "  RandF = RandomForestRegressor(max_features = 122, oob_score = True, max_samples = k).fit(x_train, y_train)\n"
     ]
    },
    {
     "name": "stdout",
     "output_type": "stream",
     "text": [
      "299\n"
     ]
    },
    {
     "name": "stderr",
     "output_type": "stream",
     "text": [
      "<ipython-input-11-f28a9ce02c17>:13: DataConversionWarning: A column-vector y was passed when a 1d array was expected. Please change the shape of y to (n_samples,), for example using ravel().\n",
      "  RandF1 = RandomForestRegressor(max_features = 11, oob_score = True, max_samples = k).fit(x_train, y_train)\n",
      "<ipython-input-11-f28a9ce02c17>:23: DataConversionWarning: A column-vector y was passed when a 1d array was expected. Please change the shape of y to (n_samples,), for example using ravel().\n",
      "  RandF = RandomForestRegressor(max_features = 122, oob_score = True, max_samples = k).fit(x_train, y_train)\n"
     ]
    },
    {
     "name": "stdout",
     "output_type": "stream",
     "text": [
      "[0.04803053184368737, 0.041035964849699416, 0.039515089739478954, 0.037603670961923845, 0.035078113787575145, 0.02958361569138276, 0.028666052685370737, 0.02774453172344689, 0.026843699398797587, 0.02575466194388777, 0.023992857134268544, 0.023112760060120238, 0.02314369170340681, 0.021954539679358714, 0.023699299659318638, 0.021889924388777557, 0.02193895370741483, 0.02060915114228457, 0.02020078893787575, 0.02001515521042084, 0.021107161503006008, 0.019734088777555107, 0.019579211382765523, 0.019484876713426857, 0.01981382629258517, 0.01863038174348697, 0.0200904670741483, 0.01885010841683367, 0.01918726865731463, 0.01892654925851703, 0.01936969188376753, 0.019310130881763525, 0.018529658657314627, 0.01903063424849699, 0.018685113366733466, 0.018309476252505005, 0.01862994206412826, 0.018559119899799595, 0.019023103366733463, 0.01788120953907816, 0.017975841322645292, 0.0186906449498998, 0.01827654929859719, 0.018754548116232467, 0.018389349959919837, 0.018482619038076156, 0.01826243118236473, 0.018338615591182366, 0.018552057154308618, 0.018007916092184367, 0.018755135891783566, 0.018172693386773544, 0.018068278156312626, 0.018038433086172343, 0.017947843607214433, 0.01769366591182365, 0.018163219759519036, 0.018557144008016033, 0.018056022064128253, 0.01778290120240481, 0.01793539617234469, 0.017920568236472947, 0.017462584128256516, 0.017569524729458916, 0.017977813226452907, 0.01753704645290581, 0.017648476613226452, 0.01744215088176353, 0.01741235236472946, 0.01773452038076152, 0.01757660334669339, 0.0179447797995992, 0.01780654861723447, 0.017334419338677354, 0.017331215591182364, 0.017442724749498997, 0.01774332392785571, 0.017666760621242485, 0.017219209539078156, 0.0178925197995992, 0.017551969839679358, 0.01680510901803607, 0.017529318216432863, 0.017762525951903807, 0.017402007655310622, 0.01761013619238477, 0.017364285410821644, 0.0177865328256513, 0.0178569421242485, 0.017731201703406814, 0.017868681202404813, 0.01745778066132264, 0.017734545490981968, 0.017449474328657313, 0.01727598068136272, 0.01753876046092184, 0.017329729879759517, 0.017491709278557113, 0.017773811042084166, 0.016916897214428857, 0.017633169298597193, 0.0173379298997996, 0.01731561841683367, 0.017876820360721444, 0.017919394669338673, 0.017387441282565128, 0.016724832264529064, 0.01730403368737475, 0.01727993905811623, 0.01752577731462926, 0.017719322525050103, 0.01650483829659318, 0.01743499278557114, 0.017053758156312628, 0.017317171943887776, 0.017609669418837674, 0.01699449739478958, 0.017347103547094192, 0.017225777735470946, 0.01763582378757515, 0.01714109947895792, 0.01705460627254509, 0.01778497791583166, 0.017913616092184375, 0.017316585410821643, 0.01740420062124248, 0.017193536072144293, 0.016619448356713425, 0.01734788116232465, 0.017183858176352707, 0.017202224108216434, 0.016930924328657313, 0.01675180843687375, 0.017543922424849697, 0.01710328064128256, 0.01710007120240481, 0.0173253026252505, 0.01690595174348697, 0.01682200156312625, 0.01685884478957916, 0.017856454769539076, 0.01743574376753507, 0.017002003026052103, 0.01767321887775551, 0.017021273226452905, 0.016594924609218433, 0.01760645735470942, 0.017334835611222444, 0.01678279653306613, 0.017530282204408817, 0.017020659859719442, 0.01676601615230461, 0.017076142985971945, 0.016928946893787575, 0.017209144509018035, 0.017183887935871743, 0.017515070080160317, 0.016936528396793587, 0.016855174448897794, 0.01723784539078156, 0.017172333006012022, 0.016409447895791584, 0.0171161124248497, 0.01707203853707415, 0.01724901360721443, 0.01718580893787575, 0.01715949366733467, 0.016917321903807618, 0.01692730911823647, 0.016905155270541084, 0.017260849058116232, 0.017215412785571146, 0.017447114549098197, 0.0171210695991984, 0.01744782480961924, 0.017224955350701402, 0.016823475751503, 0.016923942625250498, 0.01686028511022044, 0.017082056132264534, 0.01677687220440882, 0.017021464749499, 0.01707796094188377, 0.017124098136272546, 0.01708292396793587, 0.01691156056112224, 0.016875667074148296, 0.01684046893787575, 0.01743329388777555, 0.01674795847695391, 0.01675531120240481, 0.01664716358717435, 0.017064651783567135, 0.017264825651302603, 0.01688375709418837, 0.016824503266533068, 0.016841833286573148, 0.01685584450901804, 0.016705120601202408, 0.01656723362725451, 0.017304117034068138, 0.01749030813627254, 0.01700321599198397, 0.016849077294589176, 0.017006811703406816, 0.01644652513026052, 0.017160179539078158, 0.017073386272545087, 0.016338324529058118, 0.016806069258517034, 0.016773111803607212, 0.016518832184368736, 0.016947277334669338, 0.01688657743486974, 0.0166154324248497, 0.016721108136272547, 0.01681603671342685, 0.01727230695390781, 0.016882003186372747, 0.01699779098196393, 0.01673134154308617, 0.0162638071743487, 0.016846133947895792, 0.016872409178356713, 0.016595075430861722, 0.017072500681362724, 0.01726784400801603, 0.01704568633266533, 0.017332901943887775, 0.017173008577154304, 0.016424142204408812, 0.016778672244488976, 0.016854921482965933, 0.01666527935871744, 0.016870358577154305, 0.016382804088176356, 0.017237847775551103, 0.016478020280561122, 0.016401967434869737, 0.016755632304609223, 0.01699933823647294, 0.016546982505010025, 0.017186108056112225, 0.016381366733466934, 0.01668078657314629, 0.01645685076152304, 0.016996420440881767, 0.017182873146292583, 0.016553427735470937, 0.017286534549098193, 0.01668445266533066, 0.016883107094188377, 0.016341128797595188, 0.016819563647294592, 0.01649263264529058, 0.017172600541082165, 0.016711910601202404, 0.01688777855711423, 0.016030345250501003, 0.01711476228456914, 0.017134569458917837, 0.016761810460921844, 0.01684345679358717, 0.016821331663326652, 0.016351985851703405, 0.016550519138276553, 0.01668772709418838, 0.016737298937875757, 0.017023806212424848, 0.016628625290581164, 0.016518163967935873, 0.016765299078156312, 0.016618598236472947, 0.01690467845691383, 0.01698940128256513, 0.016437644188376753, 0.016609535290581165, 0.016924301382765527, 0.016726829979959917, 0.015956840641282565, 0.016692958677354704, 0.016687105430861725, 0.016537555070140278, 0.016751813166332664, 0.016572659158316634, 0.016508545010020036, 0.0167327330260521, 0.016819656332665328, 0.01685654126252505, 0.016711755831663327, 0.01674479885771543, 0.0166414650501002, 0.016989049478957914, 0.01683349871743487, 0.0164855016232465, 0.016549109318637276, 0.017071291703406814, 0.01685069486973948, 0.016713530981963928]\n"
     ]
    }
   ],
   "source": [
    "from sklearn.ensemble import RandomForestClassifier\n",
    "from sklearn.datasets import make_classification\n",
    "from sklearn.ensemble import RandomForestRegressor\n",
    "\n",
    "\n",
    "# Features @ 11\n",
    "oob1 = []\n",
    "oob = []\n",
    "mse = []\n",
    "mse1 = []\n",
    "for k in range (1, 300, 1):\n",
    "    #print(k)\n",
    "    RandF1 = RandomForestRegressor(max_features = 11, oob_score = True, max_samples = k).fit(x_train, y_train)\n",
    "    pred_testRandF1 = RandF1.predict(x_test)\n",
    "    oob1.append(RandF1.oob_score_)\n",
    "    mse1.append(mean_squared_error(y_test, pred_testRandF1))\n",
    "\n",
    "# Features @ 122\n",
    "    RandF = RandomForestRegressor(max_features = 122, oob_score = True, max_samples = k).fit(x_train, y_train)\n",
    "    pred_testRandF = RandF.predict(x_test)\n",
    "    oob.append(RandF.oob_score_)\n",
    "    mse.append(mean_squared_error(y_test, pred_testRandF))\n",
    "\n",
    "\n",
    "\n"
   ]
  },
  {
   "cell_type": "code",
   "execution_count": 35,
   "metadata": {},
   "outputs": [
    {
     "data": {
      "text/plain": [
       "Text(0, 0.5, 'MSE')"
      ]
     },
     "execution_count": 35,
     "metadata": {},
     "output_type": "execute_result"
    },
    {
     "data": {
      "image/png": "[encoded data removed]",
      "text/plain": [
       "<Figure size 432x288 with 1 Axes>"
      ]
     },
     "metadata": {
      "needs_background": "light"
     },
     "output_type": "display_data"
    }
   ],
   "source": [
    "#sb.lineplot(x = x_train, y = y_train)\n",
    "sb.lineplot(x = oob1, y = mse1, label = \"m = 11\")\n",
    "sb.lineplot(x = oob, y = mse, label = \"m = 122\")\n",
    "plt.xlabel('B')\n",
    "plt.ylabel('MSE')\n"
   ]
  },
  {
   "cell_type": "markdown",
   "metadata": {},
   "source": [
    "2.j\n",
    "\n",
    "Build a variable importance plot (see p. 319 of ISLR) from your random forest. If the variable importance plot is hard to read, only keep the top 10 most important features."
   ]
  },
  {
   "cell_type": "code",
   "execution_count": 38,
   "metadata": {},
   "outputs": [
    {
     "name": "stdout",
     "output_type": "stream",
     "text": [
      "Feature Importance\n"
     ]
    },
    {
     "ename": "NameError",
     "evalue": "name 'RandF1' is not defined",
     "output_type": "error",
     "traceback": [
      "\u001b[0;31m---------------------------------------------------------------------------\u001b[0m",
      "\u001b[0;31mNameError\u001b[0m                                 Traceback (most recent call last)",
      "\u001b[0;32m<ipython-input-38-0fe7765459bd>\u001b[0m in \u001b[0;36m<module>\u001b[0;34m\u001b[0m\n\u001b[1;32m      2\u001b[0m \u001b[0;34m\u001b[0m\u001b[0m\n\u001b[1;32m      3\u001b[0m \u001b[0mprint\u001b[0m\u001b[0;34m(\u001b[0m\u001b[0;34m\"Feature Importance\"\u001b[0m\u001b[0;34m)\u001b[0m\u001b[0;34m\u001b[0m\u001b[0;34m\u001b[0m\u001b[0m\n\u001b[0;32m----> 4\u001b[0;31m \u001b[0mFI\u001b[0m \u001b[0;34m=\u001b[0m \u001b[0mRandF1\u001b[0m\u001b[0;34m.\u001b[0m\u001b[0mfeature_importances_\u001b[0m\u001b[0;34m\u001b[0m\u001b[0;34m\u001b[0m\u001b[0m\n\u001b[0m\u001b[1;32m      5\u001b[0m \u001b[0mFI\u001b[0m \u001b[0;34m=\u001b[0m \u001b[0mpd\u001b[0m\u001b[0;34m.\u001b[0m\u001b[0mDataFrame\u001b[0m\u001b[0;34m(\u001b[0m\u001b[0mFI\u001b[0m\u001b[0;34m)\u001b[0m\u001b[0;34m\u001b[0m\u001b[0;34m\u001b[0m\u001b[0m\n",
      "\u001b[0;31mNameError\u001b[0m: name 'RandF1' is not defined"
     ]
    }
   ],
   "source": [
    "# Find Important Features\n",
    "\n",
    "print(\"Feature Importance\")\n",
    "FI = RandF1.feature_importances_\n",
    "FI = pd.DataFrame(FI)\n"
   ]
  },
  {
   "cell_type": "code",
   "execution_count": 21,
   "metadata": {},
   "outputs": [
    {
     "ename": "NameError",
     "evalue": "name 'FI' is not defined",
     "output_type": "error",
     "traceback": [
      "\u001b[0;31m---------------------------------------------------------------------------\u001b[0m",
      "\u001b[0;31mNameError\u001b[0m                                 Traceback (most recent call last)",
      "\u001b[0;32m<ipython-input-21-3ab5d5fa9251>\u001b[0m in \u001b[0;36m<module>\u001b[0;34m\u001b[0m\n\u001b[0;32m----> 1\u001b[0;31m \u001b[0mFI\u001b[0m\u001b[0;34m[\u001b[0m\u001b[0;36m1\u001b[0m\u001b[0;34m:\u001b[0m\u001b[0;36m10\u001b[0m\u001b[0;34m]\u001b[0m\u001b[0;34m\u001b[0m\u001b[0;34m\u001b[0m\u001b[0m\n\u001b[0m",
      "\u001b[0;31mNameError\u001b[0m: name 'FI' is not defined"
     ]
    }
   ],
   "source": [
    "FI"
   ]
  },
  {
   "cell_type": "code",
   "execution_count": 28,
   "metadata": {},
   "outputs": [
    {
     "name": "stdout",
     "output_type": "stream",
     "text": [
      "[  0   1   2   3   4   5   6   7   8   9  10  11  12  13  14  15  16  17\n",
      "  18  19  20  21  22  23  24  25  26  27  28  29  30  31  32  33  34  35\n",
      "  36  37  38  39  40  41  42  43  44  45  46  47  48  49  50  51  52  53\n",
      "  54  55  56  57  58  59  60  61  62  63  64  65  66  67  68  69  70  71\n",
      "  72  73  74  75  76  77  78  79  80  81  82  83  84  85  86  87  88  89\n",
      "  90  91  92  93  94  95  96  97  98  99 100 101 102 103 104 105 106 107\n",
      " 108 109 110 111 112 113 114 115 116 117 118 119 120 121]\n"
     ]
    },
    {
     "data": {
      "text/plain": [
       "<AxesSubplot:>"
      ]
     },
     "execution_count": 28,
     "metadata": {},
     "output_type": "execute_result"
    },
    {
     "data": {
      "image/png": "[encoded data removed]",
      "text/plain": [
       "<Figure size 432x288 with 1 Axes>"
      ]
     },
     "metadata": {
      "needs_background": "light"
     },
     "output_type": "display_data"
    }
   ],
   "source": [
    "# Variable Importance Plot\n",
    "\n",
    "FI.plot()"
   ]
  },
  {
   "cell_type": "code",
   "execution_count": null,
   "metadata": {},
   "outputs": [],
   "source": []
  }
 ],
 "metadata": {
  "kernelspec": {
   "display_name": "Python 3",
   "language": "python",
   "name": "python3"
  },
  "language_info": {
   "codemirror_mode": {
    "name": "ipython",
    "version": 3
   },
   "file_extension": ".py",
   "mimetype": "text/x-python",
   "name": "python",
   "nbconvert_exporter": "python",
   "pygments_lexer": "ipython3",
   "version": "3.8.5"
  }
 },
 "nbformat": 4,
 "nbformat_minor": 4
}
